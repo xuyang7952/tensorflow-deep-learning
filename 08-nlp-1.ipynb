{
 "cells": [
  {
   "cell_type": "markdown",
   "metadata": {},
   "source": [
    "# 08. Natural Language Processing with TensorFlow  NLP\n",
    "\n",
    "文本--> 数字-> 模型-> 训练模型-> 寻找模式-> 使用模式（生成预测）\n",
    "\n",
    "![](https://raw.githubusercontent.com/mrdbourke/tensorflow-deep-learning/main/images/08-example-nlp-problems.png)\n",
    "*A handful of example natural language processing (NLP) and natural language understanding (NLU) problems. These are also often referred to as sequence problems (going from one sequence to another).*\n",
    "\n",
    "The main goal of [natural language processing (NLP)](https://becominghuman.ai/a-simple-introduction-to-natural-language-processing-ea66a1747b32) is to derive information from natural language.\n",
    "\n",
    "Natural language is a broad term but you can consider it to cover any of the following:\n",
    "* Text (such as that contained in an email, blog post, book, Tweet)\n",
    "* Speech (a conversation you have with a doctor, voice commands you give to a smart speaker)\n",
    "\n",
    "Under the umbrellas of text and speech there are many different things you might want to do.\n",
    "\n",
    "If you're building an email application, you might want to scan incoming emails to see if they're spam or not spam (classification).\n",
    "\n",
    "If you're trying to analyse customer feedback complaints, you might want to discover which section of your business they're for.\n",
    "\n",
    "> 🔑 **Note:** Both of these types of data are often referred to as *sequences* (a sentence is a sequence of words). So a common term you'll come across in NLP problems is called *seq2seq*, in other words, finding information in one sequence to produce another sequence (e.g. converting a speech command to a sequence of text-based steps).\n",
    "\n",
    "To get hands-on with NLP in TensorFlow, we're going to practice the steps we've used previously but this time with text data:\n",
    "\n",
    "```\n",
    "Text -> turn into numbers -> build a model -> train the model to find patterns -> use patterns (make predictions)\n",
    "```\n",
    "\n",
    "> 📖 **Resource:** For a great overview of NLP and the different problems within it, read the article [*A Simple Introduction to Natural Language Processing*](https://becominghuman.ai/a-simple-introduction-to-natural-language-processing-ea66a1747b32).\n",
    "\n",
    "## What we're going to cover\n",
    "\n",
    "Let's get specific hey?\n",
    "\n",
    "* Downloading a text dataset\n",
    "* Visualizing text data\n",
    "* Converting text into numbers using tokenization\n",
    "* Turning our tokenized text into an embedding\n",
    "* Modelling a text dataset\n",
    "  * Starting with a baseline (TF-IDF)\n",
    "  * Building several deep learning text models\n",
    "    * Dense, LSTM, GRU, Conv1D, Transfer learning\n",
    "* Comparing the performance of each our models\n",
    "* Combining our models into an ensemble\n",
    "* Saving and loading a trained model\n",
    "* Find the most wrong predictions\n",
    "\n",
    "## How you should approach this notebook\n",
    "\n",
    "You can read through the descriptions and the code (it should all run, except for the cells which error on purpose), but there's a better option.\n",
    "\n",
    "Write all of the code yourself.\n",
    "\n",
    "Yes. I'm serious. Create a new notebook, and rewrite each line by yourself. Investigate it, see if you can break it, why does it break?\n",
    "\n",
    "You don't have to write the text descriptions but writing the code yourself is a great way to get hands-on experience.\n",
    "\n",
    "Don't worry if you make mistakes, we all do. The way to get better and make less mistakes is to write more code.\n",
    "\n",
    "> 📖 **Resource:** See the full set of course materials on GitHub: https://github.com/mrdbourke/tensorflow-deep-learning"
   ]
  },
  {
   "cell_type": "code",
   "execution_count": 1,
   "metadata": {},
   "outputs": [
    {
     "name": "stdout",
     "output_type": "stream",
     "text": [
      "Notebook last run (end-to-end): 2025-01-22 10:27:49.762145\n"
     ]
    }
   ],
   "source": [
    "import datetime\n",
    "print(f\"Notebook last run (end-to-end): {datetime.datetime.now()}\")"
   ]
  },
  {
   "cell_type": "markdown",
   "metadata": {},
   "source": [
    "## Check for GPU\n",
    "\n",
    "In order for our deep learning models to run as fast as possible, we'll need access to a GPU.\n",
    "\n",
    "In Google Colab, you can set this up by going to Runtime -> Change runtime type -> Hardware accelerator -> GPU.\n",
    "\n",
    "After selecting GPU, you may have to restart the runtime."
   ]
  },
  {
   "cell_type": "code",
   "execution_count": 2,
   "metadata": {},
   "outputs": [
    {
     "name": "stdout",
     "output_type": "stream",
     "text": [
      "/bin/bash: nvidia-smi: command not found\n"
     ]
    }
   ],
   "source": [
    "!nvidia-smi -L"
   ]
  },
  {
   "cell_type": "markdown",
   "metadata": {},
   "source": [
    "## Get helper functions\n",
    "\n",
    "In past modules, we've created a bunch of helper functions to do small tasks required for our notebooks.\n",
    "\n",
    "Rather than rewrite all of these, we can import a script and load them in from there.\n",
    "\n",
    "The script containing our helper functions can be [found on GitHub](https://github.com/mrdbourke/tensorflow-deep-learning/blob/main/extras/helper_functions.py)."
   ]
  },
  {
   "cell_type": "code",
   "execution_count": 3,
   "metadata": {},
   "outputs": [],
   "source": [
    "import os\n",
    "if not os.path.exists('helper_functions.py'):\n",
    "    !wget https://raw.githubusercontent.com/mrdbourke/tensorflow-deep-learning/main/extras/helper_functions.py"
   ]
  },
  {
   "cell_type": "code",
   "execution_count": 4,
   "metadata": {},
   "outputs": [
    {
     "name": "stderr",
     "output_type": "stream",
     "text": [
      "2025-01-22 10:27:49.931995: I tensorflow/core/platform/cpu_feature_guard.cc:193] This TensorFlow binary is optimized with oneAPI Deep Neural Network Library (oneDNN) to use the following CPU instructions in performance-critical operations:  AVX2 AVX512F AVX512_VNNI AVX512_BF16 AVX_VNNI AMX_TILE AMX_INT8 AMX_BF16 FMA\n",
      "To enable them in other operations, rebuild TensorFlow with the appropriate compiler flags.\n",
      "2025-01-22 10:27:50.041074: I tensorflow/core/util/util.cc:169] oneDNN custom operations are on. You may see slightly different numerical results due to floating-point round-off errors from different computation orders. To turn them off, set the environment variable `TF_ENABLE_ONEDNN_OPTS=0`.\n",
      "2025-01-22 10:27:50.046171: W tensorflow/stream_executor/platform/default/dso_loader.cc:64] Could not load dynamic library 'libcudart.so.11.0'; dlerror: libcudart.so.11.0: cannot open shared object file: No such file or directory\n",
      "2025-01-22 10:27:50.046185: I tensorflow/stream_executor/cuda/cudart_stub.cc:29] Ignore above cudart dlerror if you do not have a GPU set up on your machine.\n",
      "2025-01-22 10:27:50.070649: E tensorflow/stream_executor/cuda/cuda_blas.cc:2981] Unable to register cuBLAS factory: Attempting to register factory for plugin cuBLAS when one has already been registered\n",
      "2025-01-22 10:27:50.587465: W tensorflow/stream_executor/platform/default/dso_loader.cc:64] Could not load dynamic library 'libnvinfer.so.7'; dlerror: libnvinfer.so.7: cannot open shared object file: No such file or directory\n",
      "2025-01-22 10:27:50.587514: W tensorflow/stream_executor/platform/default/dso_loader.cc:64] Could not load dynamic library 'libnvinfer_plugin.so.7'; dlerror: libnvinfer_plugin.so.7: cannot open shared object file: No such file or directory\n",
      "2025-01-22 10:27:50.587520: W tensorflow/compiler/tf2tensorrt/utils/py_utils.cc:38] TF-TRT Warning: Cannot dlopen some TensorRT libraries. If you would like to use Nvidia GPU with TensorRT, please make sure the missing libraries mentioned above are installed properly.\n"
     ]
    }
   ],
   "source": [
    "from helper_functions import unzip_data, create_tensorboard_callback, plot_loss_curves, compare_historys"
   ]
  },
  {
   "cell_type": "markdown",
   "metadata": {},
   "source": [
    "## Download a text dataset\n",
    "\n",
    "Let's start by download a text dataset. We'll be using the [Real or Not?](https://www.kaggle.com/c/nlp-getting-started/data) dataset from Kaggle which contains text-based Tweets about natural disasters. \n",
    "\n",
    "The Real Tweets are actually about disasters, for example:\n",
    "\n",
    "```\n",
    "Jetstar and Virgin forced to cancel Bali flights again because of ash from Mount Raung volcano\n",
    "```\n",
    "\n",
    "The Not Real Tweets are Tweets not about disasters (they can be on anything), for example:\n",
    "\n",
    "```\n",
    "'Education is the most powerful weapon which you can use to change the world.' Nelson #Mandela #quote\n",
    "```\n",
    "\n",
    "For convenience, the dataset has been [downloaded from Kaggle](https://www.kaggle.com/c/nlp-getting-started/data) (doing this requires a Kaggle account) and uploaded as a downloadable zip file. \n",
    "\n",
    "> 🔑 **Note:** The original downloaded data has not been altered to how you would download it from Kaggle."
   ]
  },
  {
   "cell_type": "code",
   "execution_count": 5,
   "metadata": {},
   "outputs": [],
   "source": [
    "if not os.path.exists(\"nlp_getting_started.zip\"):\n",
    "    !wget \"https://storage.googleapis.com/ztm_tf_course/nlp_getting_started.zip\"\n",
    "\n",
    "# Unzip data\n",
    "if not os.path.exists(\"nlp_getting_started\"):\n",
    "    unzip_data(\"nlp_getting_started.zip\")"
   ]
  },
  {
   "cell_type": "markdown",
   "metadata": {},
   "source": [
    "Unzipping `nlp_getting_started.zip` gives the following 3 `.csv` files:\n",
    "\n",
    "三个csv文件，sample_submission.csv 是提交给Kaggle竞赛的样例文件，train.csv 是训练数据，test.csv 是测试数据。\n",
    "\n",
    "* `sample_submission.csv` - an example of the file you'd submit to the Kaggle competition of your model's predictions.\n",
    "* `train.csv` - training samples of real and not real diaster Tweets.\n",
    "* `test.csv` - testing samples of real and not real diaster Tweets."
   ]
  },
  {
   "cell_type": "markdown",
   "metadata": {},
   "source": [
    "## Visualizing a text dataset  可视化数据\n",
    "\n",
    "Once you've acquired a new dataset to work with, what should you do first?\n",
    "\n",
    "Explore it? Inspect it? Verify it? Become one with it?\n",
    "\n",
    "All correct.\n",
    "\n",
    "Remember the motto: visualize, visualize, visualize.\n",
    "\n",
    "Right now, our text data samples are in the form of `.csv` files. For an easy way to make them visual, let's turn them into pandas DataFrame's.\n",
    "\n",
    "> 📖 **Reading:** You might come across text datasets in many different formats. Aside from CSV files (what we're working with), you'll probably encounter `.txt` files and `.json` files too. For working with these type of files, I'd recommend reading the two following articles by RealPython:\n",
    "* [How to Read and Write Files in Python](https://realpython.com/read-write-files-python/)\n",
    "* [Working with JSON Data in Python](https://realpython.com/python-json/)"
   ]
  },
  {
   "cell_type": "code",
   "execution_count": 6,
   "metadata": {},
   "outputs": [
    {
     "data": {
      "text/html": [
       "<div>\n",
       "<style scoped>\n",
       "    .dataframe tbody tr th:only-of-type {\n",
       "        vertical-align: middle;\n",
       "    }\n",
       "\n",
       "    .dataframe tbody tr th {\n",
       "        vertical-align: top;\n",
       "    }\n",
       "\n",
       "    .dataframe thead th {\n",
       "        text-align: right;\n",
       "    }\n",
       "</style>\n",
       "<table border=\"1\" class=\"dataframe\">\n",
       "  <thead>\n",
       "    <tr style=\"text-align: right;\">\n",
       "      <th></th>\n",
       "      <th>id</th>\n",
       "      <th>keyword</th>\n",
       "      <th>location</th>\n",
       "      <th>text</th>\n",
       "      <th>target</th>\n",
       "    </tr>\n",
       "  </thead>\n",
       "  <tbody>\n",
       "    <tr>\n",
       "      <th>0</th>\n",
       "      <td>1</td>\n",
       "      <td>NaN</td>\n",
       "      <td>NaN</td>\n",
       "      <td>Our Deeds are the Reason of this #earthquake M...</td>\n",
       "      <td>1</td>\n",
       "    </tr>\n",
       "    <tr>\n",
       "      <th>1</th>\n",
       "      <td>4</td>\n",
       "      <td>NaN</td>\n",
       "      <td>NaN</td>\n",
       "      <td>Forest fire near La Ronge Sask. Canada</td>\n",
       "      <td>1</td>\n",
       "    </tr>\n",
       "    <tr>\n",
       "      <th>2</th>\n",
       "      <td>5</td>\n",
       "      <td>NaN</td>\n",
       "      <td>NaN</td>\n",
       "      <td>All residents asked to 'shelter in place' are ...</td>\n",
       "      <td>1</td>\n",
       "    </tr>\n",
       "    <tr>\n",
       "      <th>3</th>\n",
       "      <td>6</td>\n",
       "      <td>NaN</td>\n",
       "      <td>NaN</td>\n",
       "      <td>13,000 people receive #wildfires evacuation or...</td>\n",
       "      <td>1</td>\n",
       "    </tr>\n",
       "    <tr>\n",
       "      <th>4</th>\n",
       "      <td>7</td>\n",
       "      <td>NaN</td>\n",
       "      <td>NaN</td>\n",
       "      <td>Just got sent this photo from Ruby #Alaska as ...</td>\n",
       "      <td>1</td>\n",
       "    </tr>\n",
       "  </tbody>\n",
       "</table>\n",
       "</div>"
      ],
      "text/plain": [
       "   id keyword location                                               text  \\\n",
       "0   1     NaN      NaN  Our Deeds are the Reason of this #earthquake M...   \n",
       "1   4     NaN      NaN             Forest fire near La Ronge Sask. Canada   \n",
       "2   5     NaN      NaN  All residents asked to 'shelter in place' are ...   \n",
       "3   6     NaN      NaN  13,000 people receive #wildfires evacuation or...   \n",
       "4   7     NaN      NaN  Just got sent this photo from Ruby #Alaska as ...   \n",
       "\n",
       "   target  \n",
       "0       1  \n",
       "1       1  \n",
       "2       1  \n",
       "3       1  \n",
       "4       1  "
      ]
     },
     "execution_count": 6,
     "metadata": {},
     "output_type": "execute_result"
    }
   ],
   "source": [
    "import pandas as pd\n",
    "train_df = pd.read_csv(\"train.csv\")\n",
    "test_df = pd.read_csv(\"test.csv\")\n",
    "train_df.head()"
   ]
  },
  {
   "cell_type": "code",
   "execution_count": 7,
   "metadata": {},
   "outputs": [
    {
     "data": {
      "text/html": [
       "<div>\n",
       "<style scoped>\n",
       "    .dataframe tbody tr th:only-of-type {\n",
       "        vertical-align: middle;\n",
       "    }\n",
       "\n",
       "    .dataframe tbody tr th {\n",
       "        vertical-align: top;\n",
       "    }\n",
       "\n",
       "    .dataframe thead th {\n",
       "        text-align: right;\n",
       "    }\n",
       "</style>\n",
       "<table border=\"1\" class=\"dataframe\">\n",
       "  <thead>\n",
       "    <tr style=\"text-align: right;\">\n",
       "      <th></th>\n",
       "      <th>id</th>\n",
       "      <th>keyword</th>\n",
       "      <th>location</th>\n",
       "      <th>text</th>\n",
       "      <th>target</th>\n",
       "    </tr>\n",
       "  </thead>\n",
       "  <tbody>\n",
       "    <tr>\n",
       "      <th>2644</th>\n",
       "      <td>3796</td>\n",
       "      <td>destruction</td>\n",
       "      <td>NaN</td>\n",
       "      <td>So you have a new weapon that can cause un-ima...</td>\n",
       "      <td>1</td>\n",
       "    </tr>\n",
       "    <tr>\n",
       "      <th>2227</th>\n",
       "      <td>3185</td>\n",
       "      <td>deluge</td>\n",
       "      <td>NaN</td>\n",
       "      <td>The f$&amp;amp;@ing things I do for #GISHWHES Just...</td>\n",
       "      <td>0</td>\n",
       "    </tr>\n",
       "    <tr>\n",
       "      <th>5448</th>\n",
       "      <td>7769</td>\n",
       "      <td>police</td>\n",
       "      <td>UK</td>\n",
       "      <td>DT @georgegalloway: RT @Galloway4Mayor: ÛÏThe...</td>\n",
       "      <td>1</td>\n",
       "    </tr>\n",
       "    <tr>\n",
       "      <th>132</th>\n",
       "      <td>191</td>\n",
       "      <td>aftershock</td>\n",
       "      <td>NaN</td>\n",
       "      <td>Aftershock back to school kick off was great. ...</td>\n",
       "      <td>0</td>\n",
       "    </tr>\n",
       "    <tr>\n",
       "      <th>6845</th>\n",
       "      <td>9810</td>\n",
       "      <td>trauma</td>\n",
       "      <td>Montgomery County, MD</td>\n",
       "      <td>in response to trauma Children of Addicts deve...</td>\n",
       "      <td>0</td>\n",
       "    </tr>\n",
       "  </tbody>\n",
       "</table>\n",
       "</div>"
      ],
      "text/plain": [
       "        id      keyword               location  \\\n",
       "2644  3796  destruction                    NaN   \n",
       "2227  3185       deluge                    NaN   \n",
       "5448  7769       police                     UK   \n",
       "132    191   aftershock                    NaN   \n",
       "6845  9810       trauma  Montgomery County, MD   \n",
       "\n",
       "                                                   text  target  \n",
       "2644  So you have a new weapon that can cause un-ima...       1  \n",
       "2227  The f$&amp;@ing things I do for #GISHWHES Just...       0  \n",
       "5448  DT @georgegalloway: RT @Galloway4Mayor: ÛÏThe...       1  \n",
       "132   Aftershock back to school kick off was great. ...       0  \n",
       "6845  in response to trauma Children of Addicts deve...       0  "
      ]
     },
     "execution_count": 7,
     "metadata": {},
     "output_type": "execute_result"
    }
   ],
   "source": [
    "# shuffle\n",
    "train_df_shuffled = train_df.sample(frac=1, random_state=42) # shuffle with random_state=42 for reproducibility\n",
    "train_df_shuffled.head()"
   ]
  },
  {
   "cell_type": "markdown",
   "metadata": {},
   "source": [
    "Notice how the training data has a `\"target\"` column.\n",
    "\n",
    "We're going to be writing code to find patterns (e.g. different combinations of words) in the `\"text\"` column of the training dataset to predict the value of the `\"target\"` column.\n",
    "\n",
    "The test dataset doesn't have a `\"target\"` column.\n",
    "\n",
    "```\n",
    "Inputs (text column) -> Machine Learning Algorithm -> Outputs (target column)\n",
    "```\n",
    "\n",
    "![](https://raw.githubusercontent.com/mrdbourke/tensorflow-deep-learning/main/images/08-text-classification-inputs-and-outputs.png)\n",
    "*Example text classification inputs and outputs for the problem of classifying whether a Tweet is about a disaster or not.*"
   ]
  },
  {
   "cell_type": "code",
   "execution_count": 8,
   "metadata": {},
   "outputs": [
    {
     "data": {
      "text/html": [
       "<div>\n",
       "<style scoped>\n",
       "    .dataframe tbody tr th:only-of-type {\n",
       "        vertical-align: middle;\n",
       "    }\n",
       "\n",
       "    .dataframe tbody tr th {\n",
       "        vertical-align: top;\n",
       "    }\n",
       "\n",
       "    .dataframe thead th {\n",
       "        text-align: right;\n",
       "    }\n",
       "</style>\n",
       "<table border=\"1\" class=\"dataframe\">\n",
       "  <thead>\n",
       "    <tr style=\"text-align: right;\">\n",
       "      <th></th>\n",
       "      <th>id</th>\n",
       "      <th>keyword</th>\n",
       "      <th>location</th>\n",
       "      <th>text</th>\n",
       "    </tr>\n",
       "  </thead>\n",
       "  <tbody>\n",
       "    <tr>\n",
       "      <th>0</th>\n",
       "      <td>0</td>\n",
       "      <td>NaN</td>\n",
       "      <td>NaN</td>\n",
       "      <td>Just happened a terrible car crash</td>\n",
       "    </tr>\n",
       "    <tr>\n",
       "      <th>1</th>\n",
       "      <td>2</td>\n",
       "      <td>NaN</td>\n",
       "      <td>NaN</td>\n",
       "      <td>Heard about #earthquake is different cities, s...</td>\n",
       "    </tr>\n",
       "    <tr>\n",
       "      <th>2</th>\n",
       "      <td>3</td>\n",
       "      <td>NaN</td>\n",
       "      <td>NaN</td>\n",
       "      <td>there is a forest fire at spot pond, geese are...</td>\n",
       "    </tr>\n",
       "    <tr>\n",
       "      <th>3</th>\n",
       "      <td>9</td>\n",
       "      <td>NaN</td>\n",
       "      <td>NaN</td>\n",
       "      <td>Apocalypse lighting. #Spokane #wildfires</td>\n",
       "    </tr>\n",
       "    <tr>\n",
       "      <th>4</th>\n",
       "      <td>11</td>\n",
       "      <td>NaN</td>\n",
       "      <td>NaN</td>\n",
       "      <td>Typhoon Soudelor kills 28 in China and Taiwan</td>\n",
       "    </tr>\n",
       "  </tbody>\n",
       "</table>\n",
       "</div>"
      ],
      "text/plain": [
       "   id keyword location                                               text\n",
       "0   0     NaN      NaN                 Just happened a terrible car crash\n",
       "1   2     NaN      NaN  Heard about #earthquake is different cities, s...\n",
       "2   3     NaN      NaN  there is a forest fire at spot pond, geese are...\n",
       "3   9     NaN      NaN           Apocalypse lighting. #Spokane #wildfires\n",
       "4  11     NaN      NaN      Typhoon Soudelor kills 28 in China and Taiwan"
      ]
     },
     "execution_count": 8,
     "metadata": {},
     "output_type": "execute_result"
    }
   ],
   "source": [
    "test_df.head()"
   ]
  },
  {
   "cell_type": "code",
   "execution_count": 9,
   "metadata": {},
   "outputs": [
    {
     "data": {
      "text/plain": [
       "target\n",
       "0    4342\n",
       "1    3271\n",
       "Name: count, dtype: int64"
      ]
     },
     "execution_count": 9,
     "metadata": {},
     "output_type": "execute_result"
    }
   ],
   "source": [
    "# 类别分布\n",
    "train_df.target.value_counts()"
   ]
  },
  {
   "cell_type": "code",
   "execution_count": 10,
   "metadata": {},
   "outputs": [
    {
     "data": {
      "text/plain": [
       "(7613, 3263, 10876)"
      ]
     },
     "execution_count": 10,
     "metadata": {},
     "output_type": "execute_result"
    }
   ],
   "source": [
    "len(train_df),len(test_df),len(train_df)+len(test_df)"
   ]
  },
  {
   "cell_type": "markdown",
   "metadata": {},
   "source": [
    "Alright, seems like we've got a decent amount of training and test data. If anything, we've got an abundance of testing examples, usually a split of 90/10 (90% training, 10% testing) or 80/20 is suffice.\n",
    "\n",
    "Okay, time to visualize, let's write some code to visualize random text samples.\n",
    "\n",
    "> 🤔 **Question:** Why visualize random samples? You could visualize samples in order but this could lead to only seeing a certain subset of data. Better to visualize a substantial quantity (100+) of random samples to get an idea of the different kinds of data you're working with. In machine learning, never underestimate the power of randomness.\n",
    "\n",
    "随机抽取100条数据，要多看随机数据的分布情况"
   ]
  },
  {
   "cell_type": "code",
   "execution_count": 11,
   "metadata": {},
   "outputs": [
    {
     "name": "stdout",
     "output_type": "stream",
     "text": [
      "Target: 1 (real disaster)\n",
      "Text:\n",
      "Militants attack police post in Udhampur; 2 SPOs injured | LiveMint http://t.co/Rptouz2iJs | http://t.co/69mLhfefhr #AllTheNews\n",
      "\n",
      "------------------------------\n",
      "Target: 1 (real disaster)\n",
      "Text:\n",
      "BREAKING: Obama Officials GAVE Muslim Terrorist the Weapon Used in Texas Attack http://t.co/qi8QDw5dFG\n",
      "\n",
      "------------------------------\n",
      "Target: 1 (real disaster)\n",
      "Text:\n",
      "Delhi Government to Provide Free Treatment to Acid Attack Victims in Private Hospitals http://t.co/H6PM1W7elL\n",
      "\n",
      "------------------------------\n",
      "Target: 1 (real disaster)\n",
      "Text:\n",
      "New post from @darkreading http://t.co/8eIJDXApnp New SMB Relay Attack Steals User Credentials Over Internet\n",
      "\n",
      "------------------------------\n",
      "Target: 1 (real disaster)\n",
      "Text:\n",
      "Israeli forces raid home of alleged car attack suspect http://t.co/3GVUS8NPpy #palestine\n",
      "\n",
      "------------------------------\n"
     ]
    }
   ],
   "source": [
    "import random\n",
    "\n",
    "rand_num = random.randint(0, len(train_df)-5)\n",
    "for row in train_df.iloc[rand_num:rand_num+5].itertuples():\n",
    "    text = row.text\n",
    "    target = row.target\n",
    "    print(f\"Target: {target}\", \"(real disaster)\" if target > 0 else \"(not real disaster)\")\n",
    "    print(f\"Text:\\n{text}\\n\")\n",
    "    print(\"---\"*10)\n",
    "    "
   ]
  },
  {
   "cell_type": "markdown",
   "metadata": {},
   "source": [
    "### Split data into training and validation sets  划分训练集和验证集\n",
    "\n",
    "Since the test set has no labels and we need a way to evalaute our trained models, we'll split off some of the training data and create a validation set.\n",
    "\n",
    "When our model trains (tries patterns in the Tweet samples), it'll only see data from the training set and we can see how it performs on unseen data using the validation set.\n",
    "\n",
    "We'll convert our splits from pandas Series datatypes to lists of strings (for the text) and lists of ints (for the labels) for ease of use later.\n",
    "\n",
    "To split our training dataset and create a validation dataset, we'll use Scikit-Learn's [`train_test_split()`](https://scikit-learn.org/stable/modules/generated/sklearn.model_selection.train_test_split.html) method and dedicate 10% of the training samples to the validation set."
   ]
  },
  {
   "cell_type": "code",
   "execution_count": 12,
   "metadata": {},
   "outputs": [],
   "source": [
    "from sklearn.model_selection import train_test_split\n",
    "train_sentences, val_sentences, train_labels, val_labels = train_test_split(train_df_shuffled[\"text\"].to_numpy(),\n",
    "                                                                            train_df_shuffled[\"target\"].to_numpy(),\n",
    "                                                                            test_size=0.1, # dedicate 10% of samples to validation set\n",
    "                                                                            random_state=42)"
   ]
  },
  {
   "cell_type": "code",
   "execution_count": 13,
   "metadata": {},
   "outputs": [
    {
     "data": {
      "text/plain": [
       "(6851, 6851, 762, 762)"
      ]
     },
     "execution_count": 13,
     "metadata": {},
     "output_type": "execute_result"
    }
   ],
   "source": [
    "len(train_sentences),len(train_labels),len(val_sentences),len(val_labels)"
   ]
  },
  {
   "cell_type": "code",
   "execution_count": 14,
   "metadata": {},
   "outputs": [
    {
     "data": {
      "text/plain": [
       "(array(['@mogacola @zamtriossu i screamed after hitting tweet',\n",
       "        'Imagine getting flattened by Kurt Zouma',\n",
       "        '@Gurmeetramrahim #MSGDoing111WelfareWorks Green S welfare force ke appx 65000 members har time disaster victim ki help ke liye tyar hai....',\n",
       "        \"@shakjn @C7 @Magnums im shaking in fear he's gonna hack the planet\",\n",
       "        'Somehow find you and I collide http://t.co/Ee8RpOahPk',\n",
       "        '@EvaHanderek @MarleyKnysh great times until the bus driver held us hostage in the mall parking lot lmfao',\n",
       "        'destroy the free fandom honestly',\n",
       "        'Weapons stolen from National Guard Armory in New Albany still missing #Gunsense http://t.co/lKNU8902JE',\n",
       "        '@wfaaweather Pete when will the heat wave pass? Is it really going to be mid month? Frisco Boy Scouts have a canoe trip in Okla.',\n",
       "        'Patient-reported outcomes in long-term survivors of metastatic colorectal cancer - British Journal of Surgery http://t.co/5Yl4DC1Tqt'],\n",
       "       dtype=object),\n",
       " array([0, 0, 1, 0, 0, 1, 1, 0, 1, 1]))"
      ]
     },
     "execution_count": 14,
     "metadata": {},
     "output_type": "execute_result"
    }
   ],
   "source": [
    "train_sentences[:10],train_labels[:10]"
   ]
  },
  {
   "cell_type": "markdown",
   "metadata": {},
   "source": [
    " ## Converting text into numbers 文本数字化\n",
    "\n",
    "两种数字化操作:\n",
    "1、tokenization:单词级，字母级，subword级\n",
    "2、embedding: create embeddings，用训练好的模型的embedding层输出，更能表示单词之间的关系\n",
    "\n",
    "Wonderful! We've got a training set and a validation set containing Tweets and labels.\n",
    "\n",
    "Our labels are in numerical form (`0` and `1`) but our Tweets are in string form.\n",
    "\n",
    "> 🤔 **Question:** What do you think we have to do before we can use a machine learning algorithm with our text data? \n",
    "\n",
    "If you answered something along the lines of \"turn it into numbers\", you're correct. A machine learning algorithm requires its inputs to be in numerical form.\n",
    "\n",
    "In NLP, there are two main concepts for turning text into numbers:\n",
    "* **Tokenization** - A straight mapping from word or character or sub-word to a numerical value. There are three main levels of tokenization:\n",
    "  1. Using **word-level tokenization** with the sentence \"I love TensorFlow\" might result in \"I\" being `0`, \"love\" being `1` and \"TensorFlow\" being `2`. In this case, every word in a sequence considered a single **token**.\n",
    "  2. **Character-level tokenization**, such as converting the letters A-Z to values `1-26`. In this case, every character in a sequence considered a single **token**.\n",
    "  3. **Sub-word tokenization** is in between word-level and character-level tokenization. It involves breaking invidual words into smaller parts and then converting those smaller parts into numbers. For example, \"my favourite food is pineapple pizza\" might become \"my, fav, avour, rite, fo, oo, od, is, pin, ine, app, le, piz, za\". After doing this, these sub-words would then be mapped to a numerical value. In this case, every word could be considered multiple **tokens**.\n",
    "* **Embeddings** - An embedding is a representation of natural language which can be learned. Representation comes in the form of a **feature vector**. For example, the word \"dance\" could be represented by the 5-dimensional vector `[-0.8557, 0.5559, -0.3332, 0.9877, 0.1112]`. It's important to note here, the size of the feature vector is tuneable. There are two ways to use embeddings: \n",
    "  1. **Create your own embedding** - Once your text has been turned into numbers (required for an embedding), you can put them through an embedding layer (such as [`tf.keras.layers.Embedding`](https://www.tensorflow.org/api_docs/python/tf/keras/layers/Embedding)) and an embedding representation will be learned during model training.\n",
    "  2. **Reuse a pre-learned embedding** - Many pre-trained embeddings exist online. These pre-trained embeddings have often been learned on large corpuses of text (such as all of Wikipedia) and thus have a good underlying representation of natural language. You can use a pre-trained embedding to initialize your model and fine-tune it to your own specific task.\n",
    "\n",
    "![](https://raw.githubusercontent.com/mrdbourke/tensorflow-deep-learning/main/images/08-tokenization-vs-embedding.png)\n",
    "*Example of **tokenization** (straight mapping from word to number) and **embedding** (richer representation of relationships between tokens).*\n",
    "\n",
    "> 🤔 **Question:** What level of tokenzation should I use? What embedding should should I choose?\n",
    "\n",
    "It depends on your problem. You could try character-level tokenization/embeddings and word-level tokenization/embeddings and see which perform best. You might even want to try stacking them (e.g. combining the outputs of your embedding layers using [`tf.keras.layers.concatenate`](https://www.tensorflow.org/api_docs/python/tf/keras/layers/concatenate)). \n",
    "\n",
    "If you're looking for pre-trained word embeddings, [Word2vec embeddings](http://jalammar.github.io/illustrated-word2vec/), [GloVe embeddings](https://nlp.stanford.edu/projects/glove/) and many of the options available on [TensorFlow Hub](https://tfhub.dev/s?module-type=text-embedding) are great places to start.\n",
    "\n",
    "> 🔑 **Note:** Much like searching for a pre-trained computer vision model, you can search for pre-trained word embeddings to use for your problem. Try searching for something like \"use pre-trained word embeddings in TensorFlow\"."
   ]
  },
  {
   "cell_type": "markdown",
   "metadata": {},
   "source": [
    "### Text vectorization (tokenization)  TextVectorization将单词token化\n",
    "\n",
    "Enough talking about tokenization and embeddings, let's create some.\n",
    "\n",
    "We'll practice tokenzation (mapping our words to numbers) first.\n",
    "\n",
    "To tokenize our words, we'll use the helpful preprocessing layer [`tf.keras.layers.experimental.preprocessing.TextVectorization`](https://www.tensorflow.org/api_docs/python/tf/keras/layers/experimental/preprocessing/TextVectorization).\n",
    "\n",
    "The `TextVectorization` layer takes the following parameters:\n",
    "* `max_tokens` - The maximum number of words in your vocabulary (e.g. 20000 or the number of unique words in your text), includes a value for OOV (out of vocabulary) tokens. \n",
    "* `standardize` - Method for standardizing text. Default is `\"lower_and_strip_punctuation\"` which lowers text and removes all punctuation marks.\n",
    "* `split` - How to split text, default is `\"whitespace\"` which splits on spaces.\n",
    "* `ngrams` - How many words to contain per token split, for example, `ngrams=2` splits tokens into continuous sequences of 2.\n",
    "* `output_mode` -  How to output tokens, can be `\"int\"` (integer mapping), `\"binary\"` (one-hot encoding), `\"count\"` or `\"tf-idf\"`. See documentation for more.\n",
    "* `output_sequence_length` - Length of tokenized sequence to output. For example, if `output_sequence_length=150`, all tokenized sequences will be 150 tokens long.\n",
    "* `pad_to_max_tokens` - Defaults to `False`, if `True`, the output feature axis will be padded to `max_tokens` even if the number of unique tokens in the vocabulary is less than `max_tokens`. Only valid in certain modes, see docs for more.\n",
    "\n",
    "Let's see it in action."
   ]
  },
  {
   "cell_type": "code",
   "execution_count": 15,
   "metadata": {},
   "outputs": [
    {
     "name": "stdout",
     "output_type": "stream",
     "text": [
      "2.10.0\n"
     ]
    }
   ],
   "source": [
    "import tensorflow as tf\n",
    "print(tf.__version__)"
   ]
  },
  {
   "cell_type": "code",
   "execution_count": 16,
   "metadata": {},
   "outputs": [],
   "source": [
    "import tensorflow as tf\n",
    "from tensorflow.keras.layers import TextVectorization # after TensorFlow 2.6\n",
    "\n",
    "# Before TensorFlow 2.6\n",
    "# from tensorflow.keras.layers.experimental.preprocessing import TextVectorization \n",
    "# Note: in TensorFlow 2.6+, you no longer need \"layers.experimental.preprocessing\""
   ]
  },
  {
   "cell_type": "code",
   "execution_count": 17,
   "metadata": {},
   "outputs": [
    {
     "name": "stderr",
     "output_type": "stream",
     "text": [
      "2025-01-22 10:27:51.865988: W tensorflow/stream_executor/platform/default/dso_loader.cc:64] Could not load dynamic library 'libcuda.so.1'; dlerror: libcuda.so.1: cannot open shared object file: No such file or directory\n",
      "2025-01-22 10:27:51.866012: W tensorflow/stream_executor/cuda/cuda_driver.cc:263] failed call to cuInit: UNKNOWN ERROR (303)\n",
      "2025-01-22 10:27:51.866024: I tensorflow/stream_executor/cuda/cuda_diagnostics.cc:156] kernel driver does not appear to be running on this host (iv-yddi5wlhj4qc6il2vxqe): /proc/driver/nvidia/version does not exist\n",
      "2025-01-22 10:27:51.866237: I tensorflow/core/platform/cpu_feature_guard.cc:193] This TensorFlow binary is optimized with oneAPI Deep Neural Network Library (oneDNN) to use the following CPU instructions in performance-critical operations:  AVX2 AVX512F AVX512_VNNI AVX512_BF16 AVX_VNNI AMX_TILE AMX_INT8 AMX_BF16 FMA\n",
      "To enable them in other operations, rebuild TensorFlow with the appropriate compiler flags.\n"
     ]
    }
   ],
   "source": [
    "text_vectorizer = TextVectorization(max_tokens=None, # how many words in the vocabulary (all of the different words in your text)\n",
    "                                    standardize=\"lower_and_strip_punctuation\", # how to process text\n",
    "                                    split=\"whitespace\", # how to split tokens\n",
    "                                    ngrams=None, # create groups of n-words?\n",
    "                                    output_mode=\"int\", # how to map tokens to numbers\n",
    "                                    output_sequence_length=None) "
   ]
  },
  {
   "cell_type": "markdown",
   "metadata": {},
   "source": [
    "We've initialized a `TextVectorization` object with the default settings but let's customize it a little bit for our own use case.\n",
    "\n",
    "In particular, let's set values for `max_tokens` and `output_sequence_length`.\n",
    "\n",
    "For `max_tokens` (the number of words in the vocabulary), multiples of 10,000 (`10,000`, `20,000`, `30,000`) or the exact number of unique words in your text (e.g. `32,179`) are common values.\n",
    "\n",
    "For our use case, we'll use `10,000`.\n",
    "\n",
    "And for the `output_sequence_length` we'll use the average number of tokens per Tweet in the training set. But first, we'll need to find it."
   ]
  },
  {
   "cell_type": "code",
   "execution_count": 18,
   "metadata": {},
   "outputs": [
    {
     "data": {
      "text/plain": [
       "14.901036345059115"
      ]
     },
     "execution_count": 18,
     "metadata": {},
     "output_type": "execute_result"
    }
   ],
   "source": [
    "sum([len(i.split()) for i in train_sentences])/len(train_sentences)"
   ]
  },
  {
   "cell_type": "code",
   "execution_count": 19,
   "metadata": {},
   "outputs": [],
   "source": [
    "max_vocab_length = 10000 \n",
    "max_length = 15\n",
    "\n",
    "text_vectorizer = TextVectorization(max_tokens=max_vocab_length,\n",
    "                                    output_mode=\"int\",\n",
    "                                    output_sequence_length=max_length)"
   ]
  },
  {
   "cell_type": "code",
   "execution_count": 20,
   "metadata": {},
   "outputs": [
    {
     "data": {
      "text/plain": [
       "numpy.ndarray"
      ]
     },
     "execution_count": 20,
     "metadata": {},
     "output_type": "execute_result"
    }
   ],
   "source": [
    "type(train_sentences)"
   ]
  },
  {
   "cell_type": "code",
   "execution_count": 21,
   "metadata": {},
   "outputs": [],
   "source": [
    "# fit train data\n",
    "text_vectorizer.adapt(train_sentences)"
   ]
  },
  {
   "cell_type": "code",
   "execution_count": 22,
   "metadata": {},
   "outputs": [
    {
     "data": {
      "text/plain": [
       "<tf.Tensor: shape=(1, 15), dtype=int64, numpy=\n",
       "array([[264,   3, 232,   4,  13, 698,   0,   0,   0,   0,   0,   0,   0,\n",
       "          0,   0]])>"
      ]
     },
     "execution_count": 22,
     "metadata": {},
     "output_type": "execute_result"
    }
   ],
   "source": [
    "sample_sentence = \"There's a flood in my street!\"\n",
    "text_vectorizer([sample_sentence])"
   ]
  },
  {
   "cell_type": "code",
   "execution_count": 23,
   "metadata": {},
   "outputs": [
    {
     "name": "stdout",
     "output_type": "stream",
     "text": [
      "Original text:\n",
      "late night mcdonalds with friends = hilarious although my car is wrecked and there's half a steak pastie in the industrial estate      \n",
      "\n",
      "Vectorized version:\n"
     ]
    },
    {
     "data": {
      "text/plain": [
       "<tf.Tensor: shape=(1, 15), dtype=int64, numpy=\n",
       "array([[1394,  285, 3647,   14,  819, 1519, 4148,   13,  127,    9,  337,\n",
       "           7,  264,  575,    3]])>"
      ]
     },
     "execution_count": 23,
     "metadata": {},
     "output_type": "execute_result"
    }
   ],
   "source": [
    "random_sentence = random.choice(train_sentences)\n",
    "print(f\"Original text:\\n{random_sentence}\\\n",
    "      \\n\\nVectorized version:\")\n",
    "text_vectorizer([random_sentence])"
   ]
  },
  {
   "cell_type": "code",
   "execution_count": 24,
   "metadata": {},
   "outputs": [
    {
     "name": "stdout",
     "output_type": "stream",
     "text": [
      "Number of words in vocab: 10000\n",
      "Top 5 most common words: ['', '[UNK]', 'the', 'a', 'in']\n",
      "Bottom 5 least common words: ['pages', 'paeds', 'pads', 'padres', 'paddytomlinson1']\n"
     ]
    }
   ],
   "source": [
    "words_in_vocab = text_vectorizer.get_vocabulary()\n",
    "top5_words = words_in_vocab[:5]\n",
    "bottom_words = words_in_vocab[-5:]\n",
    "print(f\"Number of words in vocab: {len(words_in_vocab)}\")\n",
    "print(f\"Top 5 most common words: {top5_words}\")\n",
    "print(f\"Bottom 5 least common words: {bottom_words}\")"
   ]
  },
  {
   "cell_type": "markdown",
   "metadata": {},
   "source": [
    "### Creating an Embedding using an Embedding Layer  tf.keras.layers.Embedding 实现embedding\n",
    "\n",
    "We've got a way to map our text to numbers. How about we go a step further and turn those numbers into an embedding?\n",
    "\n",
    "The powerful thing about an embedding is it can be learned during training. This means rather than just being static (e.g. `1` = I, `2` = love, `3` = TensorFlow), a word's numeric representation can be improved as a model goes through data samples.\n",
    "\n",
    "We can see what an embedding of a word looks like by using the [`tf.keras.layers.Embedding`](https://www.tensorflow.org/api_docs/python/tf/keras/layers/Embedding) layer. \n",
    "\n",
    "参数：input_dim 表示词汇表大小，output_dim表示输出的embedding向量维度，embeddings_initializer表示embedding矩阵的初始化方式，input_length表示输入的序列长度\n",
    "\n",
    "The main parameters we're concerned about here are:\n",
    "* `input_dim` - The size of the vocabulary (e.g. `len(text_vectorizer.get_vocabulary()`).\n",
    "* `output_dim` - The size of the output embedding vector, for example, a value of `100` outputs a  feature vector of size 100 for each word.\n",
    "* `embeddings_initializer` - How to initialize the embeddings matrix, default is `\"uniform\"` which randomly initalizes embedding matrix with uniform distribution. This can be changed for using pre-learned embeddings.\n",
    "* `input_length` - Length of sequences being passed to embedding layer.\n",
    "\n",
    "Knowing these, let's make an embedding layer."
   ]
  },
  {
   "cell_type": "code",
   "execution_count": 25,
   "metadata": {},
   "outputs": [
    {
     "data": {
      "text/plain": [
       "<keras.layers.core.embedding.Embedding at 0x7fd7f92e7850>"
      ]
     },
     "execution_count": 25,
     "metadata": {},
     "output_type": "execute_result"
    }
   ],
   "source": [
    "tf.random.set_seed(42)\n",
    "from tensorflow.keras import layers\n",
    "\n",
    "embedding = layers.Embedding(input_dim=max_vocab_length, \n",
    "                             output_dim=64,\n",
    "                             embeddings_initializer=\"uniform\",\n",
    "                             input_length=max_length,\n",
    "                             name=\"embedding_1\")\n",
    "embedding"
   ]
  },
  {
   "cell_type": "code",
   "execution_count": 26,
   "metadata": {},
   "outputs": [
    {
     "name": "stdout",
     "output_type": "stream",
     "text": [
      "Original text:\n",
      "7:13pm #MAPLERIDGE Lougheed Hwy EB is closed between 203rd and Dewdney Trunk Rd because of Collision. ETO is between 8:00 PM and 9:00 PM.      \n",
      "\n",
      "Embedded version:\n",
      "random_sentence_int:[[   1    1    1 1838 3901    9  959 1323    1    7    1 4370  765  152\n",
      "     6]]\n"
     ]
    },
    {
     "data": {
      "text/plain": [
       "<tf.Tensor: shape=(1, 15, 64), dtype=float32, numpy=\n",
       "array([[[-1.81695819e-02,  2.90265717e-02,  3.18275727e-02,\n",
       "          3.36486138e-02,  3.00082900e-02, -7.18151405e-03,\n",
       "          4.67654318e-03,  1.02014430e-02, -7.36920908e-03,\n",
       "         -2.08133347e-02, -4.35255878e-02,  4.69939224e-02,\n",
       "          3.21924426e-02, -1.35521889e-02, -3.21945176e-02,\n",
       "         -6.20983541e-04, -1.43146627e-02, -1.57124884e-02,\n",
       "         -3.09010874e-02, -4.87412326e-02, -6.08097389e-03,\n",
       "          4.18156870e-02,  2.72732414e-02,  4.39486988e-02,\n",
       "          2.03671940e-02,  6.57899305e-03, -3.52343917e-02,\n",
       "         -2.96069868e-02,  2.34069116e-02,  2.90972851e-02,\n",
       "          2.38841809e-02, -3.41748372e-02,  7.89452717e-03,\n",
       "          9.39922407e-03,  3.47914211e-02,  3.39226760e-02,\n",
       "         -1.27207115e-03, -8.47246498e-03, -4.10997756e-02,\n",
       "          4.99075912e-02, -3.52857336e-02,  2.74533033e-03,\n",
       "          1.55851282e-02, -3.94850150e-02, -3.44061852e-02,\n",
       "         -3.77968773e-02,  3.42959426e-02,  4.46748473e-02,\n",
       "          2.49046125e-02,  2.41302885e-02,  2.72128098e-02,\n",
       "          2.39529051e-02, -4.98504415e-02,  1.37590431e-02,\n",
       "         -4.78975661e-02,  1.24825016e-02,  2.57855095e-02,\n",
       "         -2.02386864e-02,  3.72343995e-02, -1.60302408e-02,\n",
       "          4.15903665e-02, -2.24876050e-02, -2.45540980e-02,\n",
       "          5.78309223e-03],\n",
       "        [-1.81695819e-02,  2.90265717e-02,  3.18275727e-02,\n",
       "          3.36486138e-02,  3.00082900e-02, -7.18151405e-03,\n",
       "          4.67654318e-03,  1.02014430e-02, -7.36920908e-03,\n",
       "         -2.08133347e-02, -4.35255878e-02,  4.69939224e-02,\n",
       "          3.21924426e-02, -1.35521889e-02, -3.21945176e-02,\n",
       "         -6.20983541e-04, -1.43146627e-02, -1.57124884e-02,\n",
       "         -3.09010874e-02, -4.87412326e-02, -6.08097389e-03,\n",
       "          4.18156870e-02,  2.72732414e-02,  4.39486988e-02,\n",
       "          2.03671940e-02,  6.57899305e-03, -3.52343917e-02,\n",
       "         -2.96069868e-02,  2.34069116e-02,  2.90972851e-02,\n",
       "          2.38841809e-02, -3.41748372e-02,  7.89452717e-03,\n",
       "          9.39922407e-03,  3.47914211e-02,  3.39226760e-02,\n",
       "         -1.27207115e-03, -8.47246498e-03, -4.10997756e-02,\n",
       "          4.99075912e-02, -3.52857336e-02,  2.74533033e-03,\n",
       "          1.55851282e-02, -3.94850150e-02, -3.44061852e-02,\n",
       "         -3.77968773e-02,  3.42959426e-02,  4.46748473e-02,\n",
       "          2.49046125e-02,  2.41302885e-02,  2.72128098e-02,\n",
       "          2.39529051e-02, -4.98504415e-02,  1.37590431e-02,\n",
       "         -4.78975661e-02,  1.24825016e-02,  2.57855095e-02,\n",
       "         -2.02386864e-02,  3.72343995e-02, -1.60302408e-02,\n",
       "          4.15903665e-02, -2.24876050e-02, -2.45540980e-02,\n",
       "          5.78309223e-03],\n",
       "        [-1.81695819e-02,  2.90265717e-02,  3.18275727e-02,\n",
       "          3.36486138e-02,  3.00082900e-02, -7.18151405e-03,\n",
       "          4.67654318e-03,  1.02014430e-02, -7.36920908e-03,\n",
       "         -2.08133347e-02, -4.35255878e-02,  4.69939224e-02,\n",
       "          3.21924426e-02, -1.35521889e-02, -3.21945176e-02,\n",
       "         -6.20983541e-04, -1.43146627e-02, -1.57124884e-02,\n",
       "         -3.09010874e-02, -4.87412326e-02, -6.08097389e-03,\n",
       "          4.18156870e-02,  2.72732414e-02,  4.39486988e-02,\n",
       "          2.03671940e-02,  6.57899305e-03, -3.52343917e-02,\n",
       "         -2.96069868e-02,  2.34069116e-02,  2.90972851e-02,\n",
       "          2.38841809e-02, -3.41748372e-02,  7.89452717e-03,\n",
       "          9.39922407e-03,  3.47914211e-02,  3.39226760e-02,\n",
       "         -1.27207115e-03, -8.47246498e-03, -4.10997756e-02,\n",
       "          4.99075912e-02, -3.52857336e-02,  2.74533033e-03,\n",
       "          1.55851282e-02, -3.94850150e-02, -3.44061852e-02,\n",
       "         -3.77968773e-02,  3.42959426e-02,  4.46748473e-02,\n",
       "          2.49046125e-02,  2.41302885e-02,  2.72128098e-02,\n",
       "          2.39529051e-02, -4.98504415e-02,  1.37590431e-02,\n",
       "         -4.78975661e-02,  1.24825016e-02,  2.57855095e-02,\n",
       "         -2.02386864e-02,  3.72343995e-02, -1.60302408e-02,\n",
       "          4.15903665e-02, -2.24876050e-02, -2.45540980e-02,\n",
       "          5.78309223e-03],\n",
       "        [-1.27219334e-02,  4.76786755e-02, -7.39868730e-03,\n",
       "         -4.12483141e-03,  2.10416205e-02,  3.79959010e-02,\n",
       "         -4.01530415e-03, -1.72975063e-02, -4.89504002e-02,\n",
       "         -2.60671377e-02,  4.34484370e-02, -1.84936039e-02,\n",
       "          4.41238396e-02, -2.99458504e-02,  1.61089636e-02,\n",
       "         -2.92678233e-02, -4.00737636e-02, -1.90549251e-02,\n",
       "          6.94910437e-03, -2.35139206e-03,  3.47995646e-02,\n",
       "         -5.37178665e-03,  4.14893888e-02, -2.22612154e-02,\n",
       "         -4.82838154e-02, -1.08099580e-02, -3.04337498e-02,\n",
       "          2.30618156e-02,  3.26415151e-03,  1.84226781e-04,\n",
       "          4.59740050e-02,  1.21483803e-02,  3.77246030e-02,\n",
       "          2.01018937e-02, -4.72465903e-03,  3.67205180e-02,\n",
       "         -1.62144303e-02, -1.48200169e-02,  4.76061217e-02,\n",
       "          8.90276581e-03,  3.46734188e-02,  1.93553232e-02,\n",
       "         -2.16238983e-02, -3.43797207e-02, -4.39264178e-02,\n",
       "          3.05004232e-02,  1.66672505e-02, -3.26167718e-02,\n",
       "          4.76879366e-02, -1.48330443e-02, -1.98066365e-02,\n",
       "          2.90586241e-02, -1.21268854e-02, -2.79747136e-02,\n",
       "          2.26809271e-02,  1.85524337e-02,  1.85492747e-02,\n",
       "          4.16199602e-02,  3.88752706e-02,  4.20485847e-02,\n",
       "          1.97628178e-02,  3.87320668e-03, -8.70350748e-03,\n",
       "         -1.96591616e-02],\n",
       "        [ 4.03330587e-02, -3.57928984e-02,  3.33852805e-02,\n",
       "          2.86257006e-02, -4.45360541e-02,  2.12770440e-02,\n",
       "         -8.57404619e-03,  2.17841156e-02,  7.21035153e-03,\n",
       "         -2.22922210e-02, -3.57057676e-02,  2.03082301e-02,\n",
       "          3.02762501e-02, -3.13396603e-02, -3.37459929e-02,\n",
       "         -3.64044905e-02,  2.74479873e-02, -5.18046692e-03,\n",
       "          2.12201215e-02,  1.94295086e-02,  2.99878754e-02,\n",
       "          1.69464387e-02, -2.27155220e-02,  2.87392400e-02,\n",
       "         -3.94330174e-03, -3.09806354e-02,  3.98783945e-02,\n",
       "          4.08111326e-02,  9.64989513e-03,  3.32839377e-02,\n",
       "         -1.87542439e-02,  2.28517912e-02, -1.96254253e-02,\n",
       "         -4.38441895e-02, -2.69210227e-02, -2.76154410e-02,\n",
       "         -3.35542187e-02,  2.89892294e-02, -2.13042032e-02,\n",
       "          3.87993716e-02, -4.66827303e-03,  2.25975253e-02,\n",
       "          2.92549618e-02, -5.51016256e-03, -3.30255516e-02,\n",
       "         -2.28459239e-02,  2.14668773e-02, -4.24409620e-02,\n",
       "          1.75014846e-02,  2.02327967e-03,  1.38374902e-02,\n",
       "          3.14484350e-02,  4.08402830e-03, -1.66845322e-02,\n",
       "          4.00742926e-02,  1.42529346e-02, -3.01859528e-03,\n",
       "         -4.83420864e-02,  1.19106993e-02,  3.16834450e-03,\n",
       "         -1.79358833e-02, -2.84773242e-02,  1.79666542e-02,\n",
       "          3.46642621e-02],\n",
       "        [ 2.35886499e-03, -2.36707814e-02,  2.52685584e-02,\n",
       "          1.93221606e-02,  3.09900902e-02, -2.94955261e-02,\n",
       "          2.00555436e-02,  3.03981937e-02, -2.33243592e-02,\n",
       "          2.15903036e-02, -3.90701517e-02,  3.43395807e-02,\n",
       "         -2.28090640e-02, -1.01606958e-02,  4.21810485e-02,\n",
       "          1.32714771e-02, -3.45820189e-03, -4.04623859e-02,\n",
       "         -4.94112261e-02,  3.72485034e-02, -2.31830832e-02,\n",
       "         -1.35534778e-02,  1.78367235e-02, -3.51309776e-03,\n",
       "         -2.64346842e-02, -4.96296063e-02, -4.69856746e-02,\n",
       "          3.15421484e-02,  2.37844624e-02, -3.16051729e-02,\n",
       "          1.24171264e-02, -3.33265662e-02, -4.79251146e-03,\n",
       "         -1.33520365e-03, -3.16916332e-02,  1.05860718e-02,\n",
       "          4.84547280e-02, -5.47078997e-03, -2.56479736e-02,\n",
       "          3.46331261e-02, -2.74325367e-02,  2.23335959e-02,\n",
       "          2.52532400e-02,  3.65914218e-02,  1.57447942e-02,\n",
       "         -4.07491699e-02, -3.80797014e-02, -1.02090947e-02,\n",
       "          1.44611113e-02, -4.77897786e-02, -9.95621085e-05,\n",
       "          2.38388665e-02,  8.79057497e-03,  3.13545205e-02,\n",
       "          3.07085998e-02,  4.68364023e-02,  6.57379627e-03,\n",
       "          3.82763855e-02,  2.44307183e-02,  3.18163745e-02,\n",
       "         -5.93159348e-03,  2.78256088e-03, -2.30755694e-02,\n",
       "          1.67509429e-02],\n",
       "        [-4.69865687e-02,  4.93213646e-02, -3.64674814e-02,\n",
       "          3.25144455e-03,  1.59580149e-02, -2.32012272e-02,\n",
       "         -4.67723124e-02, -3.40081379e-03,  4.68701459e-02,\n",
       "          1.68024935e-02,  2.26354636e-02, -2.23070737e-02,\n",
       "          2.34630220e-02, -3.14607844e-02, -4.70297113e-02,\n",
       "          1.67914294e-02,  3.27306651e-02,  1.12365931e-04,\n",
       "          3.62307914e-02, -1.01500042e-02, -4.81616259e-02,\n",
       "          5.65255806e-03,  1.96123384e-02,  6.11200184e-03,\n",
       "          8.43901560e-03, -2.53363978e-02,  4.62127589e-02,\n",
       "         -4.66657989e-02,  3.62817198e-03,  2.26708688e-02,\n",
       "         -1.04403272e-02, -4.02784124e-02, -1.87303796e-02,\n",
       "         -2.39888672e-02, -3.95687595e-02, -4.78903912e-02,\n",
       "         -2.00436246e-02, -4.11750302e-02,  4.13306616e-02,\n",
       "         -1.31004825e-02,  3.79210599e-02,  4.81367446e-02,\n",
       "         -2.31518988e-02, -2.58208867e-02,  4.83891480e-02,\n",
       "         -2.87414789e-02,  2.04388537e-02, -3.29865962e-02,\n",
       "          4.48358990e-02, -1.51357874e-02,  9.24358517e-03,\n",
       "         -2.78012510e-02, -1.34336948e-03,  4.82369401e-02,\n",
       "          9.22482088e-03,  3.52810510e-02,  5.66259772e-03,\n",
       "          1.95489265e-02, -3.58964130e-03,  4.21543159e-02,\n",
       "          4.76954021e-02, -4.67407703e-02, -3.53630185e-02,\n",
       "          4.54517268e-02],\n",
       "        [-1.36987343e-02,  4.84783165e-02, -9.16049629e-03,\n",
       "          2.86487080e-02,  2.77155377e-02,  3.53272893e-02,\n",
       "          1.30721666e-02, -7.09474087e-03,  1.24749653e-02,\n",
       "         -3.03174984e-02, -2.94615868e-02,  2.14405991e-02,\n",
       "         -4.46850918e-02, -3.53523381e-02, -4.78528999e-02,\n",
       "         -3.22921872e-02,  8.14714283e-03,  4.71958555e-02,\n",
       "         -4.75108027e-02,  1.47733353e-02,  3.71035822e-02,\n",
       "         -3.83772738e-02, -1.81963071e-02, -1.42182037e-03,\n",
       "          4.96901311e-02, -4.32365201e-02, -1.17771998e-02,\n",
       "         -1.16034038e-02,  3.39472927e-02,  4.80570905e-02,\n",
       "          1.85149945e-02,  3.94718386e-02, -2.49238014e-02,\n",
       "         -7.45109469e-03,  2.56392695e-02, -2.74209864e-02,\n",
       "          1.41446628e-02, -3.76462936e-02, -2.87134182e-02,\n",
       "         -2.96638254e-02, -8.61965492e-03, -4.68796492e-02,\n",
       "          3.69699709e-02, -4.81987260e-02,  1.55248530e-02,\n",
       "          4.41384651e-02, -1.79240853e-03, -8.84951279e-03,\n",
       "         -7.88145140e-03, -4.95217219e-02,  4.46128845e-03,\n",
       "          3.13153006e-02,  4.64888923e-02,  4.61352579e-02,\n",
       "          3.06870677e-02, -8.46797228e-03,  4.76454981e-02,\n",
       "         -4.62389588e-02,  1.60988010e-02,  1.30782016e-02,\n",
       "          3.75157259e-02,  2.10965313e-02,  7.15054572e-04,\n",
       "         -1.14829317e-02],\n",
       "        [-1.81695819e-02,  2.90265717e-02,  3.18275727e-02,\n",
       "          3.36486138e-02,  3.00082900e-02, -7.18151405e-03,\n",
       "          4.67654318e-03,  1.02014430e-02, -7.36920908e-03,\n",
       "         -2.08133347e-02, -4.35255878e-02,  4.69939224e-02,\n",
       "          3.21924426e-02, -1.35521889e-02, -3.21945176e-02,\n",
       "         -6.20983541e-04, -1.43146627e-02, -1.57124884e-02,\n",
       "         -3.09010874e-02, -4.87412326e-02, -6.08097389e-03,\n",
       "          4.18156870e-02,  2.72732414e-02,  4.39486988e-02,\n",
       "          2.03671940e-02,  6.57899305e-03, -3.52343917e-02,\n",
       "         -2.96069868e-02,  2.34069116e-02,  2.90972851e-02,\n",
       "          2.38841809e-02, -3.41748372e-02,  7.89452717e-03,\n",
       "          9.39922407e-03,  3.47914211e-02,  3.39226760e-02,\n",
       "         -1.27207115e-03, -8.47246498e-03, -4.10997756e-02,\n",
       "          4.99075912e-02, -3.52857336e-02,  2.74533033e-03,\n",
       "          1.55851282e-02, -3.94850150e-02, -3.44061852e-02,\n",
       "         -3.77968773e-02,  3.42959426e-02,  4.46748473e-02,\n",
       "          2.49046125e-02,  2.41302885e-02,  2.72128098e-02,\n",
       "          2.39529051e-02, -4.98504415e-02,  1.37590431e-02,\n",
       "         -4.78975661e-02,  1.24825016e-02,  2.57855095e-02,\n",
       "         -2.02386864e-02,  3.72343995e-02, -1.60302408e-02,\n",
       "          4.15903665e-02, -2.24876050e-02, -2.45540980e-02,\n",
       "          5.78309223e-03],\n",
       "        [-2.80240532e-02, -1.27814636e-02,  4.53674793e-03,\n",
       "          3.38082574e-02, -3.63766328e-02, -3.23687568e-02,\n",
       "          1.12727508e-02,  1.14207268e-02, -2.00343374e-02,\n",
       "          2.28126310e-02, -1.42692812e-02, -3.67569104e-02,\n",
       "         -3.10529396e-03,  3.33414562e-02,  3.22444327e-02,\n",
       "          2.82935239e-02, -3.22223678e-02, -2.24311240e-02,\n",
       "         -3.54218371e-02,  5.34292310e-03,  3.71543318e-03,\n",
       "         -5.42066246e-03, -1.82333812e-02, -1.83935277e-02,\n",
       "         -1.63962953e-02,  3.14859487e-02,  3.76975425e-02,\n",
       "          3.58963273e-02,  4.89501394e-02, -2.85201073e-02,\n",
       "         -2.55905986e-02, -2.02060863e-03, -1.09726787e-02,\n",
       "          2.35958956e-02,  2.43705399e-02,  3.10335271e-02,\n",
       "          2.95119360e-03, -3.33034620e-02,  2.61515379e-03,\n",
       "         -3.36156115e-02, -2.57214904e-02,  4.84541543e-02,\n",
       "         -2.45058183e-02, -2.29111668e-02, -2.08878871e-02,\n",
       "          4.34135906e-02,  1.01911910e-02, -1.27412379e-04,\n",
       "          1.62071846e-02, -4.38181274e-02,  4.34393920e-02,\n",
       "         -3.52947339e-02, -2.61463653e-02,  1.27961151e-02,\n",
       "          5.56430966e-03,  2.11235769e-02, -4.68645096e-02,\n",
       "         -1.48621090e-02,  2.87401676e-03, -4.89517115e-02,\n",
       "          3.46837305e-02,  4.02936824e-02,  4.94448878e-02,\n",
       "          1.95443369e-02],\n",
       "        [-1.81695819e-02,  2.90265717e-02,  3.18275727e-02,\n",
       "          3.36486138e-02,  3.00082900e-02, -7.18151405e-03,\n",
       "          4.67654318e-03,  1.02014430e-02, -7.36920908e-03,\n",
       "         -2.08133347e-02, -4.35255878e-02,  4.69939224e-02,\n",
       "          3.21924426e-02, -1.35521889e-02, -3.21945176e-02,\n",
       "         -6.20983541e-04, -1.43146627e-02, -1.57124884e-02,\n",
       "         -3.09010874e-02, -4.87412326e-02, -6.08097389e-03,\n",
       "          4.18156870e-02,  2.72732414e-02,  4.39486988e-02,\n",
       "          2.03671940e-02,  6.57899305e-03, -3.52343917e-02,\n",
       "         -2.96069868e-02,  2.34069116e-02,  2.90972851e-02,\n",
       "          2.38841809e-02, -3.41748372e-02,  7.89452717e-03,\n",
       "          9.39922407e-03,  3.47914211e-02,  3.39226760e-02,\n",
       "         -1.27207115e-03, -8.47246498e-03, -4.10997756e-02,\n",
       "          4.99075912e-02, -3.52857336e-02,  2.74533033e-03,\n",
       "          1.55851282e-02, -3.94850150e-02, -3.44061852e-02,\n",
       "         -3.77968773e-02,  3.42959426e-02,  4.46748473e-02,\n",
       "          2.49046125e-02,  2.41302885e-02,  2.72128098e-02,\n",
       "          2.39529051e-02, -4.98504415e-02,  1.37590431e-02,\n",
       "         -4.78975661e-02,  1.24825016e-02,  2.57855095e-02,\n",
       "         -2.02386864e-02,  3.72343995e-02, -1.60302408e-02,\n",
       "          4.15903665e-02, -2.24876050e-02, -2.45540980e-02,\n",
       "          5.78309223e-03],\n",
       "        [ 3.15114893e-02, -3.06233298e-02,  6.32984564e-03,\n",
       "         -5.31203672e-03, -4.28216234e-02,  5.82946464e-03,\n",
       "          2.11207941e-03,  1.94398053e-02,  2.31879838e-02,\n",
       "         -4.47881930e-02,  4.35747989e-02,  3.56225483e-02,\n",
       "          1.86170600e-02, -8.90662521e-03, -1.36676058e-02,\n",
       "          2.13102140e-02,  4.63886596e-02,  2.39128582e-02,\n",
       "          4.66168188e-02,  1.84294842e-02,  3.26615684e-02,\n",
       "          3.63404416e-02,  1.61826350e-02,  3.84939834e-03,\n",
       "         -3.33061963e-02, -4.03975621e-02, -3.16486508e-02,\n",
       "          4.66439612e-02,  2.49161571e-03, -1.65725835e-02,\n",
       "          2.64343657e-02,  2.14686245e-03,  1.57066323e-02,\n",
       "         -2.98995897e-03, -1.62567124e-02, -4.26706448e-02,\n",
       "          4.35610898e-02, -1.41542330e-02, -1.96530465e-02,\n",
       "         -3.40466388e-02, -4.34294716e-02, -9.50330496e-03,\n",
       "         -2.11814530e-02,  7.47300312e-03,  2.70168819e-02,\n",
       "         -3.25119123e-02, -3.37404013e-02, -4.74851727e-02,\n",
       "          4.69620340e-02,  1.18322000e-02, -1.86963789e-02,\n",
       "         -4.57473844e-03,  2.65512578e-02,  3.33089493e-02,\n",
       "          1.20769516e-02, -2.93846261e-02,  3.20344083e-02,\n",
       "          1.12299100e-02, -4.46605459e-02, -1.31312758e-03,\n",
       "          6.96403906e-03,  4.95500602e-02,  2.26183869e-02,\n",
       "         -3.39855440e-02],\n",
       "        [ 1.11485720e-02,  3.50956991e-03, -1.84872039e-02,\n",
       "          3.62291224e-02, -4.57645059e-02,  1.35193132e-02,\n",
       "          3.56057771e-02,  1.01599842e-03, -7.58697838e-03,\n",
       "          2.46542357e-02,  1.95416100e-02,  8.40876251e-03,\n",
       "          2.51064636e-02,  3.18767913e-02, -2.12820768e-02,\n",
       "          1.19014606e-02,  3.58151272e-03, -3.38093638e-02,\n",
       "          2.82793306e-02, -2.54833233e-02,  4.42412756e-02,\n",
       "         -3.95999663e-02, -2.58176811e-02,  1.62329525e-03,\n",
       "         -1.85465813e-02, -3.27833444e-02,  1.37347840e-02,\n",
       "          1.38862468e-02, -3.94420139e-02, -7.90281221e-03,\n",
       "          2.85297632e-03,  1.41676702e-02,  4.70138527e-02,\n",
       "         -1.49937645e-02,  4.29281704e-02, -4.73130457e-02,\n",
       "         -2.74076462e-02, -1.15701444e-02,  4.16471027e-02,\n",
       "         -3.33445221e-02,  1.60093233e-03,  2.16095112e-02,\n",
       "         -3.93438227e-02,  2.46395133e-02, -4.47099470e-02,\n",
       "          2.49377973e-02, -4.93979454e-02, -3.20217013e-02,\n",
       "         -1.23795383e-02, -9.10208374e-03,  2.64961012e-02,\n",
       "         -4.95129116e-02, -7.19069317e-03, -1.43416412e-02,\n",
       "          3.15792896e-02,  1.71246789e-02, -2.80888565e-02,\n",
       "          1.54449604e-02,  4.44235466e-02,  1.10764280e-02,\n",
       "          1.87838413e-02, -2.15461496e-02, -1.29797831e-02,\n",
       "          2.17112340e-02],\n",
       "        [-3.06319129e-02,  1.02347359e-02, -1.70175321e-02,\n",
       "          1.85104720e-02,  3.97824086e-02,  1.89664029e-02,\n",
       "         -7.89577886e-03,  4.84436639e-02,  1.38464905e-02,\n",
       "         -3.41610797e-02, -1.31202117e-02,  1.07548945e-02,\n",
       "          1.26733445e-02, -4.37744260e-02,  1.45491995e-02,\n",
       "          3.20539512e-02,  2.88447030e-02,  2.90423743e-02,\n",
       "          1.52316578e-02, -4.38504815e-02,  4.58531715e-02,\n",
       "         -3.40863839e-02,  4.32403348e-02, -1.95696205e-03,\n",
       "          4.70166914e-02,  1.52908899e-02,  9.26259905e-03,\n",
       "          4.07245494e-02,  3.77929546e-02,  1.86335705e-02,\n",
       "          4.17029001e-02,  3.50543000e-02, -2.73705367e-02,\n",
       "          2.43378319e-02,  4.80593778e-02,  3.87888812e-02,\n",
       "          3.29840891e-02,  6.90697506e-03, -2.63776425e-02,\n",
       "          4.16526943e-03, -4.41549197e-02,  4.17250879e-02,\n",
       "         -7.24754483e-03, -4.02585492e-02,  5.41716814e-03,\n",
       "         -4.10001054e-02,  1.01484433e-02,  3.35072614e-02,\n",
       "         -1.49811134e-02,  5.79599291e-03, -9.39900801e-03,\n",
       "          1.50730722e-02,  1.26348399e-02, -7.87016004e-03,\n",
       "         -4.69683073e-02, -2.52906233e-03, -2.40615495e-02,\n",
       "          2.65575387e-02,  3.28391455e-02, -3.83611917e-02,\n",
       "          4.31718715e-02, -2.92210821e-02,  1.54899992e-02,\n",
       "          3.68221290e-02],\n",
       "        [ 1.17142200e-02,  2.31670178e-02, -1.39112957e-02,\n",
       "          6.76236302e-03, -4.62041385e-02, -3.67739424e-02,\n",
       "         -3.88539545e-02, -2.57140994e-02,  2.75770687e-02,\n",
       "          2.37995870e-02, -5.45381382e-03,  3.28114145e-02,\n",
       "          9.61109251e-03,  4.46872748e-02,  2.27243043e-02,\n",
       "          4.74137552e-02, -2.80990005e-02, -3.45478170e-02,\n",
       "          4.07367013e-02,  3.79623212e-02,  1.04695447e-02,\n",
       "         -1.32077932e-02, -2.05726027e-02,  5.64731658e-04,\n",
       "          9.66690481e-04, -2.52784621e-02,  2.81298421e-02,\n",
       "          2.48920172e-04,  3.56365368e-03,  4.01025750e-02,\n",
       "         -1.53482780e-02,  4.83330004e-02,  1.03183277e-02,\n",
       "         -1.28002279e-02, -5.48604876e-03, -2.21084952e-02,\n",
       "         -3.40190753e-02, -9.59044695e-03, -3.92731428e-02,\n",
       "          3.06475274e-02,  4.00447957e-02, -1.19687803e-02,\n",
       "         -2.61777993e-02, -1.19342692e-02, -2.35181935e-02,\n",
       "         -1.02843270e-02,  4.84511890e-02,  2.02788971e-02,\n",
       "          2.39904411e-02, -4.01025414e-02,  3.64273228e-02,\n",
       "          4.66428138e-02,  3.58998813e-02,  1.53315403e-02,\n",
       "          2.33331434e-02, -2.14228164e-02, -4.95425574e-02,\n",
       "          2.99651511e-02,  9.98758152e-03,  3.73988412e-02,\n",
       "         -2.16890704e-02,  1.82389282e-02, -1.84773430e-02,\n",
       "          3.83790396e-02]]], dtype=float32)>"
      ]
     },
     "execution_count": 26,
     "metadata": {},
     "output_type": "execute_result"
    }
   ],
   "source": [
    "# 案例\n",
    "random_sentence = random.choice(train_sentences)  \n",
    "print(f\"Original text:\\n{random_sentence}\\\n",
    "      \\n\\nEmbedded version:\")\n",
    "\n",
    "random_sentence_int = text_vectorizer([random_sentence])\n",
    "print(f\"random_sentence_int:{random_sentence_int}\")\n",
    "sample_embed = embedding(random_sentence_int)\n",
    "sample_embed"
   ]
  },
  {
   "cell_type": "code",
   "execution_count": 27,
   "metadata": {},
   "outputs": [
    {
     "data": {
      "text/plain": [
       "<tf.Tensor: shape=(64,), dtype=float32, numpy=\n",
       "array([-0.01816958,  0.02902657,  0.03182757,  0.03364861,  0.03000829,\n",
       "       -0.00718151,  0.00467654,  0.01020144, -0.00736921, -0.02081333,\n",
       "       -0.04352559,  0.04699392,  0.03219244, -0.01355219, -0.03219452,\n",
       "       -0.00062098, -0.01431466, -0.01571249, -0.03090109, -0.04874123,\n",
       "       -0.00608097,  0.04181569,  0.02727324,  0.0439487 ,  0.02036719,\n",
       "        0.00657899, -0.03523439, -0.02960699,  0.02340691,  0.02909729,\n",
       "        0.02388418, -0.03417484,  0.00789453,  0.00939922,  0.03479142,\n",
       "        0.03392268, -0.00127207, -0.00847246, -0.04109978,  0.04990759,\n",
       "       -0.03528573,  0.00274533,  0.01558513, -0.03948501, -0.03440619,\n",
       "       -0.03779688,  0.03429594,  0.04467485,  0.02490461,  0.02413029,\n",
       "        0.02721281,  0.02395291, -0.04985044,  0.01375904, -0.04789757,\n",
       "        0.0124825 ,  0.02578551, -0.02023869,  0.0372344 , -0.01603024,\n",
       "        0.04159037, -0.0224876 , -0.0245541 ,  0.00578309], dtype=float32)>"
      ]
     },
     "execution_count": 27,
     "metadata": {},
     "output_type": "execute_result"
    }
   ],
   "source": [
    "# 单个词映射出的embedding 向量\n",
    "sample_embed[0][0] "
   ]
  },
  {
   "cell_type": "markdown",
   "metadata": {},
   "source": [
    "These values might not mean much to us but they're what our computer sees each word as. When our model looks for patterns in different samples, these values will be updated as necessary."
   ]
  },
  {
   "cell_type": "markdown",
   "metadata": {},
   "source": [
    "## Modelling a text dataset  模型化\n",
    "\n",
    "![](https://raw.githubusercontent.com/mrdbourke/tensorflow-deep-learning/main/images/08-inputs-and-outputs-with-shapes-and-models-were-going-to-build.png)\n",
    "*Once you've got your inputs and outputs prepared, it's a matter of figuring out which machine learning model to build in between them to bridge the gap.*\n",
    "\n",
    "Now that we've got a way to turn our text data into numbers, we can start to build machine learning models to model it.\n",
    "\n",
    "To get plenty of practice, we're going to build a series of different models, each as its own experiment. We'll then compare the results of each model and see which one performed best.\n",
    "\n",
    "More specifically, we'll be building the following:\n",
    "* **Model 0**: Naive Bayes (baseline)\n",
    "* **Model 1**: Feed-forward neural network (dense model)\n",
    "* **Model 2**: LSTM model\n",
    "* **Model 3**: GRU model\n",
    "* **Model 4**: Bidirectional-LSTM model\n",
    "* **Model 5**: 1D Convolutional Neural Network\n",
    "* **Model 6**: TensorFlow Hub Pretrained Feature Extractor\n",
    "* **Model 7**: Same as model 6 with 10% of training data\n",
    "\n",
    "Model 0 is the simplest to acquire a baseline which we'll expect each other of the other deeper models to beat.\n",
    "\n",
    "Each experiment will go through the following steps:\n",
    "* Construct the model\n",
    "* Train the model\n",
    "* Make predictions with the model\n",
    "* Track prediction evaluation metrics for later comparison\n",
    "\n",
    "Let's get started."
   ]
  },
  {
   "cell_type": "markdown",
   "metadata": {},
   "source": [
    "### Model 0: Getting a baseline  基准模型 TF-IDF\n",
    "\n",
    "As with all machine learning modelling experiments, it's important to create a baseline model so you've got a benchmark for future experiments to build upon.\n",
    "\n",
    "To create our baseline, we'll create a Scikit-Learn Pipeline using the TF-IDF (term frequency-inverse document frequency) formula to convert our words to numbers and then model them with the [Multinomial Naive Bayes algorithm](https://scikit-learn.org/stable/modules/generated/sklearn.naive_bayes.MultinomialNB.html#sklearn.naive_bayes.MultinomialNB). This was chosen via referring to the [Scikit-Learn machine learning map](https://scikit-learn.org/stable/tutorial/machine_learning_map/index.html).\n",
    "\n",
    "> 📖 **Reading:** The ins and outs of TF-IDF algorithm is beyond the scope of this notebook, however, the curious reader is encouraged to check out the [Scikit-Learn documentation for more](https://scikit-learn.org/stable/modules/feature_extraction.html#tfidf-term-weighting)."
   ]
  },
  {
   "cell_type": "code",
   "execution_count": 28,
   "metadata": {},
   "outputs": [
    {
     "data": {
      "text/html": [
       "<style>#sk-container-id-1 {\n",
       "  /* Definition of color scheme common for light and dark mode */\n",
       "  --sklearn-color-text: black;\n",
       "  --sklearn-color-line: gray;\n",
       "  /* Definition of color scheme for unfitted estimators */\n",
       "  --sklearn-color-unfitted-level-0: #fff5e6;\n",
       "  --sklearn-color-unfitted-level-1: #f6e4d2;\n",
       "  --sklearn-color-unfitted-level-2: #ffe0b3;\n",
       "  --sklearn-color-unfitted-level-3: chocolate;\n",
       "  /* Definition of color scheme for fitted estimators */\n",
       "  --sklearn-color-fitted-level-0: #f0f8ff;\n",
       "  --sklearn-color-fitted-level-1: #d4ebff;\n",
       "  --sklearn-color-fitted-level-2: #b3dbfd;\n",
       "  --sklearn-color-fitted-level-3: cornflowerblue;\n",
       "\n",
       "  /* Specific color for light theme */\n",
       "  --sklearn-color-text-on-default-background: var(--sg-text-color, var(--theme-code-foreground, var(--jp-content-font-color1, black)));\n",
       "  --sklearn-color-background: var(--sg-background-color, var(--theme-background, var(--jp-layout-color0, white)));\n",
       "  --sklearn-color-border-box: var(--sg-text-color, var(--theme-code-foreground, var(--jp-content-font-color1, black)));\n",
       "  --sklearn-color-icon: #696969;\n",
       "\n",
       "  @media (prefers-color-scheme: dark) {\n",
       "    /* Redefinition of color scheme for dark theme */\n",
       "    --sklearn-color-text-on-default-background: var(--sg-text-color, var(--theme-code-foreground, var(--jp-content-font-color1, white)));\n",
       "    --sklearn-color-background: var(--sg-background-color, var(--theme-background, var(--jp-layout-color0, #111)));\n",
       "    --sklearn-color-border-box: var(--sg-text-color, var(--theme-code-foreground, var(--jp-content-font-color1, white)));\n",
       "    --sklearn-color-icon: #878787;\n",
       "  }\n",
       "}\n",
       "\n",
       "#sk-container-id-1 {\n",
       "  color: var(--sklearn-color-text);\n",
       "}\n",
       "\n",
       "#sk-container-id-1 pre {\n",
       "  padding: 0;\n",
       "}\n",
       "\n",
       "#sk-container-id-1 input.sk-hidden--visually {\n",
       "  border: 0;\n",
       "  clip: rect(1px 1px 1px 1px);\n",
       "  clip: rect(1px, 1px, 1px, 1px);\n",
       "  height: 1px;\n",
       "  margin: -1px;\n",
       "  overflow: hidden;\n",
       "  padding: 0;\n",
       "  position: absolute;\n",
       "  width: 1px;\n",
       "}\n",
       "\n",
       "#sk-container-id-1 div.sk-dashed-wrapped {\n",
       "  border: 1px dashed var(--sklearn-color-line);\n",
       "  margin: 0 0.4em 0.5em 0.4em;\n",
       "  box-sizing: border-box;\n",
       "  padding-bottom: 0.4em;\n",
       "  background-color: var(--sklearn-color-background);\n",
       "}\n",
       "\n",
       "#sk-container-id-1 div.sk-container {\n",
       "  /* jupyter's `normalize.less` sets `[hidden] { display: none; }`\n",
       "     but bootstrap.min.css set `[hidden] { display: none !important; }`\n",
       "     so we also need the `!important` here to be able to override the\n",
       "     default hidden behavior on the sphinx rendered scikit-learn.org.\n",
       "     See: https://github.com/scikit-learn/scikit-learn/issues/21755 */\n",
       "  display: inline-block !important;\n",
       "  position: relative;\n",
       "}\n",
       "\n",
       "#sk-container-id-1 div.sk-text-repr-fallback {\n",
       "  display: none;\n",
       "}\n",
       "\n",
       "div.sk-parallel-item,\n",
       "div.sk-serial,\n",
       "div.sk-item {\n",
       "  /* draw centered vertical line to link estimators */\n",
       "  background-image: linear-gradient(var(--sklearn-color-text-on-default-background), var(--sklearn-color-text-on-default-background));\n",
       "  background-size: 2px 100%;\n",
       "  background-repeat: no-repeat;\n",
       "  background-position: center center;\n",
       "}\n",
       "\n",
       "/* Parallel-specific style estimator block */\n",
       "\n",
       "#sk-container-id-1 div.sk-parallel-item::after {\n",
       "  content: \"\";\n",
       "  width: 100%;\n",
       "  border-bottom: 2px solid var(--sklearn-color-text-on-default-background);\n",
       "  flex-grow: 1;\n",
       "}\n",
       "\n",
       "#sk-container-id-1 div.sk-parallel {\n",
       "  display: flex;\n",
       "  align-items: stretch;\n",
       "  justify-content: center;\n",
       "  background-color: var(--sklearn-color-background);\n",
       "  position: relative;\n",
       "}\n",
       "\n",
       "#sk-container-id-1 div.sk-parallel-item {\n",
       "  display: flex;\n",
       "  flex-direction: column;\n",
       "}\n",
       "\n",
       "#sk-container-id-1 div.sk-parallel-item:first-child::after {\n",
       "  align-self: flex-end;\n",
       "  width: 50%;\n",
       "}\n",
       "\n",
       "#sk-container-id-1 div.sk-parallel-item:last-child::after {\n",
       "  align-self: flex-start;\n",
       "  width: 50%;\n",
       "}\n",
       "\n",
       "#sk-container-id-1 div.sk-parallel-item:only-child::after {\n",
       "  width: 0;\n",
       "}\n",
       "\n",
       "/* Serial-specific style estimator block */\n",
       "\n",
       "#sk-container-id-1 div.sk-serial {\n",
       "  display: flex;\n",
       "  flex-direction: column;\n",
       "  align-items: center;\n",
       "  background-color: var(--sklearn-color-background);\n",
       "  padding-right: 1em;\n",
       "  padding-left: 1em;\n",
       "}\n",
       "\n",
       "\n",
       "/* Toggleable style: style used for estimator/Pipeline/ColumnTransformer box that is\n",
       "clickable and can be expanded/collapsed.\n",
       "- Pipeline and ColumnTransformer use this feature and define the default style\n",
       "- Estimators will overwrite some part of the style using the `sk-estimator` class\n",
       "*/\n",
       "\n",
       "/* Pipeline and ColumnTransformer style (default) */\n",
       "\n",
       "#sk-container-id-1 div.sk-toggleable {\n",
       "  /* Default theme specific background. It is overwritten whether we have a\n",
       "  specific estimator or a Pipeline/ColumnTransformer */\n",
       "  background-color: var(--sklearn-color-background);\n",
       "}\n",
       "\n",
       "/* Toggleable label */\n",
       "#sk-container-id-1 label.sk-toggleable__label {\n",
       "  cursor: pointer;\n",
       "  display: block;\n",
       "  width: 100%;\n",
       "  margin-bottom: 0;\n",
       "  padding: 0.5em;\n",
       "  box-sizing: border-box;\n",
       "  text-align: center;\n",
       "}\n",
       "\n",
       "#sk-container-id-1 label.sk-toggleable__label-arrow:before {\n",
       "  /* Arrow on the left of the label */\n",
       "  content: \"▸\";\n",
       "  float: left;\n",
       "  margin-right: 0.25em;\n",
       "  color: var(--sklearn-color-icon);\n",
       "}\n",
       "\n",
       "#sk-container-id-1 label.sk-toggleable__label-arrow:hover:before {\n",
       "  color: var(--sklearn-color-text);\n",
       "}\n",
       "\n",
       "/* Toggleable content - dropdown */\n",
       "\n",
       "#sk-container-id-1 div.sk-toggleable__content {\n",
       "  max-height: 0;\n",
       "  max-width: 0;\n",
       "  overflow: hidden;\n",
       "  text-align: left;\n",
       "  /* unfitted */\n",
       "  background-color: var(--sklearn-color-unfitted-level-0);\n",
       "}\n",
       "\n",
       "#sk-container-id-1 div.sk-toggleable__content.fitted {\n",
       "  /* fitted */\n",
       "  background-color: var(--sklearn-color-fitted-level-0);\n",
       "}\n",
       "\n",
       "#sk-container-id-1 div.sk-toggleable__content pre {\n",
       "  margin: 0.2em;\n",
       "  border-radius: 0.25em;\n",
       "  color: var(--sklearn-color-text);\n",
       "  /* unfitted */\n",
       "  background-color: var(--sklearn-color-unfitted-level-0);\n",
       "}\n",
       "\n",
       "#sk-container-id-1 div.sk-toggleable__content.fitted pre {\n",
       "  /* unfitted */\n",
       "  background-color: var(--sklearn-color-fitted-level-0);\n",
       "}\n",
       "\n",
       "#sk-container-id-1 input.sk-toggleable__control:checked~div.sk-toggleable__content {\n",
       "  /* Expand drop-down */\n",
       "  max-height: 200px;\n",
       "  max-width: 100%;\n",
       "  overflow: auto;\n",
       "}\n",
       "\n",
       "#sk-container-id-1 input.sk-toggleable__control:checked~label.sk-toggleable__label-arrow:before {\n",
       "  content: \"▾\";\n",
       "}\n",
       "\n",
       "/* Pipeline/ColumnTransformer-specific style */\n",
       "\n",
       "#sk-container-id-1 div.sk-label input.sk-toggleable__control:checked~label.sk-toggleable__label {\n",
       "  color: var(--sklearn-color-text);\n",
       "  background-color: var(--sklearn-color-unfitted-level-2);\n",
       "}\n",
       "\n",
       "#sk-container-id-1 div.sk-label.fitted input.sk-toggleable__control:checked~label.sk-toggleable__label {\n",
       "  background-color: var(--sklearn-color-fitted-level-2);\n",
       "}\n",
       "\n",
       "/* Estimator-specific style */\n",
       "\n",
       "/* Colorize estimator box */\n",
       "#sk-container-id-1 div.sk-estimator input.sk-toggleable__control:checked~label.sk-toggleable__label {\n",
       "  /* unfitted */\n",
       "  background-color: var(--sklearn-color-unfitted-level-2);\n",
       "}\n",
       "\n",
       "#sk-container-id-1 div.sk-estimator.fitted input.sk-toggleable__control:checked~label.sk-toggleable__label {\n",
       "  /* fitted */\n",
       "  background-color: var(--sklearn-color-fitted-level-2);\n",
       "}\n",
       "\n",
       "#sk-container-id-1 div.sk-label label.sk-toggleable__label,\n",
       "#sk-container-id-1 div.sk-label label {\n",
       "  /* The background is the default theme color */\n",
       "  color: var(--sklearn-color-text-on-default-background);\n",
       "}\n",
       "\n",
       "/* On hover, darken the color of the background */\n",
       "#sk-container-id-1 div.sk-label:hover label.sk-toggleable__label {\n",
       "  color: var(--sklearn-color-text);\n",
       "  background-color: var(--sklearn-color-unfitted-level-2);\n",
       "}\n",
       "\n",
       "/* Label box, darken color on hover, fitted */\n",
       "#sk-container-id-1 div.sk-label.fitted:hover label.sk-toggleable__label.fitted {\n",
       "  color: var(--sklearn-color-text);\n",
       "  background-color: var(--sklearn-color-fitted-level-2);\n",
       "}\n",
       "\n",
       "/* Estimator label */\n",
       "\n",
       "#sk-container-id-1 div.sk-label label {\n",
       "  font-family: monospace;\n",
       "  font-weight: bold;\n",
       "  display: inline-block;\n",
       "  line-height: 1.2em;\n",
       "}\n",
       "\n",
       "#sk-container-id-1 div.sk-label-container {\n",
       "  text-align: center;\n",
       "}\n",
       "\n",
       "/* Estimator-specific */\n",
       "#sk-container-id-1 div.sk-estimator {\n",
       "  font-family: monospace;\n",
       "  border: 1px dotted var(--sklearn-color-border-box);\n",
       "  border-radius: 0.25em;\n",
       "  box-sizing: border-box;\n",
       "  margin-bottom: 0.5em;\n",
       "  /* unfitted */\n",
       "  background-color: var(--sklearn-color-unfitted-level-0);\n",
       "}\n",
       "\n",
       "#sk-container-id-1 div.sk-estimator.fitted {\n",
       "  /* fitted */\n",
       "  background-color: var(--sklearn-color-fitted-level-0);\n",
       "}\n",
       "\n",
       "/* on hover */\n",
       "#sk-container-id-1 div.sk-estimator:hover {\n",
       "  /* unfitted */\n",
       "  background-color: var(--sklearn-color-unfitted-level-2);\n",
       "}\n",
       "\n",
       "#sk-container-id-1 div.sk-estimator.fitted:hover {\n",
       "  /* fitted */\n",
       "  background-color: var(--sklearn-color-fitted-level-2);\n",
       "}\n",
       "\n",
       "/* Specification for estimator info (e.g. \"i\" and \"?\") */\n",
       "\n",
       "/* Common style for \"i\" and \"?\" */\n",
       "\n",
       ".sk-estimator-doc-link,\n",
       "a:link.sk-estimator-doc-link,\n",
       "a:visited.sk-estimator-doc-link {\n",
       "  float: right;\n",
       "  font-size: smaller;\n",
       "  line-height: 1em;\n",
       "  font-family: monospace;\n",
       "  background-color: var(--sklearn-color-background);\n",
       "  border-radius: 1em;\n",
       "  height: 1em;\n",
       "  width: 1em;\n",
       "  text-decoration: none !important;\n",
       "  margin-left: 1ex;\n",
       "  /* unfitted */\n",
       "  border: var(--sklearn-color-unfitted-level-1) 1pt solid;\n",
       "  color: var(--sklearn-color-unfitted-level-1);\n",
       "}\n",
       "\n",
       ".sk-estimator-doc-link.fitted,\n",
       "a:link.sk-estimator-doc-link.fitted,\n",
       "a:visited.sk-estimator-doc-link.fitted {\n",
       "  /* fitted */\n",
       "  border: var(--sklearn-color-fitted-level-1) 1pt solid;\n",
       "  color: var(--sklearn-color-fitted-level-1);\n",
       "}\n",
       "\n",
       "/* On hover */\n",
       "div.sk-estimator:hover .sk-estimator-doc-link:hover,\n",
       ".sk-estimator-doc-link:hover,\n",
       "div.sk-label-container:hover .sk-estimator-doc-link:hover,\n",
       ".sk-estimator-doc-link:hover {\n",
       "  /* unfitted */\n",
       "  background-color: var(--sklearn-color-unfitted-level-3);\n",
       "  color: var(--sklearn-color-background);\n",
       "  text-decoration: none;\n",
       "}\n",
       "\n",
       "div.sk-estimator.fitted:hover .sk-estimator-doc-link.fitted:hover,\n",
       ".sk-estimator-doc-link.fitted:hover,\n",
       "div.sk-label-container:hover .sk-estimator-doc-link.fitted:hover,\n",
       ".sk-estimator-doc-link.fitted:hover {\n",
       "  /* fitted */\n",
       "  background-color: var(--sklearn-color-fitted-level-3);\n",
       "  color: var(--sklearn-color-background);\n",
       "  text-decoration: none;\n",
       "}\n",
       "\n",
       "/* Span, style for the box shown on hovering the info icon */\n",
       ".sk-estimator-doc-link span {\n",
       "  display: none;\n",
       "  z-index: 9999;\n",
       "  position: relative;\n",
       "  font-weight: normal;\n",
       "  right: .2ex;\n",
       "  padding: .5ex;\n",
       "  margin: .5ex;\n",
       "  width: min-content;\n",
       "  min-width: 20ex;\n",
       "  max-width: 50ex;\n",
       "  color: var(--sklearn-color-text);\n",
       "  box-shadow: 2pt 2pt 4pt #999;\n",
       "  /* unfitted */\n",
       "  background: var(--sklearn-color-unfitted-level-0);\n",
       "  border: .5pt solid var(--sklearn-color-unfitted-level-3);\n",
       "}\n",
       "\n",
       ".sk-estimator-doc-link.fitted span {\n",
       "  /* fitted */\n",
       "  background: var(--sklearn-color-fitted-level-0);\n",
       "  border: var(--sklearn-color-fitted-level-3);\n",
       "}\n",
       "\n",
       ".sk-estimator-doc-link:hover span {\n",
       "  display: block;\n",
       "}\n",
       "\n",
       "/* \"?\"-specific style due to the `<a>` HTML tag */\n",
       "\n",
       "#sk-container-id-1 a.estimator_doc_link {\n",
       "  float: right;\n",
       "  font-size: 1rem;\n",
       "  line-height: 1em;\n",
       "  font-family: monospace;\n",
       "  background-color: var(--sklearn-color-background);\n",
       "  border-radius: 1rem;\n",
       "  height: 1rem;\n",
       "  width: 1rem;\n",
       "  text-decoration: none;\n",
       "  /* unfitted */\n",
       "  color: var(--sklearn-color-unfitted-level-1);\n",
       "  border: var(--sklearn-color-unfitted-level-1) 1pt solid;\n",
       "}\n",
       "\n",
       "#sk-container-id-1 a.estimator_doc_link.fitted {\n",
       "  /* fitted */\n",
       "  border: var(--sklearn-color-fitted-level-1) 1pt solid;\n",
       "  color: var(--sklearn-color-fitted-level-1);\n",
       "}\n",
       "\n",
       "/* On hover */\n",
       "#sk-container-id-1 a.estimator_doc_link:hover {\n",
       "  /* unfitted */\n",
       "  background-color: var(--sklearn-color-unfitted-level-3);\n",
       "  color: var(--sklearn-color-background);\n",
       "  text-decoration: none;\n",
       "}\n",
       "\n",
       "#sk-container-id-1 a.estimator_doc_link.fitted:hover {\n",
       "  /* fitted */\n",
       "  background-color: var(--sklearn-color-fitted-level-3);\n",
       "}\n",
       "</style><div id=\"sk-container-id-1\" class=\"sk-top-container\"><div class=\"sk-text-repr-fallback\"><pre>Pipeline(steps=[(&#x27;tfidf&#x27;, TfidfVectorizer()), (&#x27;clf&#x27;, MultinomialNB())])</pre><b>In a Jupyter environment, please rerun this cell to show the HTML representation or trust the notebook. <br />On GitHub, the HTML representation is unable to render, please try loading this page with nbviewer.org.</b></div><div class=\"sk-container\" hidden><div class=\"sk-item sk-dashed-wrapped\"><div class=\"sk-label-container\"><div class=\"sk-label fitted sk-toggleable\"><input class=\"sk-toggleable__control sk-hidden--visually\" id=\"sk-estimator-id-1\" type=\"checkbox\" ><label for=\"sk-estimator-id-1\" class=\"sk-toggleable__label fitted sk-toggleable__label-arrow fitted\">&nbsp;&nbsp;Pipeline<a class=\"sk-estimator-doc-link fitted\" rel=\"noreferrer\" target=\"_blank\" href=\"https://scikit-learn.org/1.5/modules/generated/sklearn.pipeline.Pipeline.html\">?<span>Documentation for Pipeline</span></a><span class=\"sk-estimator-doc-link fitted\">i<span>Fitted</span></span></label><div class=\"sk-toggleable__content fitted\"><pre>Pipeline(steps=[(&#x27;tfidf&#x27;, TfidfVectorizer()), (&#x27;clf&#x27;, MultinomialNB())])</pre></div> </div></div><div class=\"sk-serial\"><div class=\"sk-item\"><div class=\"sk-estimator fitted sk-toggleable\"><input class=\"sk-toggleable__control sk-hidden--visually\" id=\"sk-estimator-id-2\" type=\"checkbox\" ><label for=\"sk-estimator-id-2\" class=\"sk-toggleable__label fitted sk-toggleable__label-arrow fitted\">&nbsp;TfidfVectorizer<a class=\"sk-estimator-doc-link fitted\" rel=\"noreferrer\" target=\"_blank\" href=\"https://scikit-learn.org/1.5/modules/generated/sklearn.feature_extraction.text.TfidfVectorizer.html\">?<span>Documentation for TfidfVectorizer</span></a></label><div class=\"sk-toggleable__content fitted\"><pre>TfidfVectorizer()</pre></div> </div></div><div class=\"sk-item\"><div class=\"sk-estimator fitted sk-toggleable\"><input class=\"sk-toggleable__control sk-hidden--visually\" id=\"sk-estimator-id-3\" type=\"checkbox\" ><label for=\"sk-estimator-id-3\" class=\"sk-toggleable__label fitted sk-toggleable__label-arrow fitted\">&nbsp;MultinomialNB<a class=\"sk-estimator-doc-link fitted\" rel=\"noreferrer\" target=\"_blank\" href=\"https://scikit-learn.org/1.5/modules/generated/sklearn.naive_bayes.MultinomialNB.html\">?<span>Documentation for MultinomialNB</span></a></label><div class=\"sk-toggleable__content fitted\"><pre>MultinomialNB()</pre></div> </div></div></div></div></div></div>"
      ],
      "text/plain": [
       "Pipeline(steps=[('tfidf', TfidfVectorizer()), ('clf', MultinomialNB())])"
      ]
     },
     "execution_count": 28,
     "metadata": {},
     "output_type": "execute_result"
    }
   ],
   "source": [
    "from sklearn.feature_extraction.text import TfidfVectorizer\n",
    "from sklearn.naive_bayes import MultinomialNB\n",
    "from sklearn.pipeline import Pipeline\n",
    "\n",
    "model0 = Pipeline([\n",
    "    ('tfidf', TfidfVectorizer()),\n",
    "    ('clf', MultinomialNB())\n",
    "])\n",
    "\n",
    "model0.fit(train_sentences, train_labels)"
   ]
  },
  {
   "cell_type": "code",
   "execution_count": 29,
   "metadata": {},
   "outputs": [
    {
     "name": "stdout",
     "output_type": "stream",
     "text": [
      "Our baseline model achieves an accuracy of 79.27%\n"
     ]
    }
   ],
   "source": [
    "baseline_score = model0.score(val_sentences, val_labels)\n",
    "print(f\"Our baseline model achieves an accuracy of {baseline_score*100:.2f}%\")"
   ]
  },
  {
   "cell_type": "code",
   "execution_count": 30,
   "metadata": {},
   "outputs": [
    {
     "data": {
      "text/plain": [
       "array([1, 1, 1, 0, 0, 1, 1, 1, 1, 0])"
      ]
     },
     "execution_count": 30,
     "metadata": {},
     "output_type": "execute_result"
    }
   ],
   "source": [
    "baseline_preds = model0.predict(val_sentences)\n",
    "baseline_preds[:10]"
   ]
  },
  {
   "cell_type": "markdown",
   "metadata": {},
   "source": [
    "### Creating an evaluation function for our model experiments  评估函数\n",
    "\n",
    "We could evaluate these as they are but since we're going to be evaluating several models in the same way going forward, let's create a helper function which takes an array of predictions and ground truth labels and computes the following:\n",
    "* Accuracy\n",
    "* Precision\n",
    "* Recall\n",
    "* F1-score\n",
    "\n",
    "> 🔑 **Note:** Since we're dealing with a classification problem, the above metrics are the most appropriate. If we were working with a regression problem, other metrics such as MAE (mean absolute error) would be a better choice."
   ]
  },
  {
   "cell_type": "code",
   "execution_count": 31,
   "metadata": {},
   "outputs": [],
   "source": [
    "from sklearn.metrics import accuracy_score, precision_recall_fscore_support,roc_auc_score\n",
    "\n",
    "def calculate_results(y_true, y_pred):\n",
    "  \"\"\"\n",
    "  Calculates model accuracy, precision, recall and f1 score of a binary classification model.\n",
    "\n",
    "  Args:\n",
    "  -----\n",
    "  y_true = true labels in the form of a 1D array\n",
    "  y_pred = predicted labels in the form of a 1D array\n",
    "\n",
    "  Returns a dictionary of accuracy, precision, recall, f1-score.\n",
    "  \"\"\"\n",
    "  # Calculate model accuracy\n",
    "  model_accuracy = accuracy_score(y_true, y_pred) \n",
    "  # Calculate model precision, recall and f1 score using \"weighted\" average\n",
    "  model_precision, model_recall, model_f1, _ = precision_recall_fscore_support(y_true, y_pred, average=\"weighted\")\n",
    "  auc = roc_auc_score(y_true, y_pred)\n",
    "  model_results = {\"accuracy\": model_accuracy,\n",
    "                  \"precision\": model_precision,\n",
    "                  \"recall\": model_recall,\n",
    "                  \"f1\": model_f1,\n",
    "                  \"auc\":auc}\n",
    "  return model_results"
   ]
  },
  {
   "cell_type": "code",
   "execution_count": 32,
   "metadata": {},
   "outputs": [
    {
     "data": {
      "text/plain": [
       "{'accuracy': 0.7926509186351706,\n",
       " 'precision': 0.8111390004213173,\n",
       " 'recall': 0.7926509186351706,\n",
       " 'f1': 0.7862189758049549,\n",
       " 'auc': 0.7794019656838247}"
      ]
     },
     "execution_count": 32,
     "metadata": {},
     "output_type": "execute_result"
    }
   ],
   "source": [
    "baseline_results = calculate_results(val_labels,baseline_preds)\n",
    "baseline_results"
   ]
  },
  {
   "cell_type": "markdown",
   "metadata": {},
   "source": [
    "### Model 1: A simple dense model  简单的dnn模型\n",
    "\n",
    "The first \"deep\" model we're going to build is a single layer dense model. In fact, it's barely going to have a single layer. \n",
    "\n",
    "It'll take our text and labels as input, tokenize the text, create an embedding, find the average of the embedding (using Global Average Pooling) and then pass the average through a fully connected layer with one output unit and a sigmoid activation function.\n",
    "\n",
    "If the previous sentence sounds like a mouthful, it'll make sense when we code it out (remember, if in doubt, code it out).\n",
    "\n",
    "And since we're going to be building a number of TensorFlow deep learning models, we'll import our `create_tensorboard_callback()` function from `helper_functions.py` to keep track of the results of each. "
   ]
  },
  {
   "cell_type": "code",
   "execution_count": 33,
   "metadata": {},
   "outputs": [],
   "source": [
    "from helper_functions import create_tensorboard_callback\n",
    "\n",
    "SAVE_DIR = \"model_log\""
   ]
  },
  {
   "cell_type": "code",
   "execution_count": 34,
   "metadata": {},
   "outputs": [
    {
     "name": "stdout",
     "output_type": "stream",
     "text": [
      "Model: \"model1\"\n",
      "_________________________________________________________________\n",
      " Layer (type)                Output Shape              Param #   \n",
      "=================================================================\n",
      " input_1 (InputLayer)        [(None, 1)]               0         \n",
      "                                                                 \n",
      " text_vectorization_1 (TextV  (None, 15)               0         \n",
      " ectorization)                                                   \n",
      "                                                                 \n",
      " embedding_1 (Embedding)     (None, 15, 64)            640000    \n",
      "                                                                 \n",
      " global_average_pooling1d (G  (None, 64)               0         \n",
      " lobalAveragePooling1D)                                          \n",
      "                                                                 \n",
      " dense (Dense)               (None, 1)                 65        \n",
      "                                                                 \n",
      "=================================================================\n",
      "Total params: 640,065\n",
      "Trainable params: 640,065\n",
      "Non-trainable params: 0\n",
      "_________________________________________________________________\n"
     ]
    }
   ],
   "source": [
    "# Build model with the Functional API\n",
    "from tensorflow.keras import layers\n",
    "inputs = layers.Input(shape=(1,),dtype='string') # 输入是一维的 strings\n",
    "x = text_vectorizer(inputs) # 数字化\n",
    "x = embedding(x) # embedding\n",
    "x = layers.GlobalAveragePooling1D()(x)  # 全局平均池化\n",
    "outputs = layers.Dense(1,activation='sigmoid')(x) # 输出\n",
    "model1 = tf.keras.Model(inputs,outputs,name='model1')\n",
    "\n",
    "model1.compile(loss='binary_crossentropy',\n",
    "              optimizer=tf.keras.optimizers.Adam(),\n",
    "              metrics=['accuracy'])\n",
    "\n",
    "model1.summary()"
   ]
  },
  {
   "cell_type": "code",
   "execution_count": 35,
   "metadata": {},
   "outputs": [
    {
     "name": "stdout",
     "output_type": "stream",
     "text": [
      "Saving TensorBoard log files to: model_log/simple_dense_model/20250122-102752\n",
      "Epoch 1/5\n",
      "215/215 [==============================] - 1s 3ms/step - loss: 0.6321 - accuracy: 0.6697 - val_loss: 0.5771 - val_accuracy: 0.7257\n",
      "Epoch 2/5\n",
      "215/215 [==============================] - 0s 2ms/step - loss: 0.4888 - accuracy: 0.7980 - val_loss: 0.4907 - val_accuracy: 0.7835\n",
      "Epoch 3/5\n",
      "215/215 [==============================] - 0s 2ms/step - loss: 0.3933 - accuracy: 0.8428 - val_loss: 0.4677 - val_accuracy: 0.7848\n",
      "Epoch 4/5\n",
      "215/215 [==============================] - 0s 2ms/step - loss: 0.3326 - accuracy: 0.8685 - val_loss: 0.4589 - val_accuracy: 0.7900\n",
      "Epoch 5/5\n",
      "215/215 [==============================] - 0s 2ms/step - loss: 0.2861 - accuracy: 0.8913 - val_loss: 0.4594 - val_accuracy: 0.7913\n"
     ]
    }
   ],
   "source": [
    "# 大部分的参数都在embedding层，64维度，10000个词，参数是640000\n",
    "model1_history = model1.fit(train_sentences,train_labels,epochs=5,validation_data=(val_sentences,val_labels),\n",
    "                            callbacks=[create_tensorboard_callback(dir_name=SAVE_DIR, \n",
    "                                                                     experiment_name=\"simple_dense_model\")])"
   ]
  },
  {
   "cell_type": "code",
   "execution_count": 36,
   "metadata": {},
   "outputs": [
    {
     "name": "stdout",
     "output_type": "stream",
     "text": [
      " 1/24 [>.............................] - ETA: 0s - loss: 0.5675 - accuracy: 0.7500"
     ]
    },
    {
     "name": "stdout",
     "output_type": "stream",
     "text": [
      "24/24 [==============================] - 0s 785us/step - loss: 0.4594 - accuracy: 0.7913\n"
     ]
    },
    {
     "data": {
      "text/plain": [
       "[0.4594421088695526, 0.7913385629653931]"
      ]
     },
     "execution_count": 36,
     "metadata": {},
     "output_type": "execute_result"
    }
   ],
   "source": [
    "model1.evaluate(val_sentences,val_labels)"
   ]
  },
  {
   "cell_type": "code",
   "execution_count": 37,
   "metadata": {},
   "outputs": [
    {
     "data": {
      "text/plain": [
       "keras.layers.core.embedding.Embedding"
      ]
     },
     "execution_count": 37,
     "metadata": {},
     "output_type": "execute_result"
    }
   ],
   "source": [
    "type(embedding)"
   ]
  },
  {
   "cell_type": "code",
   "execution_count": 38,
   "metadata": {},
   "outputs": [
    {
     "data": {
      "text/plain": [
       "[<tf.Variable 'embedding_1/embeddings:0' shape=(10000, 64) dtype=float32, numpy=\n",
       " array([[-0.01238398,  0.03976315,  0.05967141, ...,  0.00147118,\n",
       "         -0.00120488,  0.00906573],\n",
       "        [-0.02461476,  0.03500758,  0.03809715, ..., -0.01444725,\n",
       "         -0.01653738, -0.00166482],\n",
       "        [-0.01028796, -0.01531043,  0.01261931, ..., -0.0136078 ,\n",
       "          0.01689295, -0.03572265],\n",
       "        ...,\n",
       "        [-0.02546743,  0.01498115,  0.01955494, ...,  0.0299913 ,\n",
       "          0.00061687,  0.01210845],\n",
       "        [-0.03546415,  0.03735868,  0.01723779, ...,  0.00926579,\n",
       "          0.01255319, -0.02697073],\n",
       "        [-0.06960812,  0.08935145,  0.07606605, ...,  0.09076706,\n",
       "          0.09401847, -0.05873762]], dtype=float32)>]"
      ]
     },
     "execution_count": 38,
     "metadata": {},
     "output_type": "execute_result"
    }
   ],
   "source": [
    "embedding.weights"
   ]
  },
  {
   "cell_type": "code",
   "execution_count": 39,
   "metadata": {},
   "outputs": [
    {
     "data": {
      "text/plain": [
       "(array([[-0.01238398,  0.03976315,  0.05967141, ...,  0.00147118,\n",
       "         -0.00120488,  0.00906573],\n",
       "        [-0.02461476,  0.03500758,  0.03809715, ..., -0.01444725,\n",
       "         -0.01653738, -0.00166482],\n",
       "        [-0.01028796, -0.01531043,  0.01261931, ..., -0.0136078 ,\n",
       "          0.01689295, -0.03572265],\n",
       "        ...,\n",
       "        [-0.02546743,  0.01498115,  0.01955494, ...,  0.0299913 ,\n",
       "          0.00061687,  0.01210845],\n",
       "        [-0.03546415,  0.03735868,  0.01723779, ...,  0.00926579,\n",
       "          0.01255319, -0.02697073],\n",
       "        [-0.06960812,  0.08935145,  0.07606605, ...,  0.09076706,\n",
       "          0.09401847, -0.05873762]], dtype=float32),\n",
       " (10000, 64))"
      ]
     },
     "execution_count": 39,
     "metadata": {},
     "output_type": "execute_result"
    }
   ],
   "source": [
    "embed_weights = model1.get_layer('embedding_1').get_weights()[0]\n",
    "embed_weights,embed_weights.shape"
   ]
  },
  {
   "cell_type": "code",
   "execution_count": 40,
   "metadata": {},
   "outputs": [
    {
     "name": "stdout",
     "output_type": "stream",
     "text": [
      "24/24 [==============================] - 0s 741us/step\n"
     ]
    },
    {
     "data": {
      "text/plain": [
       "array([[0.3801634 ],\n",
       "       [0.76140225],\n",
       "       [0.99346286],\n",
       "       [0.13641238],\n",
       "       [0.17425583],\n",
       "       [0.9051495 ],\n",
       "       [0.9056347 ],\n",
       "       [0.98097146],\n",
       "       [0.9245294 ],\n",
       "       [0.22286959]], dtype=float32)"
      ]
     },
     "execution_count": 40,
     "metadata": {},
     "output_type": "execute_result"
    }
   ],
   "source": [
    "model1_pred_probs = model1.predict(val_sentences)\n",
    "model1_pred_probs[:10]"
   ]
  },
  {
   "cell_type": "code",
   "execution_count": 41,
   "metadata": {},
   "outputs": [
    {
     "data": {
      "text/plain": [
       "<tf.Tensor: shape=(762,), dtype=float32, numpy=\n",
       "array([0., 1., 1., 0., 0., 1., 1., 1., 1., 0., 0., 1., 0., 0., 0., 0., 0.,\n",
       "       0., 0., 0., 1., 0., 0., 0., 1., 1., 0., 0., 0., 0., 1., 0., 1., 0.,\n",
       "       0., 0., 1., 0., 0., 1., 0., 0., 0., 0., 1., 1., 0., 1., 0., 1., 0.,\n",
       "       1., 0., 0., 0., 0., 0., 1., 0., 0., 0., 1., 1., 0., 1., 1., 1., 1.,\n",
       "       0., 0., 0., 0., 1., 0., 0., 0., 0., 1., 0., 1., 1., 0., 1., 0., 0.,\n",
       "       0., 0., 0., 1., 1., 1., 0., 0., 0., 1., 1., 1., 1., 1., 1., 1., 0.,\n",
       "       0., 1., 1., 0., 1., 1., 0., 0., 1., 0., 0., 0., 0., 0., 0., 1., 1.,\n",
       "       0., 1., 0., 0., 1., 0., 0., 1., 0., 0., 1., 0., 1., 1., 1., 1., 0.,\n",
       "       1., 0., 0., 0., 1., 0., 0., 1., 0., 1., 0., 0., 0., 1., 0., 0., 0.,\n",
       "       0., 0., 1., 1., 0., 1., 0., 1., 0., 0., 1., 0., 0., 1., 0., 1., 0.,\n",
       "       1., 1., 1., 0., 1., 0., 0., 0., 1., 1., 0., 1., 1., 1., 1., 1., 0.,\n",
       "       1., 0., 0., 0., 1., 0., 0., 0., 0., 0., 0., 1., 0., 0., 1., 1., 0.,\n",
       "       0., 1., 0., 1., 1., 1., 0., 1., 0., 0., 0., 0., 1., 1., 1., 0., 1.,\n",
       "       0., 0., 0., 1., 0., 1., 1., 1., 1., 0., 0., 1., 0., 0., 0., 1., 0.,\n",
       "       0., 0., 0., 0., 1., 1., 0., 0., 1., 0., 0., 0., 0., 0., 0., 0., 1.,\n",
       "       0., 1., 1., 0., 0., 1., 0., 0., 1., 1., 1., 1., 0., 0., 0., 0., 0.,\n",
       "       1., 0., 0., 1., 0., 0., 1., 0., 0., 0., 1., 0., 1., 1., 0., 0., 1.,\n",
       "       0., 1., 0., 0., 0., 0., 1., 0., 1., 0., 1., 0., 0., 0., 1., 0., 0.,\n",
       "       0., 0., 0., 0., 0., 1., 0., 0., 1., 0., 1., 0., 0., 0., 0., 0., 1.,\n",
       "       0., 1., 0., 0., 1., 0., 1., 0., 0., 1., 0., 0., 1., 0., 0., 1., 1.,\n",
       "       0., 0., 1., 1., 1., 0., 1., 0., 0., 0., 0., 1., 0., 0., 0., 0., 1.,\n",
       "       1., 1., 0., 0., 0., 1., 1., 0., 0., 0., 0., 1., 0., 0., 0., 0., 0.,\n",
       "       0., 0., 0., 0., 0., 1., 1., 0., 1., 0., 0., 1., 1., 0., 1., 0., 1.,\n",
       "       0., 0., 1., 0., 1., 0., 0., 0., 0., 1., 0., 1., 1., 0., 1., 0., 0.,\n",
       "       0., 1., 1., 0., 0., 0., 1., 1., 0., 1., 1., 0., 1., 1., 1., 1., 0.,\n",
       "       0., 0., 1., 1., 0., 0., 0., 0., 0., 0., 0., 0., 0., 1., 1., 0., 1.,\n",
       "       0., 0., 0., 1., 0., 0., 0., 0., 0., 1., 1., 1., 1., 1., 0., 0., 1.,\n",
       "       1., 1., 0., 0., 0., 1., 1., 0., 0., 1., 0., 0., 1., 0., 0., 1., 0.,\n",
       "       0., 1., 0., 0., 0., 0., 0., 1., 0., 0., 0., 0., 0., 0., 0., 1., 0.,\n",
       "       0., 0., 0., 0., 1., 0., 1., 1., 1., 1., 1., 0., 0., 0., 1., 0., 0.,\n",
       "       0., 0., 0., 0., 1., 0., 1., 1., 1., 1., 0., 0., 1., 0., 0., 0., 0.,\n",
       "       0., 1., 1., 1., 1., 0., 0., 1., 0., 0., 0., 0., 1., 0., 0., 0., 0.,\n",
       "       0., 0., 0., 1., 1., 0., 1., 1., 0., 1., 0., 0., 0., 0., 0., 0., 0.,\n",
       "       0., 1., 0., 1., 0., 1., 1., 0., 0., 1., 1., 1., 0., 0., 0., 0., 0.,\n",
       "       1., 0., 0., 0., 1., 0., 0., 1., 0., 0., 0., 0., 0., 0., 0., 0., 0.,\n",
       "       0., 0., 1., 1., 0., 0., 0., 1., 1., 1., 0., 1., 0., 1., 1., 0., 1.,\n",
       "       0., 0., 1., 0., 0., 0., 0., 0., 1., 0., 1., 0., 1., 0., 0., 0., 1.,\n",
       "       0., 0., 1., 1., 1., 1., 0., 0., 0., 0., 0., 1., 0., 1., 1., 0., 0.,\n",
       "       0., 0., 0., 1., 1., 0., 0., 0., 0., 0., 0., 1., 0., 0., 0., 0., 1.,\n",
       "       0., 0., 0., 0., 0., 1., 1., 0., 0., 0., 0., 1., 1., 1., 0., 0., 1.,\n",
       "       0., 0., 1., 0., 0., 1., 0., 0., 0., 0., 1., 1., 1., 0., 1., 0., 1.,\n",
       "       0., 1., 0., 0., 0., 1., 0., 0., 0., 0., 0., 0., 0., 0., 0., 1., 0.,\n",
       "       0., 0., 0., 0., 1., 0., 1., 0., 0., 1., 0., 0., 0., 0., 1., 0., 0.,\n",
       "       1., 1., 1., 1., 1., 0., 0., 0., 0., 1., 0., 0., 1., 1., 0., 0., 0.,\n",
       "       0., 0., 0., 0., 1., 0., 1., 1., 0., 0., 0., 1., 0., 0.],\n",
       "      dtype=float32)>"
      ]
     },
     "execution_count": 41,
     "metadata": {},
     "output_type": "execute_result"
    }
   ],
   "source": [
    "# 将预测值改为0，1\n",
    "model1_preds =  tf.round(tf.squeeze(model1_pred_probs))\n",
    "model1_preds"
   ]
  },
  {
   "cell_type": "code",
   "execution_count": 42,
   "metadata": {},
   "outputs": [
    {
     "data": {
      "text/plain": [
       "{'accuracy': 0.7913385826771654,\n",
       " 'precision': 0.7976012509315953,\n",
       " 'recall': 0.7913385826771654,\n",
       " 'f1': 0.78803568654912,\n",
       " 'auc': 0.782088122605364}"
      ]
     },
     "execution_count": 42,
     "metadata": {},
     "output_type": "execute_result"
    }
   ],
   "source": [
    "model1_results = calculate_results(val_labels,model1_preds)\n",
    "model1_results"
   ]
  },
  {
   "cell_type": "code",
   "execution_count": 43,
   "metadata": {},
   "outputs": [
    {
     "name": "stdout",
     "output_type": "stream",
     "text": [
      "Baseline accuracy: 0.79, New accuracy: 0.79, Difference: -0.00\n",
      "Baseline precision: 0.81, New precision: 0.80, Difference: -0.01\n",
      "Baseline recall: 0.79, New recall: 0.79, Difference: -0.00\n",
      "Baseline f1: 0.79, New f1: 0.79, Difference: 0.00\n",
      "Baseline auc: 0.78, New auc: 0.78, Difference: 0.00\n"
     ]
    }
   ],
   "source": [
    "# Create a helper function to compare our baseline results to new model results\n",
    "def compare_baseline_to_new_results(baseline_results, new_model_results):\n",
    "  for key, value in baseline_results.items():\n",
    "    print(f\"Baseline {key}: {value:.2f}, New {key}: {new_model_results[key]:.2f}, Difference: {new_model_results[key]-value:.2f}\")\n",
    "\n",
    "compare_baseline_to_new_results(baseline_results=baseline_results, \n",
    "                                new_model_results=model1_results)"
   ]
  },
  {
   "cell_type": "markdown",
   "metadata": {},
   "source": [
    "## Visualizing learned embeddings\n",
    "\n",
    "Our first model (`model_1`) contained an embedding layer (`embedding`) which learned a way of representing words as feature vectors by passing over the training data.\n",
    "\n",
    "Hearing this for the first few times may sound confusing.\n",
    "\n",
    "So to further help understand what a text embedding is, let's visualize the embedding our model learned.\n",
    "\n",
    "To do so, let's remind ourselves of the words in our vocabulary.\n"
   ]
  },
  {
   "cell_type": "code",
   "execution_count": 44,
   "metadata": {},
   "outputs": [
    {
     "data": {
      "text/plain": [
       "(10000, ['', '[UNK]', 'the', 'a', 'in', 'to', 'of', 'and', 'i', 'is'])"
      ]
     },
     "execution_count": 44,
     "metadata": {},
     "output_type": "execute_result"
    }
   ],
   "source": [
    "words_in_vocab = text_vectorizer.get_vocabulary()\n",
    "len(words_in_vocab),words_in_vocab[:10]"
   ]
  },
  {
   "cell_type": "code",
   "execution_count": 45,
   "metadata": {},
   "outputs": [
    {
     "name": "stdout",
     "output_type": "stream",
     "text": [
      "Model: \"model1\"\n",
      "_________________________________________________________________\n",
      " Layer (type)                Output Shape              Param #   \n",
      "=================================================================\n",
      " input_1 (InputLayer)        [(None, 1)]               0         \n",
      "                                                                 \n",
      " text_vectorization_1 (TextV  (None, 15)               0         \n",
      " ectorization)                                                   \n",
      "                                                                 \n",
      " embedding_1 (Embedding)     (None, 15, 64)            640000    \n",
      "                                                                 \n",
      " global_average_pooling1d (G  (None, 64)               0         \n",
      " lobalAveragePooling1D)                                          \n",
      "                                                                 \n",
      " dense (Dense)               (None, 1)                 65        \n",
      "                                                                 \n",
      "=================================================================\n",
      "Total params: 640,065\n",
      "Trainable params: 640,065\n",
      "Non-trainable params: 0\n",
      "_________________________________________________________________\n"
     ]
    }
   ],
   "source": [
    "model1.summary()"
   ]
  },
  {
   "cell_type": "code",
   "execution_count": 46,
   "metadata": {},
   "outputs": [
    {
     "data": {
      "text/plain": [
       "(array([[-0.01238398,  0.03976315,  0.05967141, ...,  0.00147118,\n",
       "         -0.00120488,  0.00906573],\n",
       "        [-0.02461476,  0.03500758,  0.03809715, ..., -0.01444725,\n",
       "         -0.01653738, -0.00166482],\n",
       "        [-0.01028796, -0.01531043,  0.01261931, ..., -0.0136078 ,\n",
       "          0.01689295, -0.03572265],\n",
       "        ...,\n",
       "        [-0.02546743,  0.01498115,  0.01955494, ...,  0.0299913 ,\n",
       "          0.00061687,  0.01210845],\n",
       "        [-0.03546415,  0.03735868,  0.01723779, ...,  0.00926579,\n",
       "          0.01255319, -0.02697073],\n",
       "        [-0.06960812,  0.08935145,  0.07606605, ...,  0.09076706,\n",
       "          0.09401847, -0.05873762]], dtype=float32),\n",
       " (10000, 64))"
      ]
     },
     "execution_count": 46,
     "metadata": {},
     "output_type": "execute_result"
    }
   ],
   "source": [
    "embed_weights = model1.get_layer('embedding_1').get_weights()[0]\n",
    "embed_weights,embed_weights.shape"
   ]
  },
  {
   "cell_type": "markdown",
   "metadata": {},
   "source": [
    "Now we've got these two objects, we can use the [Embedding Projector tool](http://projector.tensorflow.org/_) to visualize our embedding. \n",
    "\n",
    "To use the Embedding Projector tool, we need two files:\n",
    "* The embedding vectors (same as embedding weights).\n",
    "* The meta data of the embedding vectors (the words they represent - our vocabulary).\n",
    "\n",
    "Right now, we've got of these files as Python objects. To download them to file, we're going to [use the code example available on the TensorFlow word embeddings tutorial page](https://www.tensorflow.org/tutorials/text/word_embeddings#retrieve_the_trained_word_embeddings_and_save_them_to_disk).\n"
   ]
  },
  {
   "cell_type": "code",
   "execution_count": 47,
   "metadata": {},
   "outputs": [],
   "source": [
    "# # Code below is adapted from: https://www.tensorflow.org/tutorials/text/word_embeddings#retrieve_the_trained_word_embeddings_and_save_them_to_disk\n",
    "# import io\n",
    "\n",
    "# # Create output writers\n",
    "# out_v = io.open(\"embedding_vectors.tsv\", \"w\", encoding=\"utf-8\")\n",
    "# out_m = io.open(\"embedding_metadata.tsv\", \"w\", encoding=\"utf-8\")\n",
    "\n",
    "# # Write embedding vectors and words to file\n",
    "# for num, word in enumerate(words_in_vocab):\n",
    "#   if num == 0: \n",
    "#      continue # skip padding token\n",
    "#   vec = embed_weights[num]\n",
    "#   out_m.write(word + \"\\n\") # write words to file\n",
    "#   out_v.write(\"\\t\".join([str(x) for x in vec]) + \"\\n\") # write corresponding word vector to file\n",
    "# out_v.close()\n",
    "# out_m.close()\n",
    "\n",
    "# # Download files locally to upload to Embedding Projector\n",
    "# try:\n",
    "#   from google.colab import files\n",
    "# except ImportError:\n",
    "#   pass\n",
    "# else:\n",
    "#   files.download(\"embedding_vectors.tsv\")\n",
    "#   files.download(\"embedding_metadata.tsv\")"
   ]
  },
  {
   "cell_type": "markdown",
   "metadata": {},
   "source": [
    "Once you've downloaded the embedding vectors and metadata, you can visualize them using Embedding Vector tool:\n",
    "1. Go to  http://projector.tensorflow.org/  查看embedding的分布\n",
    "2. Click on \"Load data\"\n",
    "3. Upload the two files you downloaded (`embedding_vectors.tsv` and `embedding_metadata.tsv`)\n",
    "4. Explore\n",
    "5. Optional: You can share the data you've created by clicking \"Publish\"\n",
    "\n",
    "What do you find?\n",
    "\n",
    "Are words with similar meanings close together?\n",
    "\n",
    "Remember, they might not be. The embeddings we downloaded are how our model interprets words, not necessarily how we interpret them. \n",
    "\n",
    "Also, since the embedding has been learned purely from Tweets, it may contain some strange values as Tweets are a very unique style of natural language.\n",
    "\n",
    "> 🤔 **Question:** Do you have to visualize embeddings every time?\n",
    "\n",
    "No. Although helpful for gaining an intuition of what natural language embeddings are, it's not completely necessary. Especially as the dimensions of your vocabulary and embeddings grow, trying to comprehend them would become an increasingly difficult task."
   ]
  },
  {
   "cell_type": "markdown",
   "metadata": {},
   "source": [
    "## Recurrent Neural Networks (RNN's) RNN系列模型\n",
    "\n",
    "For our next series of modelling experiments we're going to be using a special kind of neural network called a **Recurrent Neural Network (RNN)**.\n",
    "\n",
    "The premise of an RNN is simple: use information from the past to help you with the future (this is where the term recurrent comes from). In other words, take an input (`X`) and compute an output (`y`) based on all previous inputs.\n",
    "\n",
    "This concept is especially helpful when dealing with sequences such as passages of natural language text (such as our Tweets).\n",
    "\n",
    "For example, when you read this sentence, you take into context the previous words when deciphering the meaning of the current word dog. \n",
    "\n",
    "See what happened there? \n",
    "\n",
    "I put the word \"dog\" at the end which is a valid word but it doesn't make sense in the context of the rest of the sentence.\n",
    "\n",
    "When an RNN looks at a sequence of text (already in numerical form), the patterns it learns are continually updated based on the order of the sequence. \n",
    "\n",
    "For a simple example, take two sentences:\n",
    "1. Massive earthquake last week, no?\n",
    "2. No massive earthquake last week.\n",
    "\n",
    "Both contain exactly the same words but have different meaning. The order of the words determines the meaning (one could argue punctuation marks also dictate the meaning but for simplicity sake, let's stay focused on the words).\n",
    "\n",
    "Recurrent neural networks can be used for a number of sequence-based problems:\n",
    "* **One to one:** one input, one output, such as image classification.\n",
    "* **One to many:** one input, many outputs, such as image captioning (image input, a sequence of text as caption output).\n",
    "* **Many to one:** many inputs, one outputs, such as text classification (classifying a Tweet as real diaster or not real diaster).\n",
    "* **Many to many:** many inputs, many outputs, such as machine translation (translating English to Spanish) or speech to text (audio wave as input, text as output).\n",
    "\n",
    "LSTM、GRU、Bidirectional RNN 等模型\n",
    "\n",
    "When you come across RNN's in the wild, you'll most likely come across variants of the following:\n",
    "* Long short-term memory cells (LSTMs).\n",
    "* Gated recurrent units (GRUs).\n",
    "* Bidirectional RNN's (passes forward and backward along a sequence, left to right and right to left).\n",
    "\n",
    "Going into the details of each these is beyond the scope of this notebook (we're going to focus on using them instead), the main thing you should know for now is that they've proven very effective at modelling sequences.\n",
    "\n",
    "For a deeper understanding of what's happening behind the scenes of the code we're about to write, I'd recommend the following resources:\n",
    "\n",
    "> 📖 **Resources:**\n",
    "> * [MIT Deep Learning Lecture on Recurrent Neural Networks](https://youtu.be/SEnXr6v2ifU) - explains the background of recurrent neural networks and introduces LSTMs.\n",
    "> * [The Unreasonable Effectiveness of Recurrent Neural Networks](http://karpathy.github.io/2015/05/21/rnn-effectiveness/) by Andrej Karpathy - demonstrates the power of RNN's with examples generating various sequences.\n",
    "> * [Understanding LSTMs](https://colah.github.io/posts/2015-08-Understanding-LSTMs/) by Chris Olah - an in-depth (and technical) look at the mechanics of the LSTM cell, possibly the most popular RNN building block.\n"
   ]
  },
  {
   "cell_type": "markdown",
   "metadata": {},
   "source": [
    "### Model 2: LSTM\n",
    "\n",
    "With all this talk of what RNN's are and what they're good for, I'm sure you're eager to build one.\n",
    "\n",
    "We're going to start with an LSTM-powered RNN.\n",
    "\n",
    "To harness the power of the LSTM cell (LSTM cell and LSTM layer are often used interchangably) in TensorFlow, we'll use [`tensorflow.keras.layers.LSTM()`](https://www.tensorflow.org/api_docs/python/tf/keras/layers/LSTM).\n",
    "\n",
    "![](https://raw.githubusercontent.com/mrdbourke/tensorflow-deep-learning/main/images/08-RNN-architecture-coloured-block-edition.png)\n",
    "*Coloured block example of the structure of an recurrent neural network.*\n",
    "\n",
    "Our model is going to take on a very similar structure to `model_1`:\n",
    "\n",
    "```\n",
    "Input (text) -> Tokenize -> Embedding -> Layers -> Output (label probability)\n",
    "```\n",
    "\n",
    "The main difference will be that we're going to add an LSTM layer between our embedding and output.\n",
    "\n",
    "And to make sure we're not getting reusing trained embeddings (this would involve data leakage between models, leading to an uneven comparison later on), we'll create another embedding layer (`model_2_embedding`) for our model. The `text_vectorizer` layer can be reused since it doesn't get updated during training.\n",
    "\n",
    "> 🔑 **Note:** The reason we use a new embedding layer for each model is since the embedding layer is a *learned* representation of words (as numbers), if we were to use the same embedding layer (`embedding_1`) for each model, we'd be mixing what one model learned with the next. And because we want to compare our models later on, starting them with their own embedding layer each time is a better idea."
   ]
  },
  {
   "cell_type": "code",
   "execution_count": 48,
   "metadata": {},
   "outputs": [
    {
     "name": "stdout",
     "output_type": "stream",
     "text": [
      "(None, 15, 128)\n",
      "(None, 64)\n"
     ]
    }
   ],
   "source": [
    "tf.random.set_seed(42)\n",
    "model2_embedding = layers.Embedding(input_dim=max_vocab_length, output_dim=128,embeddings_initializer=\"uniform\", input_length=max_length,name=\"embedding_2\")\n",
    "inputs = layers.Input(shape=(1,),dtype=\"string\")\n",
    "x = text_vectorizer(inputs)\n",
    "x = model2_embedding(x)\n",
    "print(x.shape)\n",
    "# LSTM\n",
    "x = layers.LSTM(64)(x)\n",
    "print(x.shape)\n",
    "outputs = layers.Dense(1,activation=\"sigmoid\")(x)\n",
    "model2 = tf.keras.Model(inputs,outputs,name=\"model_2_LSTM\")"
   ]
  },
  {
   "cell_type": "code",
   "execution_count": 49,
   "metadata": {},
   "outputs": [
    {
     "name": "stdout",
     "output_type": "stream",
     "text": [
      "Model: \"model_2_LSTM\"\n",
      "_________________________________________________________________\n",
      " Layer (type)                Output Shape              Param #   \n",
      "=================================================================\n",
      " input_2 (InputLayer)        [(None, 1)]               0         \n",
      "                                                                 \n",
      " text_vectorization_1 (TextV  (None, 15)               0         \n",
      " ectorization)                                                   \n",
      "                                                                 \n",
      " embedding_2 (Embedding)     (None, 15, 128)           1280000   \n",
      "                                                                 \n",
      " lstm (LSTM)                 (None, 64)                49408     \n",
      "                                                                 \n",
      " dense_1 (Dense)             (None, 1)                 65        \n",
      "                                                                 \n",
      "=================================================================\n",
      "Total params: 1,329,473\n",
      "Trainable params: 1,329,473\n",
      "Non-trainable params: 0\n",
      "_________________________________________________________________\n"
     ]
    }
   ],
   "source": [
    "model2.compile(loss='categorical_crossentropy', optimizer='adam', metrics=['accuracy'])\n",
    "model2.summary()"
   ]
  },
  {
   "cell_type": "markdown",
   "metadata": {},
   "source": [
    "Looking good! You'll notice a fair few more trainable parameters within our LSTM layer than `model_1`. \n",
    "\n",
    "If you'd like to know where this number comes from, I recommend going through the above resources as well the following on calculating the number of parameters in an LSTM cell:\n",
    "* [Stack Overflow answer to calculate the number of parameters in an LSTM cell](https://stackoverflow.com/questions/38080035/how-to-calculate-the-number-of-parameters-of-an-lstm-network) by Marcin Możejko\n",
    "* [Calculating number of parameters in a LSTM unit and layer](https://medium.com/@priyadarshi.cse/calculating-number-of-parameters-in-a-lstm-unit-layer-7e491978e1e4) by Shridhar Priyadarshi\n",
    "\n",
    "Now our first RNN model's compiled let's fit it to our training data, validating it on the validation data and tracking its training parameters using our TensorBoard callback."
   ]
  },
  {
   "cell_type": "code",
   "execution_count": 50,
   "metadata": {},
   "outputs": [
    {
     "name": "stdout",
     "output_type": "stream",
     "text": [
      "Saving TensorBoard log files to: model_log/LSTM/20250122-102756\n",
      "Epoch 1/10\n",
      "215/215 [==============================] - 3s 9ms/step - loss: 0.0000e+00 - accuracy: 0.5728 - val_loss: 0.0000e+00 - val_accuracy: 0.5433\n",
      "Epoch 2/10\n",
      "215/215 [==============================] - 2s 8ms/step - loss: 0.0000e+00 - accuracy: 0.5733 - val_loss: 0.0000e+00 - val_accuracy: 0.5433\n",
      "Epoch 3/10\n",
      "215/215 [==============================] - 2s 8ms/step - loss: 0.0000e+00 - accuracy: 0.5733 - val_loss: 0.0000e+00 - val_accuracy: 0.5433\n",
      "Epoch 4/10\n",
      "215/215 [==============================] - 2s 8ms/step - loss: 0.0000e+00 - accuracy: 0.5733 - val_loss: 0.0000e+00 - val_accuracy: 0.5433\n",
      "Epoch 5/10\n",
      "215/215 [==============================] - 2s 8ms/step - loss: 0.0000e+00 - accuracy: 0.5733 - val_loss: 0.0000e+00 - val_accuracy: 0.5433\n",
      "Epoch 6/10\n",
      "215/215 [==============================] - 2s 8ms/step - loss: 0.0000e+00 - accuracy: 0.5733 - val_loss: 0.0000e+00 - val_accuracy: 0.5433\n",
      "Epoch 7/10\n",
      "215/215 [==============================] - 2s 8ms/step - loss: 0.0000e+00 - accuracy: 0.5733 - val_loss: 0.0000e+00 - val_accuracy: 0.5433\n",
      "Epoch 8/10\n",
      "215/215 [==============================] - 2s 8ms/step - loss: 0.0000e+00 - accuracy: 0.5733 - val_loss: 0.0000e+00 - val_accuracy: 0.5433\n",
      "Epoch 9/10\n",
      "215/215 [==============================] - 2s 8ms/step - loss: 0.0000e+00 - accuracy: 0.5733 - val_loss: 0.0000e+00 - val_accuracy: 0.5433\n",
      "Epoch 10/10\n",
      "215/215 [==============================] - 2s 8ms/step - loss: 0.0000e+00 - accuracy: 0.5733 - val_loss: 0.0000e+00 - val_accuracy: 0.5433\n"
     ]
    }
   ],
   "source": [
    "# 大部分的参数都在embedding层，64维度，10000个词，参数是640000\n",
    "model2_history = model2.fit(train_sentences,train_labels,epochs=10,validation_data=(val_sentences,val_labels),\n",
    "                            callbacks=[create_tensorboard_callback(dir_name=SAVE_DIR, \n",
    "                                                                     experiment_name=\"LSTM\")])"
   ]
  },
  {
   "cell_type": "code",
   "execution_count": 51,
   "metadata": {},
   "outputs": [
    {
     "name": "stdout",
     "output_type": "stream",
     "text": [
      "24/24 [==============================] - 0s 2ms/step\n"
     ]
    },
    {
     "data": {
      "text/plain": [
       "array([[0.],\n",
       "       [0.],\n",
       "       [0.],\n",
       "       [0.],\n",
       "       [0.],\n",
       "       [0.],\n",
       "       [0.],\n",
       "       [0.],\n",
       "       [0.],\n",
       "       [0.],\n",
       "       [0.],\n",
       "       [0.],\n",
       "       [0.],\n",
       "       [0.],\n",
       "       [0.],\n",
       "       [0.],\n",
       "       [0.],\n",
       "       [0.],\n",
       "       [0.],\n",
       "       [0.],\n",
       "       [0.],\n",
       "       [0.],\n",
       "       [0.],\n",
       "       [0.],\n",
       "       [0.],\n",
       "       [0.],\n",
       "       [0.],\n",
       "       [0.],\n",
       "       [0.],\n",
       "       [0.],\n",
       "       [0.],\n",
       "       [0.],\n",
       "       [0.],\n",
       "       [0.],\n",
       "       [0.],\n",
       "       [0.],\n",
       "       [0.],\n",
       "       [0.],\n",
       "       [0.],\n",
       "       [0.],\n",
       "       [0.],\n",
       "       [0.],\n",
       "       [0.],\n",
       "       [0.],\n",
       "       [0.],\n",
       "       [0.],\n",
       "       [0.],\n",
       "       [0.],\n",
       "       [0.],\n",
       "       [0.],\n",
       "       [0.],\n",
       "       [0.],\n",
       "       [0.],\n",
       "       [0.],\n",
       "       [0.],\n",
       "       [0.],\n",
       "       [0.],\n",
       "       [0.],\n",
       "       [0.],\n",
       "       [0.],\n",
       "       [0.],\n",
       "       [0.],\n",
       "       [0.],\n",
       "       [0.],\n",
       "       [0.],\n",
       "       [0.],\n",
       "       [0.],\n",
       "       [0.],\n",
       "       [0.],\n",
       "       [0.],\n",
       "       [0.],\n",
       "       [0.],\n",
       "       [0.],\n",
       "       [0.],\n",
       "       [0.],\n",
       "       [0.],\n",
       "       [0.],\n",
       "       [0.],\n",
       "       [0.],\n",
       "       [0.],\n",
       "       [0.],\n",
       "       [0.],\n",
       "       [0.],\n",
       "       [0.],\n",
       "       [0.],\n",
       "       [0.],\n",
       "       [0.],\n",
       "       [0.],\n",
       "       [0.],\n",
       "       [0.],\n",
       "       [0.],\n",
       "       [0.],\n",
       "       [0.],\n",
       "       [0.],\n",
       "       [0.],\n",
       "       [0.],\n",
       "       [0.],\n",
       "       [0.],\n",
       "       [0.],\n",
       "       [0.],\n",
       "       [0.],\n",
       "       [0.],\n",
       "       [0.],\n",
       "       [0.],\n",
       "       [0.],\n",
       "       [0.],\n",
       "       [0.],\n",
       "       [0.],\n",
       "       [0.],\n",
       "       [0.],\n",
       "       [0.],\n",
       "       [0.],\n",
       "       [0.],\n",
       "       [0.],\n",
       "       [0.],\n",
       "       [0.],\n",
       "       [0.],\n",
       "       [0.],\n",
       "       [0.],\n",
       "       [0.],\n",
       "       [0.],\n",
       "       [0.],\n",
       "       [0.],\n",
       "       [0.],\n",
       "       [0.],\n",
       "       [0.],\n",
       "       [0.],\n",
       "       [0.],\n",
       "       [0.],\n",
       "       [0.],\n",
       "       [0.],\n",
       "       [0.],\n",
       "       [0.],\n",
       "       [0.],\n",
       "       [0.],\n",
       "       [0.],\n",
       "       [0.],\n",
       "       [0.],\n",
       "       [0.],\n",
       "       [0.],\n",
       "       [0.],\n",
       "       [0.],\n",
       "       [0.],\n",
       "       [0.],\n",
       "       [0.],\n",
       "       [0.],\n",
       "       [0.],\n",
       "       [0.],\n",
       "       [0.],\n",
       "       [0.],\n",
       "       [0.],\n",
       "       [0.],\n",
       "       [0.],\n",
       "       [0.],\n",
       "       [0.],\n",
       "       [0.],\n",
       "       [0.],\n",
       "       [0.],\n",
       "       [0.],\n",
       "       [0.],\n",
       "       [0.],\n",
       "       [0.],\n",
       "       [0.],\n",
       "       [0.],\n",
       "       [0.],\n",
       "       [0.],\n",
       "       [0.],\n",
       "       [0.],\n",
       "       [0.],\n",
       "       [0.],\n",
       "       [0.],\n",
       "       [0.],\n",
       "       [0.],\n",
       "       [0.],\n",
       "       [0.],\n",
       "       [0.],\n",
       "       [0.],\n",
       "       [0.],\n",
       "       [0.],\n",
       "       [0.],\n",
       "       [0.],\n",
       "       [0.],\n",
       "       [0.],\n",
       "       [0.],\n",
       "       [0.],\n",
       "       [0.],\n",
       "       [0.],\n",
       "       [0.],\n",
       "       [0.],\n",
       "       [0.],\n",
       "       [0.],\n",
       "       [0.],\n",
       "       [0.],\n",
       "       [0.],\n",
       "       [0.],\n",
       "       [0.],\n",
       "       [0.],\n",
       "       [0.],\n",
       "       [0.],\n",
       "       [0.],\n",
       "       [0.],\n",
       "       [0.],\n",
       "       [0.],\n",
       "       [0.],\n",
       "       [0.],\n",
       "       [0.],\n",
       "       [0.],\n",
       "       [0.],\n",
       "       [0.],\n",
       "       [0.],\n",
       "       [0.],\n",
       "       [0.],\n",
       "       [0.],\n",
       "       [0.],\n",
       "       [0.],\n",
       "       [0.],\n",
       "       [0.],\n",
       "       [0.],\n",
       "       [0.],\n",
       "       [0.],\n",
       "       [0.],\n",
       "       [0.],\n",
       "       [0.],\n",
       "       [0.],\n",
       "       [0.],\n",
       "       [0.],\n",
       "       [0.],\n",
       "       [0.],\n",
       "       [0.],\n",
       "       [0.],\n",
       "       [0.],\n",
       "       [0.],\n",
       "       [0.],\n",
       "       [0.],\n",
       "       [0.],\n",
       "       [0.],\n",
       "       [0.],\n",
       "       [0.],\n",
       "       [0.],\n",
       "       [0.],\n",
       "       [0.],\n",
       "       [0.],\n",
       "       [0.],\n",
       "       [0.],\n",
       "       [0.],\n",
       "       [0.],\n",
       "       [0.],\n",
       "       [0.],\n",
       "       [0.],\n",
       "       [0.],\n",
       "       [0.],\n",
       "       [0.],\n",
       "       [0.],\n",
       "       [0.],\n",
       "       [0.],\n",
       "       [0.],\n",
       "       [0.],\n",
       "       [0.],\n",
       "       [0.],\n",
       "       [0.],\n",
       "       [0.],\n",
       "       [0.],\n",
       "       [0.],\n",
       "       [0.],\n",
       "       [0.],\n",
       "       [0.],\n",
       "       [0.],\n",
       "       [0.],\n",
       "       [0.],\n",
       "       [0.],\n",
       "       [0.],\n",
       "       [0.],\n",
       "       [0.],\n",
       "       [0.],\n",
       "       [0.],\n",
       "       [0.],\n",
       "       [0.],\n",
       "       [0.],\n",
       "       [0.],\n",
       "       [0.],\n",
       "       [0.],\n",
       "       [0.],\n",
       "       [0.],\n",
       "       [0.],\n",
       "       [0.],\n",
       "       [0.],\n",
       "       [0.],\n",
       "       [0.],\n",
       "       [0.],\n",
       "       [0.],\n",
       "       [0.],\n",
       "       [0.],\n",
       "       [0.],\n",
       "       [0.],\n",
       "       [0.],\n",
       "       [0.],\n",
       "       [0.],\n",
       "       [0.],\n",
       "       [0.],\n",
       "       [0.],\n",
       "       [0.],\n",
       "       [0.],\n",
       "       [0.],\n",
       "       [0.],\n",
       "       [0.],\n",
       "       [0.],\n",
       "       [0.],\n",
       "       [0.],\n",
       "       [0.],\n",
       "       [0.],\n",
       "       [0.],\n",
       "       [0.],\n",
       "       [0.],\n",
       "       [0.],\n",
       "       [0.],\n",
       "       [0.],\n",
       "       [0.],\n",
       "       [0.],\n",
       "       [0.],\n",
       "       [0.],\n",
       "       [0.],\n",
       "       [0.],\n",
       "       [0.],\n",
       "       [0.],\n",
       "       [0.],\n",
       "       [0.],\n",
       "       [0.],\n",
       "       [0.],\n",
       "       [0.],\n",
       "       [0.],\n",
       "       [0.],\n",
       "       [0.],\n",
       "       [0.],\n",
       "       [0.],\n",
       "       [0.],\n",
       "       [0.],\n",
       "       [0.],\n",
       "       [0.],\n",
       "       [0.],\n",
       "       [0.],\n",
       "       [0.],\n",
       "       [0.],\n",
       "       [0.],\n",
       "       [0.],\n",
       "       [0.],\n",
       "       [0.],\n",
       "       [0.],\n",
       "       [0.],\n",
       "       [0.],\n",
       "       [0.],\n",
       "       [0.],\n",
       "       [0.],\n",
       "       [0.],\n",
       "       [0.],\n",
       "       [0.],\n",
       "       [0.],\n",
       "       [0.],\n",
       "       [0.],\n",
       "       [0.],\n",
       "       [0.],\n",
       "       [0.],\n",
       "       [0.],\n",
       "       [0.],\n",
       "       [0.],\n",
       "       [0.],\n",
       "       [0.],\n",
       "       [0.],\n",
       "       [0.],\n",
       "       [0.],\n",
       "       [0.],\n",
       "       [0.],\n",
       "       [0.],\n",
       "       [0.],\n",
       "       [0.],\n",
       "       [0.],\n",
       "       [0.],\n",
       "       [0.],\n",
       "       [0.],\n",
       "       [0.],\n",
       "       [0.],\n",
       "       [0.],\n",
       "       [0.],\n",
       "       [0.],\n",
       "       [0.],\n",
       "       [0.],\n",
       "       [0.],\n",
       "       [0.],\n",
       "       [0.],\n",
       "       [0.],\n",
       "       [0.],\n",
       "       [0.],\n",
       "       [0.],\n",
       "       [0.],\n",
       "       [0.],\n",
       "       [0.],\n",
       "       [0.],\n",
       "       [0.],\n",
       "       [0.],\n",
       "       [0.],\n",
       "       [0.],\n",
       "       [0.],\n",
       "       [0.],\n",
       "       [0.],\n",
       "       [0.],\n",
       "       [0.],\n",
       "       [0.],\n",
       "       [0.],\n",
       "       [0.],\n",
       "       [0.],\n",
       "       [0.],\n",
       "       [0.],\n",
       "       [0.],\n",
       "       [0.],\n",
       "       [0.],\n",
       "       [0.],\n",
       "       [0.],\n",
       "       [0.],\n",
       "       [0.],\n",
       "       [0.],\n",
       "       [0.],\n",
       "       [0.],\n",
       "       [0.],\n",
       "       [0.],\n",
       "       [0.],\n",
       "       [0.],\n",
       "       [0.],\n",
       "       [0.],\n",
       "       [0.],\n",
       "       [0.],\n",
       "       [0.],\n",
       "       [0.],\n",
       "       [0.],\n",
       "       [0.],\n",
       "       [0.],\n",
       "       [0.],\n",
       "       [0.],\n",
       "       [0.],\n",
       "       [0.],\n",
       "       [0.],\n",
       "       [0.],\n",
       "       [0.],\n",
       "       [0.],\n",
       "       [0.],\n",
       "       [0.],\n",
       "       [0.],\n",
       "       [0.],\n",
       "       [0.],\n",
       "       [0.],\n",
       "       [0.],\n",
       "       [0.],\n",
       "       [0.],\n",
       "       [0.],\n",
       "       [0.],\n",
       "       [0.],\n",
       "       [0.],\n",
       "       [0.],\n",
       "       [0.],\n",
       "       [0.],\n",
       "       [0.],\n",
       "       [0.],\n",
       "       [0.],\n",
       "       [0.],\n",
       "       [0.],\n",
       "       [0.],\n",
       "       [0.],\n",
       "       [0.],\n",
       "       [0.],\n",
       "       [0.],\n",
       "       [0.],\n",
       "       [0.],\n",
       "       [0.],\n",
       "       [0.],\n",
       "       [0.],\n",
       "       [0.],\n",
       "       [0.],\n",
       "       [0.],\n",
       "       [0.],\n",
       "       [0.],\n",
       "       [0.],\n",
       "       [0.],\n",
       "       [0.],\n",
       "       [0.],\n",
       "       [0.],\n",
       "       [0.],\n",
       "       [0.],\n",
       "       [0.],\n",
       "       [0.],\n",
       "       [0.],\n",
       "       [0.],\n",
       "       [0.],\n",
       "       [0.],\n",
       "       [0.],\n",
       "       [0.],\n",
       "       [0.],\n",
       "       [0.],\n",
       "       [0.],\n",
       "       [0.],\n",
       "       [0.],\n",
       "       [0.],\n",
       "       [0.],\n",
       "       [0.],\n",
       "       [0.],\n",
       "       [0.],\n",
       "       [0.],\n",
       "       [0.],\n",
       "       [0.],\n",
       "       [0.],\n",
       "       [0.],\n",
       "       [0.],\n",
       "       [0.],\n",
       "       [0.],\n",
       "       [0.],\n",
       "       [0.],\n",
       "       [0.],\n",
       "       [0.],\n",
       "       [0.],\n",
       "       [0.],\n",
       "       [0.],\n",
       "       [0.],\n",
       "       [0.],\n",
       "       [0.],\n",
       "       [0.],\n",
       "       [0.],\n",
       "       [0.],\n",
       "       [0.],\n",
       "       [0.],\n",
       "       [0.],\n",
       "       [0.],\n",
       "       [0.],\n",
       "       [0.],\n",
       "       [0.],\n",
       "       [0.],\n",
       "       [0.],\n",
       "       [0.],\n",
       "       [0.],\n",
       "       [0.],\n",
       "       [0.],\n",
       "       [0.],\n",
       "       [0.],\n",
       "       [0.],\n",
       "       [0.],\n",
       "       [0.],\n",
       "       [0.],\n",
       "       [0.],\n",
       "       [0.],\n",
       "       [0.],\n",
       "       [0.],\n",
       "       [0.],\n",
       "       [0.],\n",
       "       [0.],\n",
       "       [0.],\n",
       "       [0.],\n",
       "       [0.],\n",
       "       [0.],\n",
       "       [0.],\n",
       "       [0.],\n",
       "       [0.],\n",
       "       [0.],\n",
       "       [0.],\n",
       "       [0.],\n",
       "       [0.],\n",
       "       [0.],\n",
       "       [0.],\n",
       "       [0.],\n",
       "       [0.],\n",
       "       [0.],\n",
       "       [0.],\n",
       "       [0.],\n",
       "       [0.],\n",
       "       [0.],\n",
       "       [0.],\n",
       "       [0.],\n",
       "       [0.],\n",
       "       [0.],\n",
       "       [0.],\n",
       "       [0.],\n",
       "       [0.],\n",
       "       [0.],\n",
       "       [0.],\n",
       "       [0.],\n",
       "       [0.],\n",
       "       [0.],\n",
       "       [0.],\n",
       "       [0.],\n",
       "       [0.],\n",
       "       [0.],\n",
       "       [0.],\n",
       "       [0.],\n",
       "       [0.],\n",
       "       [0.],\n",
       "       [0.],\n",
       "       [0.],\n",
       "       [0.],\n",
       "       [0.],\n",
       "       [0.],\n",
       "       [0.],\n",
       "       [0.],\n",
       "       [0.],\n",
       "       [0.],\n",
       "       [0.],\n",
       "       [0.],\n",
       "       [0.],\n",
       "       [0.],\n",
       "       [0.],\n",
       "       [0.],\n",
       "       [0.],\n",
       "       [0.],\n",
       "       [0.],\n",
       "       [0.],\n",
       "       [0.],\n",
       "       [0.],\n",
       "       [0.],\n",
       "       [0.],\n",
       "       [0.],\n",
       "       [0.],\n",
       "       [0.],\n",
       "       [0.],\n",
       "       [0.],\n",
       "       [0.],\n",
       "       [0.],\n",
       "       [0.],\n",
       "       [0.],\n",
       "       [0.],\n",
       "       [0.],\n",
       "       [0.],\n",
       "       [0.],\n",
       "       [0.],\n",
       "       [0.],\n",
       "       [0.],\n",
       "       [0.],\n",
       "       [0.],\n",
       "       [0.],\n",
       "       [0.],\n",
       "       [0.],\n",
       "       [0.],\n",
       "       [0.],\n",
       "       [0.],\n",
       "       [0.],\n",
       "       [0.],\n",
       "       [0.],\n",
       "       [0.],\n",
       "       [0.],\n",
       "       [0.],\n",
       "       [0.],\n",
       "       [0.],\n",
       "       [0.],\n",
       "       [0.],\n",
       "       [0.],\n",
       "       [0.],\n",
       "       [0.],\n",
       "       [0.],\n",
       "       [0.],\n",
       "       [0.],\n",
       "       [0.],\n",
       "       [0.],\n",
       "       [0.],\n",
       "       [0.],\n",
       "       [0.],\n",
       "       [0.],\n",
       "       [0.],\n",
       "       [0.],\n",
       "       [0.],\n",
       "       [0.],\n",
       "       [0.],\n",
       "       [0.],\n",
       "       [0.],\n",
       "       [0.],\n",
       "       [0.],\n",
       "       [0.],\n",
       "       [0.],\n",
       "       [0.],\n",
       "       [0.],\n",
       "       [0.],\n",
       "       [0.],\n",
       "       [0.],\n",
       "       [0.],\n",
       "       [0.],\n",
       "       [0.],\n",
       "       [0.],\n",
       "       [0.],\n",
       "       [0.],\n",
       "       [0.],\n",
       "       [0.],\n",
       "       [0.],\n",
       "       [0.],\n",
       "       [0.],\n",
       "       [0.],\n",
       "       [0.],\n",
       "       [0.],\n",
       "       [0.],\n",
       "       [0.],\n",
       "       [0.],\n",
       "       [0.],\n",
       "       [0.],\n",
       "       [0.],\n",
       "       [0.],\n",
       "       [0.],\n",
       "       [0.],\n",
       "       [0.],\n",
       "       [0.],\n",
       "       [0.],\n",
       "       [0.],\n",
       "       [0.],\n",
       "       [0.],\n",
       "       [0.],\n",
       "       [0.],\n",
       "       [0.],\n",
       "       [0.],\n",
       "       [0.],\n",
       "       [0.],\n",
       "       [0.],\n",
       "       [0.],\n",
       "       [0.],\n",
       "       [0.],\n",
       "       [0.],\n",
       "       [0.],\n",
       "       [0.],\n",
       "       [0.],\n",
       "       [0.],\n",
       "       [0.],\n",
       "       [0.],\n",
       "       [0.],\n",
       "       [0.],\n",
       "       [0.],\n",
       "       [0.],\n",
       "       [0.],\n",
       "       [0.],\n",
       "       [0.],\n",
       "       [0.],\n",
       "       [0.],\n",
       "       [0.],\n",
       "       [0.],\n",
       "       [0.],\n",
       "       [0.],\n",
       "       [0.],\n",
       "       [0.],\n",
       "       [0.],\n",
       "       [0.],\n",
       "       [0.],\n",
       "       [0.],\n",
       "       [0.],\n",
       "       [0.],\n",
       "       [0.],\n",
       "       [0.],\n",
       "       [0.],\n",
       "       [0.],\n",
       "       [0.],\n",
       "       [0.],\n",
       "       [0.],\n",
       "       [0.],\n",
       "       [0.],\n",
       "       [0.],\n",
       "       [0.],\n",
       "       [0.],\n",
       "       [0.],\n",
       "       [0.],\n",
       "       [0.],\n",
       "       [0.],\n",
       "       [0.],\n",
       "       [0.],\n",
       "       [0.],\n",
       "       [0.]], dtype=float32)"
      ]
     },
     "execution_count": 51,
     "metadata": {},
     "output_type": "execute_result"
    }
   ],
   "source": [
    "model2_pred_probs = model2.predict(val_sentences)\n",
    "model2_pred_probs"
   ]
  },
  {
   "cell_type": "code",
   "execution_count": 52,
   "metadata": {},
   "outputs": [
    {
     "data": {
      "text/plain": [
       "(762, 1)"
      ]
     },
     "execution_count": 52,
     "metadata": {},
     "output_type": "execute_result"
    }
   ],
   "source": [
    "model2_pred_probs.shape"
   ]
  },
  {
   "cell_type": "code",
   "execution_count": 53,
   "metadata": {},
   "outputs": [
    {
     "data": {
      "text/plain": [
       "array([[0.],\n",
       "       [0.],\n",
       "       [0.],\n",
       "       [0.],\n",
       "       [0.],\n",
       "       [0.],\n",
       "       [0.],\n",
       "       [0.],\n",
       "       [0.],\n",
       "       [0.]], dtype=float32)"
      ]
     },
     "execution_count": 53,
     "metadata": {},
     "output_type": "execute_result"
    }
   ],
   "source": [
    "model2_pred_probs[:10]"
   ]
  },
  {
   "cell_type": "code",
   "execution_count": 54,
   "metadata": {},
   "outputs": [
    {
     "data": {
      "text/plain": [
       "<tf.Tensor: shape=(10,), dtype=float32, numpy=array([0., 0., 0., 0., 0., 0., 0., 0., 0., 0.], dtype=float32)>"
      ]
     },
     "execution_count": 54,
     "metadata": {},
     "output_type": "execute_result"
    }
   ],
   "source": [
    "model2_preds = tf.round(tf.squeeze(model2_pred_probs))\n",
    "model2_preds[:10]"
   ]
  },
  {
   "cell_type": "code",
   "execution_count": 55,
   "metadata": {},
   "outputs": [
    {
     "name": "stderr",
     "output_type": "stream",
     "text": [
      "/root/miniconda3/envs/torchai/lib/python3.9/site-packages/sklearn/metrics/_classification.py:1531: UndefinedMetricWarning: Precision is ill-defined and being set to 0.0 in labels with no predicted samples. Use `zero_division` parameter to control this behavior.\n",
      "  _warn_prf(average, modifier, f\"{metric.capitalize()} is\", len(result))\n"
     ]
    },
    {
     "data": {
      "text/plain": [
       "{'accuracy': 0.5433070866141733,\n",
       " 'precision': 0.29518259036518074,\n",
       " 'recall': 0.5433070866141733,\n",
       " 'f1': 0.38253254057528524,\n",
       " 'auc': 0.5}"
      ]
     },
     "execution_count": 55,
     "metadata": {},
     "output_type": "execute_result"
    }
   ],
   "source": [
    "model2_results = calculate_results(val_labels,model2_preds)\n",
    "model2_results"
   ]
  },
  {
   "cell_type": "code",
   "execution_count": 56,
   "metadata": {},
   "outputs": [
    {
     "name": "stdout",
     "output_type": "stream",
     "text": [
      "Baseline accuracy: 0.79, New accuracy: 0.54, Difference: -0.25\n",
      "Baseline precision: 0.81, New precision: 0.30, Difference: -0.52\n",
      "Baseline recall: 0.79, New recall: 0.54, Difference: -0.25\n",
      "Baseline f1: 0.79, New f1: 0.38, Difference: -0.40\n",
      "Baseline auc: 0.78, New auc: 0.50, Difference: -0.28\n"
     ]
    }
   ],
   "source": [
    "compare_baseline_to_new_results(baseline_results,model2_results)"
   ]
  },
  {
   "cell_type": "markdown",
   "metadata": {},
   "source": [
    "### Model 3: GRU\n",
    "\n",
    "Another popular and effective RNN component is the GRU or gated recurrent unit.\n",
    "\n",
    "The GRU cell has similar features to an LSTM cell but has less parameters.\n",
    "\n",
    "> 📖 **Resource:** A full explanation of the GRU cell is beyond the scope of this noteook but I'd suggest the following resources to learn more:\n",
    "* [Gated Recurrent Unit](https://en.wikipedia.org/wiki/Gated_recurrent_unit) Wikipedia page\n",
    "* [Understanding GRU networks](https://towardsdatascience.com/understanding-gru-networks-2ef37df6c9be) by Simeon Kostadinov\n",
    "\n",
    "To use the GRU cell in TensorFlow, we can call the [`tensorflow.keras.layers.GRU()`](https://www.tensorflow.org/api_docs/python/tf/keras/layers/GRU) class.\n",
    "\n",
    "The architecture of the GRU-powered model will follow the same structure we've been using:\n",
    "\n",
    "```\n",
    "Input (text) -> Tokenize -> Embedding -> Layers -> Output (label probability)\n",
    "```\n",
    "\n",
    "Again, the only difference will be the layer(s) we use between the embedding and the output."
   ]
  },
  {
   "cell_type": "code",
   "execution_count": 57,
   "metadata": {},
   "outputs": [
    {
     "name": "stdout",
     "output_type": "stream",
     "text": [
      "(None, 15, 128)\n"
     ]
    },
    {
     "name": "stdout",
     "output_type": "stream",
     "text": [
      "(None, 64)\n"
     ]
    }
   ],
   "source": [
    "tf.random.set_seed(42)\n",
    "model3_embedding = layers.Embedding(input_dim=max_vocab_length, output_dim=128,embeddings_initializer=\"uniform\", input_length=max_length,name=\"embedding_3\")\n",
    "inputs = layers.Input(shape=(1,),dtype=\"string\")\n",
    "x = text_vectorizer(inputs)\n",
    "x = model3_embedding(x)\n",
    "print(x.shape)\n",
    "# GRU\n",
    "x = layers.GRU(64)(x)\n",
    "print(x.shape)\n",
    "outputs = layers.Dense(1,activation=\"sigmoid\")(x)\n",
    "model3 = tf.keras.Model(inputs,outputs,name=\"model_3_GRU\")"
   ]
  },
  {
   "cell_type": "code",
   "execution_count": 58,
   "metadata": {},
   "outputs": [
    {
     "name": "stdout",
     "output_type": "stream",
     "text": [
      "Model: \"model_3_GRU\"\n",
      "_________________________________________________________________\n",
      " Layer (type)                Output Shape              Param #   \n",
      "=================================================================\n",
      " input_3 (InputLayer)        [(None, 1)]               0         \n",
      "                                                                 \n",
      " text_vectorization_1 (TextV  (None, 15)               0         \n",
      " ectorization)                                                   \n",
      "                                                                 \n",
      " embedding_3 (Embedding)     (None, 15, 128)           1280000   \n",
      "                                                                 \n",
      " gru (GRU)                   (None, 64)                37248     \n",
      "                                                                 \n",
      " dense_2 (Dense)             (None, 1)                 65        \n",
      "                                                                 \n",
      "=================================================================\n",
      "Total params: 1,317,313\n",
      "Trainable params: 1,317,313\n",
      "Non-trainable params: 0\n",
      "_________________________________________________________________\n"
     ]
    }
   ],
   "source": [
    "model3.compile(loss='categorical_crossentropy', optimizer='adam', metrics=['accuracy'])\n",
    "model3.summary()"
   ]
  },
  {
   "cell_type": "code",
   "execution_count": 59,
   "metadata": {},
   "outputs": [
    {
     "name": "stdout",
     "output_type": "stream",
     "text": [
      "Saving TensorBoard log files to: model_log/LSTM/20250122-102814\n",
      "Epoch 1/10\n"
     ]
    },
    {
     "name": "stdout",
     "output_type": "stream",
     "text": [
      "215/215 [==============================] - 3s 10ms/step - loss: 0.0000e+00 - accuracy: 0.5723 - val_loss: 0.0000e+00 - val_accuracy: 0.5433\n",
      "Epoch 2/10\n",
      "215/215 [==============================] - 2s 8ms/step - loss: 0.0000e+00 - accuracy: 0.5733 - val_loss: 0.0000e+00 - val_accuracy: 0.5433\n",
      "Epoch 3/10\n",
      "215/215 [==============================] - 2s 8ms/step - loss: 0.0000e+00 - accuracy: 0.5733 - val_loss: 0.0000e+00 - val_accuracy: 0.5433\n",
      "Epoch 4/10\n",
      "215/215 [==============================] - 2s 8ms/step - loss: 0.0000e+00 - accuracy: 0.5733 - val_loss: 0.0000e+00 - val_accuracy: 0.5433\n",
      "Epoch 5/10\n",
      "215/215 [==============================] - 2s 8ms/step - loss: 0.0000e+00 - accuracy: 0.5733 - val_loss: 0.0000e+00 - val_accuracy: 0.5433\n",
      "Epoch 6/10\n",
      "215/215 [==============================] - 2s 8ms/step - loss: 0.0000e+00 - accuracy: 0.5733 - val_loss: 0.0000e+00 - val_accuracy: 0.5433\n",
      "Epoch 7/10\n",
      "215/215 [==============================] - 2s 8ms/step - loss: 0.0000e+00 - accuracy: 0.5733 - val_loss: 0.0000e+00 - val_accuracy: 0.5433\n",
      "Epoch 8/10\n",
      "215/215 [==============================] - 2s 8ms/step - loss: 0.0000e+00 - accuracy: 0.5733 - val_loss: 0.0000e+00 - val_accuracy: 0.5433\n",
      "Epoch 9/10\n",
      "215/215 [==============================] - 2s 8ms/step - loss: 0.0000e+00 - accuracy: 0.5733 - val_loss: 0.0000e+00 - val_accuracy: 0.5433\n",
      "Epoch 10/10\n",
      "215/215 [==============================] - 2s 8ms/step - loss: 0.0000e+00 - accuracy: 0.5733 - val_loss: 0.0000e+00 - val_accuracy: 0.5433\n"
     ]
    }
   ],
   "source": [
    "model3_history = model3.fit(train_sentences,train_labels,epochs=10,validation_data=(val_sentences,val_labels),\n",
    "                            callbacks=[create_tensorboard_callback(dir_name=SAVE_DIR, \n",
    "                                                                     experiment_name=\"LSTM\")])"
   ]
  },
  {
   "cell_type": "code",
   "execution_count": 60,
   "metadata": {},
   "outputs": [
    {
     "name": "stdout",
     "output_type": "stream",
     "text": [
      "24/24 [==============================] - 0s 2ms/step\n"
     ]
    },
    {
     "name": "stderr",
     "output_type": "stream",
     "text": [
      "/root/miniconda3/envs/torchai/lib/python3.9/site-packages/sklearn/metrics/_classification.py:1531: UndefinedMetricWarning: Precision is ill-defined and being set to 0.0 in labels with no predicted samples. Use `zero_division` parameter to control this behavior.\n",
      "  _warn_prf(average, modifier, f\"{metric.capitalize()} is\", len(result))\n"
     ]
    },
    {
     "data": {
      "text/plain": [
       "{'accuracy': 0.5433070866141733,\n",
       " 'precision': 0.29518259036518074,\n",
       " 'recall': 0.5433070866141733,\n",
       " 'f1': 0.38253254057528524,\n",
       " 'auc': 0.5}"
      ]
     },
     "execution_count": 60,
     "metadata": {},
     "output_type": "execute_result"
    }
   ],
   "source": [
    "model3_pred_probs = model3.predict(val_sentences)\n",
    "model3_preds = tf.squeeze(tf.round(model3_pred_probs))\n",
    "model3_results = calculate_results(val_labels,\n",
    "                                  model3_preds)\n",
    "model3_results"
   ]
  },
  {
   "cell_type": "code",
   "execution_count": 61,
   "metadata": {},
   "outputs": [
    {
     "name": "stdout",
     "output_type": "stream",
     "text": [
      "Baseline accuracy: 0.79, New accuracy: 0.54, Difference: -0.25\n",
      "Baseline precision: 0.81, New precision: 0.30, Difference: -0.52\n",
      "Baseline recall: 0.79, New recall: 0.54, Difference: -0.25\n",
      "Baseline f1: 0.79, New f1: 0.38, Difference: -0.40\n",
      "Baseline auc: 0.78, New auc: 0.50, Difference: -0.28\n"
     ]
    }
   ],
   "source": [
    "compare_baseline_to_new_results(baseline_results,model3_results)"
   ]
  },
  {
   "cell_type": "markdown",
   "metadata": {},
   "source": [
    "### Model 4: Bidirectonal RNN model \n",
    "\n",
    "Look at us go! We've already built two RNN's with GRU and LSTM cells. Now we're going to look into another kind of RNN, the bidirectional RNN.\n",
    "\n",
    "A standard RNN will process a sequence from left to right, where as a bidirectional RNN will process the sequence from left to right and then again from right to left.\n",
    "\n",
    "Intuitively, this can be thought of as if you were reading a sentence for the first time in the normal fashion (left to right) but for some reason it didn't make sense so you traverse back through the words and go back over them again (right to left).\n",
    "\n",
    "In practice, many sequence models often see and improvement in performance when using bidirectional RNN's.\n",
    "\n",
    "However, this improvement in performance often comes at the cost of longer training times and increased model parameters (since the model goes left to right and right to left, the number of trainable parameters doubles).\n",
    "\n",
    "Okay enough talk, let's build a bidirectional RNN.\n",
    "\n",
    "Once again, TensorFlow helps us out by providing the [`tensorflow.keras.layers.Bidirectional`](https://www.tensorflow.org/api_docs/python/tf/keras/layers/Bidirectional) class. We can use the `Bidirectional` class to wrap our existing RNNs, instantly making them bidirectional."
   ]
  },
  {
   "cell_type": "code",
   "execution_count": 62,
   "metadata": {},
   "outputs": [
    {
     "name": "stdout",
     "output_type": "stream",
     "text": [
      "Model: \"model_4_Bidirectional\"\n",
      "_________________________________________________________________\n",
      " Layer (type)                Output Shape              Param #   \n",
      "=================================================================\n",
      " input_4 (InputLayer)        [(None, 1)]               0         \n",
      "                                                                 \n",
      " text_vectorization_1 (TextV  (None, 15)               0         \n",
      " ectorization)                                                   \n",
      "                                                                 \n",
      " embedding_4 (Embedding)     (None, 15, 128)           1280000   \n",
      "                                                                 \n",
      " bidirectional (Bidirectiona  (None, 128)              98816     \n",
      " l)                                                              \n",
      "                                                                 \n",
      " dense_3 (Dense)             (None, 1)                 129       \n",
      "                                                                 \n",
      "=================================================================\n",
      "Total params: 1,378,945\n",
      "Trainable params: 1,378,945\n",
      "Non-trainable params: 0\n",
      "_________________________________________________________________\n"
     ]
    }
   ],
   "source": [
    "tf.random.set_seed(42)\n",
    "model4_embedding = layers.Embedding(input_dim=max_vocab_length, output_dim=128,embeddings_initializer=\"uniform\", input_length=max_length,name=\"embedding_4\")\n",
    "inputs = layers.Input(shape=(1,),dtype=\"string\")\n",
    "x = text_vectorizer(inputs)\n",
    "x = model4_embedding(x)\n",
    "# GRU\n",
    "x = layers.Bidirectional(layers.LSTM(64))(x)\n",
    "outputs = layers.Dense(1,activation=\"sigmoid\")(x)\n",
    "model4 = tf.keras.Model(inputs,outputs,name=\"model_4_Bidirectional\")\n",
    "\n",
    "model4.compile(loss='categorical_crossentropy', optimizer='adam', metrics=['accuracy'])\n",
    "model4.summary()"
   ]
  },
  {
   "cell_type": "code",
   "execution_count": 63,
   "metadata": {},
   "outputs": [
    {
     "name": "stdout",
     "output_type": "stream",
     "text": [
      "Saving TensorBoard log files to: model_log/Bidirectional/20250122-102834\n",
      "Epoch 1/10\n",
      "215/215 [==============================] - 5s 12ms/step - loss: 0.0000e+00 - accuracy: 0.5735 - val_loss: 0.0000e+00 - val_accuracy: 0.5433\n",
      "Epoch 2/10\n",
      "215/215 [==============================] - 2s 9ms/step - loss: 0.0000e+00 - accuracy: 0.5733 - val_loss: 0.0000e+00 - val_accuracy: 0.5433\n",
      "Epoch 3/10\n",
      "215/215 [==============================] - 2s 9ms/step - loss: 0.0000e+00 - accuracy: 0.5733 - val_loss: 0.0000e+00 - val_accuracy: 0.5433\n",
      "Epoch 4/10\n",
      "215/215 [==============================] - 2s 9ms/step - loss: 0.0000e+00 - accuracy: 0.5733 - val_loss: 0.0000e+00 - val_accuracy: 0.5433\n",
      "Epoch 5/10\n",
      "215/215 [==============================] - 2s 9ms/step - loss: 0.0000e+00 - accuracy: 0.5733 - val_loss: 0.0000e+00 - val_accuracy: 0.5433\n",
      "Epoch 6/10\n",
      "215/215 [==============================] - 2s 9ms/step - loss: 0.0000e+00 - accuracy: 0.5733 - val_loss: 0.0000e+00 - val_accuracy: 0.5433\n",
      "Epoch 7/10\n",
      "215/215 [==============================] - 2s 9ms/step - loss: 0.0000e+00 - accuracy: 0.5733 - val_loss: 0.0000e+00 - val_accuracy: 0.5433\n",
      "Epoch 8/10\n",
      "215/215 [==============================] - 2s 9ms/step - loss: 0.0000e+00 - accuracy: 0.5733 - val_loss: 0.0000e+00 - val_accuracy: 0.5433\n",
      "Epoch 9/10\n",
      "215/215 [==============================] - 2s 9ms/step - loss: 0.0000e+00 - accuracy: 0.5733 - val_loss: 0.0000e+00 - val_accuracy: 0.5433\n",
      "Epoch 10/10\n",
      "215/215 [==============================] - 2s 9ms/step - loss: 0.0000e+00 - accuracy: 0.5733 - val_loss: 0.0000e+00 - val_accuracy: 0.5433\n"
     ]
    }
   ],
   "source": [
    "model4_history = model4.fit(train_sentences,train_labels,epochs=10,validation_data=(val_sentences,val_labels),\n",
    "                            callbacks=[create_tensorboard_callback(dir_name=SAVE_DIR, \n",
    "                                                                     experiment_name=\"Bidirectional\")])"
   ]
  },
  {
   "cell_type": "code",
   "execution_count": 64,
   "metadata": {},
   "outputs": [
    {
     "name": "stdout",
     "output_type": "stream",
     "text": [
      "24/24 [==============================] - 1s 3ms/step\n"
     ]
    },
    {
     "name": "stderr",
     "output_type": "stream",
     "text": [
      "/root/miniconda3/envs/torchai/lib/python3.9/site-packages/sklearn/metrics/_classification.py:1531: UndefinedMetricWarning: Precision is ill-defined and being set to 0.0 in labels with no predicted samples. Use `zero_division` parameter to control this behavior.\n",
      "  _warn_prf(average, modifier, f\"{metric.capitalize()} is\", len(result))\n"
     ]
    },
    {
     "data": {
      "text/plain": [
       "{'accuracy': 0.5433070866141733,\n",
       " 'precision': 0.29518259036518074,\n",
       " 'recall': 0.5433070866141733,\n",
       " 'f1': 0.38253254057528524,\n",
       " 'auc': 0.5}"
      ]
     },
     "execution_count": 64,
     "metadata": {},
     "output_type": "execute_result"
    }
   ],
   "source": [
    "model4_pred_probs = model4.predict(val_sentences)\n",
    "model4_preds = tf.squeeze(tf.round(model4_pred_probs))\n",
    "model4_results = calculate_results(val_labels,\n",
    "                                  model4_preds)\n",
    "model4_results"
   ]
  },
  {
   "cell_type": "code",
   "execution_count": 65,
   "metadata": {},
   "outputs": [
    {
     "name": "stdout",
     "output_type": "stream",
     "text": [
      "Baseline accuracy: 0.79, New accuracy: 0.54, Difference: -0.25\n",
      "Baseline precision: 0.81, New precision: 0.30, Difference: -0.52\n",
      "Baseline recall: 0.79, New recall: 0.54, Difference: -0.25\n",
      "Baseline f1: 0.79, New f1: 0.38, Difference: -0.40\n",
      "Baseline auc: 0.78, New auc: 0.50, Difference: -0.28\n"
     ]
    }
   ],
   "source": [
    "compare_baseline_to_new_results(baseline_results,model4_results)"
   ]
  },
  {
   "cell_type": "markdown",
   "metadata": {},
   "source": [
    "## Convolutional Neural Networks for Text  CNN 应用在文本\n",
    "\n",
    "You might've used convolutional neural networks (CNNs) for images before but they can also be used for sequences.\n",
    "\n",
    "The main difference between using CNNs for images and sequences is the shape of the data. Images come in 2-dimensions (height x width) where as sequences are often 1-dimensional (a string of text).\n",
    "\n",
    "So to use CNNs with sequences, we use a 1-dimensional convolution instead of a 2-dimensional convolution.\n",
    "\n",
    "A typical CNN architecture for sequences will look like the following: \n",
    "\n",
    "```\n",
    "Inputs (text) -> Tokenization -> Embedding -> Layers -> Outputs (class probabilities)\n",
    "```\n",
    "\n",
    "You might be thinking \"that just looks like the architecture layout we've been using for the other models...\"\n",
    "\n",
    "And you'd be right.\n",
    "\n",
    "The difference again is in the layers component. Instead of using an LSTM or GRU cell, we're going to use a [`tensorflow.keras.layers.Conv1D()`](https://www.tensorflow.org/api_docs/python/tf/keras/layers/Conv1D) layer followed by a [`tensorflow.keras.layers.GlobablMaxPool1D()`](https://www.tensorflow.org/api_docs/python/tf/keras/layers/GlobalMaxPool1D) layer.\n",
    "\n",
    "> 📖 **Resource:** The intuition here is explained succinctly in the paper [*Understanding Convolutional Neural Networks for Text Classification*](https://www.aclweb.org/anthology/W18-5408.pdf), where they state that CNNs classify text through the following steps:\n",
    "1. 1-dimensional convolving filters are used as ngram detectors, each filter specializing in a closely-related family of ngrams (an ngram is a collection of n-words, for example, an ngram of 5 might result in \"hello, my name is Daniel\").\n",
    "2. Max-pooling over time extracts the relevant ngrams for making a decision.\n",
    "3. The rest of the network classifies the text based on this information.\n",
    "\n",
    "> \n"
   ]
  },
  {
   "cell_type": "markdown",
   "metadata": {},
   "source": [
    "### Model 5: Conv1D\n",
    "\n",
    "Before we build a full 1-dimensional CNN model, let's see a 1-dimensional convolutional layer (also called a **temporal convolution**) in action.\n",
    "\n",
    "We'll first create an embedding of a sample of text and experiment passing it through a `Conv1D()` layer and `GlobalMaxPool1D()` layer."
   ]
  },
  {
   "cell_type": "code",
   "execution_count": 66,
   "metadata": {},
   "outputs": [
    {
     "data": {
      "text/plain": [
       "(TensorShape([1, 15, 64]), TensorShape([1, 11, 32]), TensorShape([1, 32]))"
      ]
     },
     "execution_count": 66,
     "metadata": {},
     "output_type": "execute_result"
    }
   ],
   "source": [
    "embedding_test = embedding(text_vectorizer([\"Hello world, how are you doing?\"]))\n",
    "conv1d = layers.Conv1D(filters=32, kernel_size=5, activation=\"relu\")\n",
    "conv1d_output = conv1d(embedding_test)\n",
    "max_pool = layers.GlobalMaxPool1D()\n",
    "max_pool_output = max_pool(conv1d_output)\n",
    "embedding_test.shape, conv1d_output.shape, max_pool_output.shape    "
   ]
  },
  {
   "cell_type": "code",
   "execution_count": 67,
   "metadata": {},
   "outputs": [
    {
     "data": {
      "text/plain": [
       "(<tf.Tensor: shape=(1, 15, 64), dtype=float32, numpy=\n",
       " array([[[ 0.04927063,  0.0455859 , -0.03696341, -0.02716763,\n",
       "          -0.04393656, -0.02666598, -0.02628189, -0.02066438,\n",
       "          -0.00862695, -0.02994786,  0.01083384,  0.00841267,\n",
       "          -0.04106066, -0.00559476, -0.01404158,  0.02035085,\n",
       "          -0.0247621 , -0.01744848, -0.01688452,  0.04168949,\n",
       "          -0.00381372,  0.02718107,  0.02218331,  0.02043347,\n",
       "          -0.02060524, -0.0454086 , -0.03620398,  0.04254222,\n",
       "          -0.01027236,  0.0498293 , -0.05122475,  0.01015221,\n",
       "          -0.04058774,  0.02962366, -0.03387579, -0.01199133,\n",
       "          -0.04449604,  0.00624861, -0.05035713,  0.03105379,\n",
       "          -0.04941126, -0.0392956 , -0.02791278, -0.03757041,\n",
       "           0.02001321,  0.02441015,  0.04983385,  0.00505213,\n",
       "           0.03252229, -0.02273783,  0.02550583, -0.04352991,\n",
       "           0.03043619,  0.00896313, -0.03817467, -0.00248338,\n",
       "          -0.02504817,  0.02785878,  0.0046658 , -0.041079  ,\n",
       "          -0.00084155, -0.00683904, -0.04560264, -0.01841895],\n",
       "         [-0.0501423 ,  0.03019001,  0.0633471 ,  0.01169866,\n",
       "           0.03061692,  0.04656729,  0.03675785, -0.06736621,\n",
       "          -0.00419796,  0.05971726,  0.09424177, -0.04283668,\n",
       "           0.02853829, -0.07273112, -0.06925429, -0.05550537,\n",
       "           0.04630151,  0.10262983, -0.08959711, -0.01010133,\n",
       "          -0.08549505, -0.07410501, -0.03423049,  0.10246175,\n",
       "          -0.08327053, -0.02648197, -0.00483097, -0.00062758,\n",
       "           0.06675572, -0.09538288,  0.06859855, -0.07741411,\n",
       "           0.06360269, -0.00777825,  0.06824356,  0.05240895,\n",
       "           0.02701472,  0.09887393,  0.01604744,  0.02354276,\n",
       "          -0.10371221,  0.07955129, -0.07544108,  0.01834613,\n",
       "          -0.05326008,  0.0396131 , -0.07613777,  0.07508805,\n",
       "          -0.07914715,  0.04435478,  0.03557305, -0.04050968,\n",
       "          -0.03518785, -0.05143929,  0.00733971,  0.03377681,\n",
       "          -0.02497379,  0.05666274, -0.04817802, -0.07699569,\n",
       "          -0.04647508,  0.04282086,  0.06069626, -0.02836328],\n",
       "         [-0.06608857,  0.04833829,  0.05975079,  0.08511666,\n",
       "           0.01538939,  0.02905951,  0.05721397, -0.04223058,\n",
       "          -0.03728984,  0.02015097,  0.04021926, -0.07585999,\n",
       "           0.0456101 , -0.09379292, -0.01695416, -0.04459071,\n",
       "           0.08852336,  0.06158165, -0.03893588, -0.04166451,\n",
       "          -0.07416344, -0.05544537, -0.05555613,  0.05924354,\n",
       "          -0.03625574, -0.04571952, -0.04127111, -0.02197336,\n",
       "           0.00631908, -0.10798879,  0.02785105, -0.0181415 ,\n",
       "           0.03489139, -0.03810434,  0.02429722,  0.09099648,\n",
       "           0.05309036,  0.01882072,  0.05678574,  0.01605315,\n",
       "          -0.04160702,  0.02794815, -0.06292722,  0.08427227,\n",
       "          -0.05816145,  0.09832815, -0.0308572 ,  0.09217211,\n",
       "          -0.09695692,  0.01029115,  0.0967782 , -0.08229979,\n",
       "          -0.04966782, -0.07119102,  0.02772382,  0.03243698,\n",
       "          -0.07917204,  0.00994168, -0.08491247, -0.080271  ,\n",
       "          -0.00096332,  0.01507586,  0.08468387, -0.08258237],\n",
       "         [ 0.08685861, -0.07108815, -0.01069177, -0.06388761,\n",
       "          -0.03401541, -0.03632584, -0.05354851,  0.0693936 ,\n",
       "           0.07452063, -0.07702962, -0.04094275,  0.04354735,\n",
       "          -0.0505449 ,  0.04971958,  0.08241434,  0.06871824,\n",
       "          -0.0521414 , -0.05765101,  0.06907185,  0.05356424,\n",
       "           0.06185675,  0.01128061,  0.01246401, -0.03091753,\n",
       "           0.02979126,  0.03773411,  0.05225956,  0.04873374,\n",
       "          -0.02574352,  0.06048571, -0.03209682,  0.02879446,\n",
       "          -0.01731685,  0.05584861, -0.04581894, -0.05169837,\n",
       "          -0.05487807, -0.0183157 , -0.0299748 , -0.03954571,\n",
       "           0.09242117, -0.06954374, -0.00634026, -0.0898154 ,\n",
       "          -0.0042913 , -0.04268746,  0.00706874, -0.07351863,\n",
       "           0.08096942, -0.08495413, -0.04215693,  0.01694866,\n",
       "           0.01935824,  0.02956953,  0.00548653, -0.08232521,\n",
       "           0.09232419,  0.00312534,  0.0004148 ,  0.09000874,\n",
       "           0.08470949, -0.0686337 , -0.08043369,  0.0296853 ],\n",
       "         [-0.24599786,  0.22188127,  0.25386748,  0.1983497 ,\n",
       "           0.1909409 ,  0.25459948,  0.2533496 , -0.23188576,\n",
       "          -0.14915025,  0.22797143,  0.30611277, -0.16457847,\n",
       "           0.21105607, -0.19784951, -0.17970009, -0.25259003,\n",
       "           0.23473206,  0.20461111, -0.24622859, -0.23023842,\n",
       "          -0.19921798, -0.2166129 , -0.23424165,  0.2087573 ,\n",
       "          -0.16066447, -0.23376617, -0.1611376 , -0.23023799,\n",
       "           0.26306728, -0.24289404,  0.21815394, -0.19795707,\n",
       "           0.15775762, -0.16644554,  0.1921959 ,  0.14747168,\n",
       "           0.16044809,  0.18171906,  0.20018338,  0.22321106,\n",
       "          -0.25522077,  0.18508929, -0.19932237,  0.19075269,\n",
       "          -0.22574973,  0.23645113, -0.28806993,  0.2386013 ,\n",
       "          -0.14635661,  0.18780315,  0.23326388, -0.19793415,\n",
       "          -0.19294322, -0.2222499 ,  0.17438874,  0.17015922,\n",
       "          -0.17519352,  0.25260356, -0.23719248, -0.25678658,\n",
       "          -0.14218934,  0.19929509,  0.21008399, -0.16330215],\n",
       "         [-0.08883369,  0.07944579,  0.06711036,  0.1268568 ,\n",
       "           0.01834131,  0.10364398,  0.06935211, -0.06875733,\n",
       "          -0.05688768,  0.05117618,  0.11315591, -0.06274462,\n",
       "           0.08237036, -0.02963974, -0.04368579, -0.07439536,\n",
       "           0.09830509,  0.11026343, -0.04866317, -0.09650579,\n",
       "          -0.04997461, -0.02572115, -0.08828952,  0.10878482,\n",
       "          -0.05257735, -0.04168154, -0.03163655, -0.06715421,\n",
       "           0.05016777, -0.05101183,  0.05466929, -0.0763237 ,\n",
       "           0.05024358, -0.1015909 ,  0.03864252,  0.11401629,\n",
       "           0.07601546,  0.08753467,  0.04369689,  0.08562659,\n",
       "          -0.05664855,  0.06359611, -0.10232902,  0.03922981,\n",
       "          -0.07020108,  0.11079656, -0.07401514,  0.05948496,\n",
       "          -0.10426619,  0.08541197,  0.11988153, -0.07177594,\n",
       "          -0.04918267, -0.03376859,  0.05610056,  0.09916133,\n",
       "          -0.05542071,  0.11190199, -0.089178  , -0.05159251,\n",
       "          -0.08061475,  0.07563035,  0.10958522, -0.02597179],\n",
       "         [-0.01238398,  0.03976315,  0.05967141, -0.02696273,\n",
       "           0.06098639, -0.01741344,  0.01368975, -0.05788472,\n",
       "          -0.01750314,  0.00552021,  0.05821462, -0.04472128,\n",
       "           0.07289322, -0.01087582,  0.01526838, -0.05243922,\n",
       "           0.05566694,  0.06361009,  0.02286058,  0.02274077,\n",
       "          -0.03174298, -0.03287387,  0.00369497, -0.00540758,\n",
       "          -0.00559367, -0.03582225,  0.00117227, -0.02324406,\n",
       "           0.03628455,  0.00424401,  0.06826916, -0.07131534,\n",
       "           0.06160784,  0.01796041,  0.07056159,  0.04898191,\n",
       "          -0.01856244,  0.04474765, -0.00035899,  0.06050973,\n",
       "          -0.01510662, -0.00526253,  0.01619131,  0.06646373,\n",
       "           0.00275263,  0.00050844,  0.00198431,  0.06140959,\n",
       "          -0.01247452,  0.06644641,  0.05833625, -0.04112704,\n",
       "          -0.03432414, -0.02272543, -0.01147988,  0.0692389 ,\n",
       "          -0.06855379,  0.02698756, -0.05621039,  0.01445469,\n",
       "          -0.04717525,  0.00147118, -0.00120488,  0.00906573],\n",
       "         [-0.01238398,  0.03976315,  0.05967141, -0.02696273,\n",
       "           0.06098639, -0.01741344,  0.01368975, -0.05788472,\n",
       "          -0.01750314,  0.00552021,  0.05821462, -0.04472128,\n",
       "           0.07289322, -0.01087582,  0.01526838, -0.05243922,\n",
       "           0.05566694,  0.06361009,  0.02286058,  0.02274077,\n",
       "          -0.03174298, -0.03287387,  0.00369497, -0.00540758,\n",
       "          -0.00559367, -0.03582225,  0.00117227, -0.02324406,\n",
       "           0.03628455,  0.00424401,  0.06826916, -0.07131534,\n",
       "           0.06160784,  0.01796041,  0.07056159,  0.04898191,\n",
       "          -0.01856244,  0.04474765, -0.00035899,  0.06050973,\n",
       "          -0.01510662, -0.00526253,  0.01619131,  0.06646373,\n",
       "           0.00275263,  0.00050844,  0.00198431,  0.06140959,\n",
       "          -0.01247452,  0.06644641,  0.05833625, -0.04112704,\n",
       "          -0.03432414, -0.02272543, -0.01147988,  0.0692389 ,\n",
       "          -0.06855379,  0.02698756, -0.05621039,  0.01445469,\n",
       "          -0.04717525,  0.00147118, -0.00120488,  0.00906573],\n",
       "         [-0.01238398,  0.03976315,  0.05967141, -0.02696273,\n",
       "           0.06098639, -0.01741344,  0.01368975, -0.05788472,\n",
       "          -0.01750314,  0.00552021,  0.05821462, -0.04472128,\n",
       "           0.07289322, -0.01087582,  0.01526838, -0.05243922,\n",
       "           0.05566694,  0.06361009,  0.02286058,  0.02274077,\n",
       "          -0.03174298, -0.03287387,  0.00369497, -0.00540758,\n",
       "          -0.00559367, -0.03582225,  0.00117227, -0.02324406,\n",
       "           0.03628455,  0.00424401,  0.06826916, -0.07131534,\n",
       "           0.06160784,  0.01796041,  0.07056159,  0.04898191,\n",
       "          -0.01856244,  0.04474765, -0.00035899,  0.06050973,\n",
       "          -0.01510662, -0.00526253,  0.01619131,  0.06646373,\n",
       "           0.00275263,  0.00050844,  0.00198431,  0.06140959,\n",
       "          -0.01247452,  0.06644641,  0.05833625, -0.04112704,\n",
       "          -0.03432414, -0.02272543, -0.01147988,  0.0692389 ,\n",
       "          -0.06855379,  0.02698756, -0.05621039,  0.01445469,\n",
       "          -0.04717525,  0.00147118, -0.00120488,  0.00906573],\n",
       "         [-0.01238398,  0.03976315,  0.05967141, -0.02696273,\n",
       "           0.06098639, -0.01741344,  0.01368975, -0.05788472,\n",
       "          -0.01750314,  0.00552021,  0.05821462, -0.04472128,\n",
       "           0.07289322, -0.01087582,  0.01526838, -0.05243922,\n",
       "           0.05566694,  0.06361009,  0.02286058,  0.02274077,\n",
       "          -0.03174298, -0.03287387,  0.00369497, -0.00540758,\n",
       "          -0.00559367, -0.03582225,  0.00117227, -0.02324406,\n",
       "           0.03628455,  0.00424401,  0.06826916, -0.07131534,\n",
       "           0.06160784,  0.01796041,  0.07056159,  0.04898191,\n",
       "          -0.01856244,  0.04474765, -0.00035899,  0.06050973,\n",
       "          -0.01510662, -0.00526253,  0.01619131,  0.06646373,\n",
       "           0.00275263,  0.00050844,  0.00198431,  0.06140959,\n",
       "          -0.01247452,  0.06644641,  0.05833625, -0.04112704,\n",
       "          -0.03432414, -0.02272543, -0.01147988,  0.0692389 ,\n",
       "          -0.06855379,  0.02698756, -0.05621039,  0.01445469,\n",
       "          -0.04717525,  0.00147118, -0.00120488,  0.00906573],\n",
       "         [-0.01238398,  0.03976315,  0.05967141, -0.02696273,\n",
       "           0.06098639, -0.01741344,  0.01368975, -0.05788472,\n",
       "          -0.01750314,  0.00552021,  0.05821462, -0.04472128,\n",
       "           0.07289322, -0.01087582,  0.01526838, -0.05243922,\n",
       "           0.05566694,  0.06361009,  0.02286058,  0.02274077,\n",
       "          -0.03174298, -0.03287387,  0.00369497, -0.00540758,\n",
       "          -0.00559367, -0.03582225,  0.00117227, -0.02324406,\n",
       "           0.03628455,  0.00424401,  0.06826916, -0.07131534,\n",
       "           0.06160784,  0.01796041,  0.07056159,  0.04898191,\n",
       "          -0.01856244,  0.04474765, -0.00035899,  0.06050973,\n",
       "          -0.01510662, -0.00526253,  0.01619131,  0.06646373,\n",
       "           0.00275263,  0.00050844,  0.00198431,  0.06140959,\n",
       "          -0.01247452,  0.06644641,  0.05833625, -0.04112704,\n",
       "          -0.03432414, -0.02272543, -0.01147988,  0.0692389 ,\n",
       "          -0.06855379,  0.02698756, -0.05621039,  0.01445469,\n",
       "          -0.04717525,  0.00147118, -0.00120488,  0.00906573],\n",
       "         [-0.01238398,  0.03976315,  0.05967141, -0.02696273,\n",
       "           0.06098639, -0.01741344,  0.01368975, -0.05788472,\n",
       "          -0.01750314,  0.00552021,  0.05821462, -0.04472128,\n",
       "           0.07289322, -0.01087582,  0.01526838, -0.05243922,\n",
       "           0.05566694,  0.06361009,  0.02286058,  0.02274077,\n",
       "          -0.03174298, -0.03287387,  0.00369497, -0.00540758,\n",
       "          -0.00559367, -0.03582225,  0.00117227, -0.02324406,\n",
       "           0.03628455,  0.00424401,  0.06826916, -0.07131534,\n",
       "           0.06160784,  0.01796041,  0.07056159,  0.04898191,\n",
       "          -0.01856244,  0.04474765, -0.00035899,  0.06050973,\n",
       "          -0.01510662, -0.00526253,  0.01619131,  0.06646373,\n",
       "           0.00275263,  0.00050844,  0.00198431,  0.06140959,\n",
       "          -0.01247452,  0.06644641,  0.05833625, -0.04112704,\n",
       "          -0.03432414, -0.02272543, -0.01147988,  0.0692389 ,\n",
       "          -0.06855379,  0.02698756, -0.05621039,  0.01445469,\n",
       "          -0.04717525,  0.00147118, -0.00120488,  0.00906573],\n",
       "         [-0.01238398,  0.03976315,  0.05967141, -0.02696273,\n",
       "           0.06098639, -0.01741344,  0.01368975, -0.05788472,\n",
       "          -0.01750314,  0.00552021,  0.05821462, -0.04472128,\n",
       "           0.07289322, -0.01087582,  0.01526838, -0.05243922,\n",
       "           0.05566694,  0.06361009,  0.02286058,  0.02274077,\n",
       "          -0.03174298, -0.03287387,  0.00369497, -0.00540758,\n",
       "          -0.00559367, -0.03582225,  0.00117227, -0.02324406,\n",
       "           0.03628455,  0.00424401,  0.06826916, -0.07131534,\n",
       "           0.06160784,  0.01796041,  0.07056159,  0.04898191,\n",
       "          -0.01856244,  0.04474765, -0.00035899,  0.06050973,\n",
       "          -0.01510662, -0.00526253,  0.01619131,  0.06646373,\n",
       "           0.00275263,  0.00050844,  0.00198431,  0.06140959,\n",
       "          -0.01247452,  0.06644641,  0.05833625, -0.04112704,\n",
       "          -0.03432414, -0.02272543, -0.01147988,  0.0692389 ,\n",
       "          -0.06855379,  0.02698756, -0.05621039,  0.01445469,\n",
       "          -0.04717525,  0.00147118, -0.00120488,  0.00906573],\n",
       "         [-0.01238398,  0.03976315,  0.05967141, -0.02696273,\n",
       "           0.06098639, -0.01741344,  0.01368975, -0.05788472,\n",
       "          -0.01750314,  0.00552021,  0.05821462, -0.04472128,\n",
       "           0.07289322, -0.01087582,  0.01526838, -0.05243922,\n",
       "           0.05566694,  0.06361009,  0.02286058,  0.02274077,\n",
       "          -0.03174298, -0.03287387,  0.00369497, -0.00540758,\n",
       "          -0.00559367, -0.03582225,  0.00117227, -0.02324406,\n",
       "           0.03628455,  0.00424401,  0.06826916, -0.07131534,\n",
       "           0.06160784,  0.01796041,  0.07056159,  0.04898191,\n",
       "          -0.01856244,  0.04474765, -0.00035899,  0.06050973,\n",
       "          -0.01510662, -0.00526253,  0.01619131,  0.06646373,\n",
       "           0.00275263,  0.00050844,  0.00198431,  0.06140959,\n",
       "          -0.01247452,  0.06644641,  0.05833625, -0.04112704,\n",
       "          -0.03432414, -0.02272543, -0.01147988,  0.0692389 ,\n",
       "          -0.06855379,  0.02698756, -0.05621039,  0.01445469,\n",
       "          -0.04717525,  0.00147118, -0.00120488,  0.00906573],\n",
       "         [-0.01238398,  0.03976315,  0.05967141, -0.02696273,\n",
       "           0.06098639, -0.01741344,  0.01368975, -0.05788472,\n",
       "          -0.01750314,  0.00552021,  0.05821462, -0.04472128,\n",
       "           0.07289322, -0.01087582,  0.01526838, -0.05243922,\n",
       "           0.05566694,  0.06361009,  0.02286058,  0.02274077,\n",
       "          -0.03174298, -0.03287387,  0.00369497, -0.00540758,\n",
       "          -0.00559367, -0.03582225,  0.00117227, -0.02324406,\n",
       "           0.03628455,  0.00424401,  0.06826916, -0.07131534,\n",
       "           0.06160784,  0.01796041,  0.07056159,  0.04898191,\n",
       "          -0.01856244,  0.04474765, -0.00035899,  0.06050973,\n",
       "          -0.01510662, -0.00526253,  0.01619131,  0.06646373,\n",
       "           0.00275263,  0.00050844,  0.00198431,  0.06140959,\n",
       "          -0.01247452,  0.06644641,  0.05833625, -0.04112704,\n",
       "          -0.03432414, -0.02272543, -0.01147988,  0.0692389 ,\n",
       "          -0.06855379,  0.02698756, -0.05621039,  0.01445469,\n",
       "          -0.04717525,  0.00147118, -0.00120488,  0.00906573]]],\n",
       "       dtype=float32)>,\n",
       " <tf.Tensor: shape=(1, 11, 32), dtype=float32, numpy=\n",
       " array([[[0.10656257, 0.        , 0.16529739, 0.        , 0.        ,\n",
       "          0.        , 0.10975615, 0.05663275, 0.        , 0.00456921,\n",
       "          0.04470031, 0.        , 0.        , 0.08659957, 0.07581019,\n",
       "          0.        , 0.06656463, 0.        , 0.09920129, 0.17659087,\n",
       "          0.1477437 , 0.19946031, 0.20765842, 0.        , 0.        ,\n",
       "          0.18428068, 0.09486813, 0.        , 0.07964838, 0.13551165,\n",
       "          0.05447463, 0.        ],\n",
       "         [0.01269607, 0.        , 0.        , 0.        , 0.0040381 ,\n",
       "          0.02708118, 0.        , 0.22535428, 0.00424695, 0.04828433,\n",
       "          0.        , 0.        , 0.03814455, 0.        , 0.14670545,\n",
       "          0.03654398, 0.        , 0.06342448, 0.12459818, 0.        ,\n",
       "          0.        , 0.        , 0.        , 0.04231742, 0.12183037,\n",
       "          0.        , 0.        , 0.13833636, 0.        , 0.00513832,\n",
       "          0.        , 0.03152736],\n",
       "         [0.11853225, 0.        , 0.        , 0.07686109, 0.        ,\n",
       "          0.        , 0.        , 0.075513  , 0.18268938, 0.00564187,\n",
       "          0.        , 0.        , 0.00458082, 0.        , 0.        ,\n",
       "          0.        , 0.        , 0.        , 0.05012145, 0.        ,\n",
       "          0.11562674, 0.        , 0.        , 0.        , 0.10725743,\n",
       "          0.        , 0.08524875, 0.        , 0.        , 0.        ,\n",
       "          0.        , 0.        ],\n",
       "         [0.        , 0.        , 0.        , 0.1657491 , 0.        ,\n",
       "          0.        , 0.        , 0.41200864, 0.        , 0.20144065,\n",
       "          0.08636961, 0.        , 0.1429001 , 0.17692982, 0.        ,\n",
       "          0.        , 0.01746073, 0.        , 0.17520806, 0.03414904,\n",
       "          0.        , 0.06257293, 0.02290597, 0.        , 0.12633531,\n",
       "          0.        , 0.07127059, 0.        , 0.12245344, 0.        ,\n",
       "          0.14450394, 0.0191681 ],\n",
       "         [0.06284633, 0.08809745, 0.        , 0.        , 0.        ,\n",
       "          0.        , 0.        , 0.27420706, 0.        , 0.        ,\n",
       "          0.        , 0.        , 0.17699243, 0.01451011, 0.11587269,\n",
       "          0.        , 0.        , 0.        , 0.14923802, 0.        ,\n",
       "          0.        , 0.        , 0.        , 0.        , 0.11583232,\n",
       "          0.05761969, 0.05178833, 0.06601198, 0.18407002, 0.        ,\n",
       "          0.        , 0.11511374],\n",
       "         [0.02792178, 0.04241316, 0.        , 0.        , 0.        ,\n",
       "          0.        , 0.        , 0.13321412, 0.        , 0.        ,\n",
       "          0.        , 0.        , 0.08211318, 0.01219402, 0.        ,\n",
       "          0.        , 0.        , 0.        , 0.058261  , 0.        ,\n",
       "          0.        , 0.00661299, 0.        , 0.        , 0.02815942,\n",
       "          0.01756688, 0.02677479, 0.01145679, 0.        , 0.        ,\n",
       "          0.        , 0.06099168],\n",
       "         [0.        , 0.        , 0.        , 0.02179445, 0.        ,\n",
       "          0.        , 0.        , 0.08029231, 0.        , 0.02195058,\n",
       "          0.        , 0.        , 0.05389513, 0.04268925, 0.        ,\n",
       "          0.        , 0.        , 0.        , 0.04827936, 0.        ,\n",
       "          0.        , 0.00948853, 0.        , 0.        , 0.04212833,\n",
       "          0.        , 0.05541012, 0.        , 0.        , 0.        ,\n",
       "          0.        , 0.02252548],\n",
       "         [0.        , 0.        , 0.        , 0.02179445, 0.        ,\n",
       "          0.        , 0.        , 0.08029231, 0.        , 0.02195058,\n",
       "          0.        , 0.        , 0.05389513, 0.04268925, 0.        ,\n",
       "          0.        , 0.        , 0.        , 0.04827936, 0.        ,\n",
       "          0.        , 0.00948853, 0.        , 0.        , 0.04212833,\n",
       "          0.        , 0.05541012, 0.        , 0.        , 0.        ,\n",
       "          0.        , 0.02252548],\n",
       "         [0.        , 0.        , 0.        , 0.02179445, 0.        ,\n",
       "          0.        , 0.        , 0.08029231, 0.        , 0.02195058,\n",
       "          0.        , 0.        , 0.05389513, 0.04268925, 0.        ,\n",
       "          0.        , 0.        , 0.        , 0.04827936, 0.        ,\n",
       "          0.        , 0.00948853, 0.        , 0.        , 0.04212833,\n",
       "          0.        , 0.05541012, 0.        , 0.        , 0.        ,\n",
       "          0.        , 0.02252548],\n",
       "         [0.        , 0.        , 0.        , 0.02179445, 0.        ,\n",
       "          0.        , 0.        , 0.08029231, 0.        , 0.02195058,\n",
       "          0.        , 0.        , 0.05389513, 0.04268925, 0.        ,\n",
       "          0.        , 0.        , 0.        , 0.04827936, 0.        ,\n",
       "          0.        , 0.00948853, 0.        , 0.        , 0.04212833,\n",
       "          0.        , 0.05541012, 0.        , 0.        , 0.        ,\n",
       "          0.        , 0.02252548],\n",
       "         [0.        , 0.        , 0.        , 0.02179445, 0.        ,\n",
       "          0.        , 0.        , 0.08029231, 0.        , 0.02195058,\n",
       "          0.        , 0.        , 0.05389513, 0.04268925, 0.        ,\n",
       "          0.        , 0.        , 0.        , 0.04827936, 0.        ,\n",
       "          0.        , 0.00948853, 0.        , 0.        , 0.04212833,\n",
       "          0.        , 0.05541012, 0.        , 0.        , 0.        ,\n",
       "          0.        , 0.02252548]]], dtype=float32)>,\n",
       " <tf.Tensor: shape=(1, 32), dtype=float32, numpy=\n",
       " array([[0.11853225, 0.08809745, 0.16529739, 0.1657491 , 0.0040381 ,\n",
       "         0.02708118, 0.10975615, 0.41200864, 0.18268938, 0.20144065,\n",
       "         0.08636961, 0.        , 0.17699243, 0.17692982, 0.14670545,\n",
       "         0.03654398, 0.06656463, 0.06342448, 0.17520806, 0.17659087,\n",
       "         0.1477437 , 0.19946031, 0.20765842, 0.04231742, 0.12633531,\n",
       "         0.18428068, 0.09486813, 0.13833636, 0.18407002, 0.13551165,\n",
       "         0.14450394, 0.11511374]], dtype=float32)>)"
      ]
     },
     "execution_count": 67,
     "metadata": {},
     "output_type": "execute_result"
    }
   ],
   "source": [
    "embedding_test[:1], conv1d_output[:1], max_pool_output[:1]"
   ]
  },
  {
   "cell_type": "code",
   "execution_count": 68,
   "metadata": {},
   "outputs": [
    {
     "name": "stdout",
     "output_type": "stream",
     "text": [
      "Model: \"model_5_conv1D\"\n",
      "_________________________________________________________________\n",
      " Layer (type)                Output Shape              Param #   \n",
      "=================================================================\n",
      " input_5 (InputLayer)        [(None, 1)]               0         \n",
      "                                                                 \n",
      " text_vectorization_1 (TextV  (None, 15)               0         \n",
      " ectorization)                                                   \n",
      "                                                                 \n",
      " embedding_5 (Embedding)     (None, 15, 128)           1280000   \n",
      "                                                                 \n",
      " conv1d_1 (Conv1D)           (None, 11, 32)            20512     \n",
      "                                                                 \n",
      " global_max_pooling1d_1 (Glo  (None, 32)               0         \n",
      " balMaxPooling1D)                                                \n",
      "                                                                 \n",
      " dense_4 (Dense)             (None, 1)                 33        \n",
      "                                                                 \n",
      "=================================================================\n",
      "Total params: 1,300,545\n",
      "Trainable params: 1,300,545\n",
      "Non-trainable params: 0\n",
      "_________________________________________________________________\n"
     ]
    }
   ],
   "source": [
    "tf.random.set_seed(42)\n",
    "model5_embedding = layers.Embedding(input_dim=max_vocab_length, output_dim=128,embeddings_initializer=\"uniform\", input_length=max_length,name=\"embedding_5\")\n",
    "inputs = layers.Input(shape=(1,),dtype=\"string\")\n",
    "x = text_vectorizer(inputs)\n",
    "x = model5_embedding(x)\n",
    "# CNN\n",
    "x = layers.Conv1D(filters=32,kernel_size=5,activation=\"relu\")(x)\n",
    "x = layers.GlobalMaxPool1D()(x)\n",
    "outputs = layers.Dense(1,activation=\"sigmoid\")(x)\n",
    "model5 = tf.keras.Model(inputs,outputs,name=\"model_5_conv1D\")\n",
    "\n",
    "model5.compile(loss='categorical_crossentropy', optimizer='adam', metrics=['accuracy'])\n",
    "model5.summary()"
   ]
  },
  {
   "cell_type": "code",
   "execution_count": 69,
   "metadata": {},
   "outputs": [
    {
     "name": "stdout",
     "output_type": "stream",
     "text": [
      "Saving TensorBoard log files to: model_log/Bidirectional/20250122-102857\n",
      "Epoch 1/10\n",
      "215/215 [==============================] - 1s 4ms/step - loss: 0.0000e+00 - accuracy: 0.5733 - val_loss: 0.0000e+00 - val_accuracy: 0.5433\n",
      "Epoch 2/10\n",
      "215/215 [==============================] - 1s 3ms/step - loss: 0.0000e+00 - accuracy: 0.5733 - val_loss: 0.0000e+00 - val_accuracy: 0.5433\n",
      "Epoch 3/10\n",
      "215/215 [==============================] - 1s 3ms/step - loss: 0.0000e+00 - accuracy: 0.5733 - val_loss: 0.0000e+00 - val_accuracy: 0.5433\n",
      "Epoch 4/10\n",
      "215/215 [==============================] - 1s 3ms/step - loss: 0.0000e+00 - accuracy: 0.5733 - val_loss: 0.0000e+00 - val_accuracy: 0.5433\n",
      "Epoch 5/10\n",
      "215/215 [==============================] - 1s 3ms/step - loss: 0.0000e+00 - accuracy: 0.5733 - val_loss: 0.0000e+00 - val_accuracy: 0.5433\n",
      "Epoch 6/10\n",
      "215/215 [==============================] - 1s 3ms/step - loss: 0.0000e+00 - accuracy: 0.5733 - val_loss: 0.0000e+00 - val_accuracy: 0.5433\n",
      "Epoch 7/10\n",
      "215/215 [==============================] - 1s 3ms/step - loss: 0.0000e+00 - accuracy: 0.5733 - val_loss: 0.0000e+00 - val_accuracy: 0.5433\n",
      "Epoch 8/10\n",
      "215/215 [==============================] - 1s 3ms/step - loss: 0.0000e+00 - accuracy: 0.5733 - val_loss: 0.0000e+00 - val_accuracy: 0.5433\n",
      "Epoch 9/10\n",
      "215/215 [==============================] - 1s 3ms/step - loss: 0.0000e+00 - accuracy: 0.5733 - val_loss: 0.0000e+00 - val_accuracy: 0.5433\n",
      "Epoch 10/10\n",
      "215/215 [==============================] - 1s 3ms/step - loss: 0.0000e+00 - accuracy: 0.5733 - val_loss: 0.0000e+00 - val_accuracy: 0.5433\n"
     ]
    }
   ],
   "source": [
    "model5_history = model5.fit(train_sentences,train_labels,epochs=10,validation_data=(val_sentences,val_labels),\n",
    "                            callbacks=[create_tensorboard_callback(dir_name=SAVE_DIR, \n",
    "                                                                     experiment_name=\"Bidirectional\")])"
   ]
  },
  {
   "cell_type": "code",
   "execution_count": 70,
   "metadata": {},
   "outputs": [
    {
     "name": "stdout",
     "output_type": "stream",
     "text": [
      "24/24 [==============================] - 0s 908us/step\n"
     ]
    },
    {
     "name": "stderr",
     "output_type": "stream",
     "text": [
      "/root/miniconda3/envs/torchai/lib/python3.9/site-packages/sklearn/metrics/_classification.py:1531: UndefinedMetricWarning: Precision is ill-defined and being set to 0.0 in labels with no predicted samples. Use `zero_division` parameter to control this behavior.\n",
      "  _warn_prf(average, modifier, f\"{metric.capitalize()} is\", len(result))\n"
     ]
    },
    {
     "data": {
      "text/plain": [
       "{'accuracy': 0.5433070866141733,\n",
       " 'precision': 0.29518259036518074,\n",
       " 'recall': 0.5433070866141733,\n",
       " 'f1': 0.38253254057528524,\n",
       " 'auc': 0.5}"
      ]
     },
     "execution_count": 70,
     "metadata": {},
     "output_type": "execute_result"
    }
   ],
   "source": [
    "model5_pred_probs = model5.predict(val_sentences)\n",
    "model5_preds = tf.squeeze(tf.round(model5_pred_probs))\n",
    "model5_results = calculate_results(val_labels,\n",
    "                                model5_preds)\n",
    "model5_results"
   ]
  },
  {
   "cell_type": "code",
   "execution_count": 71,
   "metadata": {},
   "outputs": [
    {
     "name": "stdout",
     "output_type": "stream",
     "text": [
      "Baseline accuracy: 0.79, New accuracy: 0.54, Difference: -0.25\n",
      "Baseline precision: 0.81, New precision: 0.30, Difference: -0.52\n",
      "Baseline recall: 0.79, New recall: 0.54, Difference: -0.25\n",
      "Baseline f1: 0.79, New f1: 0.38, Difference: -0.40\n",
      "Baseline auc: 0.78, New auc: 0.50, Difference: -0.28\n"
     ]
    }
   ],
   "source": [
    "compare_baseline_to_new_results(baseline_results,model5_results)"
   ]
  },
  {
   "cell_type": "markdown",
   "metadata": {},
   "source": [
    "## Using Pretrained Embeddings (transfer learning for NLP)\n",
    "\n",
    "For all of the previous deep learning models we've built and trained, we've created and used our own embeddings from scratch each time.\n",
    "\n",
    "However, a common practice is to leverage pretrained embeddings through **transfer learning**. This is one of the main benefits of using deep models: being able to take what one (often larger) model has learned (often on a large amount of data) and adjust it for our own use case.\n",
    "\n",
    "For our next model, instead of using our own embedding layer, we're going to replace it with a pretrained embedding layer.\n",
    "\n",
    "More specifically, we're going to be using the [Universal Sentence Encoder](https://www.aclweb.org/anthology/D18-2029.pdf) from [TensorFlow Hub](https://tfhub.dev/google/universal-sentence-encoder/4) (a great resource containing a plethora of pretrained model resources for a variety of tasks).\n",
    "\n",
    "> 🔑 **Note:** There are many different pretrained text embedding options on TensorFlow Hub, however, some require different levels of text preprocessing than others. Best to experiment with a few and see which best suits your use case.\n",
    "\n"
   ]
  },
  {
   "cell_type": "markdown",
   "metadata": {},
   "source": [
    "### Model 6: TensorFlow Hub Pretrained Sentence Encoder  预训练encoder模型\n",
    "\n",
    "The main difference between the embedding layer we created and the Universal Sentence Encoder is that rather than create a word-level embedding, the Universal Sentence Encoder, as you might've guessed, creates a whole sentence-level embedding.\n",
    "\n",
    "Our embedding layer also outputs an a 128 dimensional vector for each word, where as, the Universal Sentence Encoder outputs a 512 dimensional vector for each sentence.\n",
    "\n",
    "![](https://raw.githubusercontent.com/mrdbourke/tensorflow-deep-learning/main/images/08-USE-tensorflow-hub-encoder-decoder-model.png)\n",
    "*The feature extractor model we're building through the eyes of an **encoder/decoder** model.*\n",
    "\n",
    "> 🔑 **Note:** An **encoder** is the name for a model which converts raw data such as text into a numerical representation (feature vector), a **decoder** converts the numerical representation to a desired output.\n",
    "\n",
    "As usual, this is best demonstrated with an example.\n",
    "\n",
    "We can load in a TensorFlow Hub module using the [`hub.load()`](https://www.tensorflow.org/hub/api_docs/python/hub/load) method and passing it the target URL of the module we'd like to use, in our case, it's \"https://tfhub.dev/google/universal-sentence-encoder/4\".\n",
    "\n",
    "Let's load the Universal Sentence Encoder model and test it on a couple of sentences."
   ]
  },
  {
   "cell_type": "code",
   "execution_count": 72,
   "metadata": {},
   "outputs": [
    {
     "name": "stdout",
     "output_type": "stream",
     "text": [
      "tf.Tensor(\n",
      "[-0.01157022  0.02485909  0.02878049 -0.01271502  0.03971541  0.0882776\n",
      "  0.02680985  0.05589838 -0.01068732 -0.00597293  0.00639324 -0.01819521\n",
      "  0.00030815  0.0910589   0.05874645 -0.03180628  0.01512474 -0.05162928\n",
      "  0.00991369 -0.06865346 -0.04209307  0.0267898   0.0301101   0.00321071\n",
      " -0.00337968 -0.04787361  0.02266718 -0.00985926 -0.04063615 -0.01292094\n",
      " -0.04666382  0.05630298 -0.03949255  0.00517684  0.02495828 -0.0701444\n",
      "  0.02871509  0.04947679 -0.00633974 -0.08960192  0.02807122 -0.00808364\n",
      " -0.01360597  0.05998648 -0.10361788 -0.05195372  0.00232956 -0.02332528\n",
      " -0.03758107  0.03327729], shape=(50,), dtype=float32)\n"
     ]
    }
   ],
   "source": [
    "import tensorflow_hub as hub\n",
    "embed = hub.load(\"https://tfhub.dev/google/universal-sentence-encoder/4\") # load Universal Sentence Encoder\n",
    "embed_samples = embed([sample_sentence,\n",
    "                      \"When you call the universal sentence encoder on a sentence, it turns it into numbers.\"])\n",
    "\n",
    "print(embed_samples[0][:50])"
   ]
  },
  {
   "cell_type": "code",
   "execution_count": 73,
   "metadata": {},
   "outputs": [
    {
     "data": {
      "text/plain": [
       "TensorShape([512])"
      ]
     },
     "execution_count": 73,
     "metadata": {},
     "output_type": "execute_result"
    }
   ],
   "source": [
    "embed_samples[0].shape"
   ]
  },
  {
   "cell_type": "markdown",
   "metadata": {},
   "source": [
    "Passing our sentences to the Universal Sentence Encoder (USE) encodes them from strings to 512 dimensional vectors, which make no sense to us but hopefully make sense to our machine learning models.\n",
    "\n",
    "Speaking of models, let's build one with the USE as our embedding layer.\n",
    "\n",
    "We can convert the TensorFlow Hub USE module into a Keras layer using the [`hub.KerasLayer`](https://www.tensorflow.org/hub/api_docs/python/hub/KerasLayer) class.\n",
    "\n",
    "> 🔑 **Note:** Due to the size of the USE TensorFlow Hub module, it may take a little while to download. Once it's downloaded though, it'll be cached and ready to use. And as with many TensorFlow Hub modules, there is a [\"lite\" version of the USE](https://tfhub.dev/google/universal-sentence-encoder-lite/2) which takes up less space but sacrifices some performance and requires more preprocessing steps. However, depending on your available compute power, the lite version may be better for your application use case."
   ]
  },
  {
   "cell_type": "code",
   "execution_count": 74,
   "metadata": {},
   "outputs": [],
   "source": [
    "sentence_encoder_layer = hub.KerasLayer(\"https://tfhub.dev/google/universal-sentence-encoder/4\",\n",
    "                                        dtype=tf.string, # data type of inputs coming to the USE layer\n",
    "                                        trainable=False, # keep the pretrained weights (we'll create a feature extractor)\n",
    "                                        name=\"USE\") "
   ]
  },
  {
   "cell_type": "code",
   "execution_count": 75,
   "metadata": {},
   "outputs": [
    {
     "name": "stdout",
     "output_type": "stream",
     "text": [
      "Model: \"model_6_USE\"\n",
      "_________________________________________________________________\n",
      " Layer (type)                Output Shape              Param #   \n",
      "=================================================================\n",
      " USE (KerasLayer)            (None, 512)               256797824 \n",
      "                                                                 \n",
      " dense_5 (Dense)             (None, 64)                32832     \n",
      "                                                                 \n",
      " dense_6 (Dense)             (None, 1)                 65        \n",
      "                                                                 \n",
      "=================================================================\n",
      "Total params: 256,830,721\n",
      "Trainable params: 32,897\n",
      "Non-trainable params: 256,797,824\n",
      "_________________________________________________________________\n"
     ]
    }
   ],
   "source": [
    "# sentence encoder layer s使用报错，pip install tensorflow==2.10.0,使用该版本\n",
    "sentence_encoder_layer = hub.KerasLayer(\"https://tfhub.dev/google/universal-sentence-encoder/4\",\n",
    "                                        input_shape=[], # shape of inputs coming to our model \n",
    "                                        dtype=tf.string, # data type of inputs coming to the USE layer\n",
    "                                        trainable=False, # keep the pretrained weights (we'll create a feature extractor)\n",
    "                                        name=\"USE\") \n",
    "\n",
    "model6 = tf.keras.Sequential([\n",
    "  sentence_encoder_layer, # take in sentences and then encode them into an embedding\n",
    "  layers.Dense(64, activation=\"relu\"),\n",
    "  layers.Dense(1, activation=\"sigmoid\")\n",
    "], name=\"model_6_USE\")\n",
    "\n",
    "model6.compile(loss='binary_crossentropy',\n",
    "              optimizer='adam',\n",
    "              metrics=['accuracy'])\n",
    "model6.summary()"
   ]
  },
  {
   "cell_type": "code",
   "execution_count": 76,
   "metadata": {},
   "outputs": [
    {
     "name": "stdout",
     "output_type": "stream",
     "text": [
      "Saving TensorBoard log files to: model_log/tf_hub_sentence_encoder/20250122-102915\n",
      "Epoch 1/10\n"
     ]
    },
    {
     "name": "stdout",
     "output_type": "stream",
     "text": [
      "215/215 [==============================] - 3s 5ms/step - loss: 0.5063 - accuracy: 0.7805 - val_loss: 0.4475 - val_accuracy: 0.7966\n",
      "Epoch 2/10\n",
      "215/215 [==============================] - 1s 4ms/step - loss: 0.4144 - accuracy: 0.8146 - val_loss: 0.4368 - val_accuracy: 0.8136\n",
      "Epoch 3/10\n",
      "215/215 [==============================] - 1s 4ms/step - loss: 0.3999 - accuracy: 0.8224 - val_loss: 0.4328 - val_accuracy: 0.8136\n",
      "Epoch 4/10\n",
      "215/215 [==============================] - 1s 4ms/step - loss: 0.3926 - accuracy: 0.8276 - val_loss: 0.4287 - val_accuracy: 0.8123\n",
      "Epoch 5/10\n",
      "215/215 [==============================] - 1s 4ms/step - loss: 0.3864 - accuracy: 0.8286 - val_loss: 0.4307 - val_accuracy: 0.8110\n",
      "Epoch 6/10\n",
      "215/215 [==============================] - 1s 4ms/step - loss: 0.3797 - accuracy: 0.8342 - val_loss: 0.4261 - val_accuracy: 0.8176\n",
      "Epoch 7/10\n",
      "215/215 [==============================] - 1s 4ms/step - loss: 0.3739 - accuracy: 0.8336 - val_loss: 0.4247 - val_accuracy: 0.8163\n",
      "Epoch 8/10\n",
      "215/215 [==============================] - 1s 4ms/step - loss: 0.3681 - accuracy: 0.8409 - val_loss: 0.4248 - val_accuracy: 0.8189\n",
      "Epoch 9/10\n",
      "215/215 [==============================] - 1s 4ms/step - loss: 0.3618 - accuracy: 0.8409 - val_loss: 0.4284 - val_accuracy: 0.8163\n",
      "Epoch 10/10\n",
      "215/215 [==============================] - 1s 4ms/step - loss: 0.3562 - accuracy: 0.8432 - val_loss: 0.4289 - val_accuracy: 0.8215\n"
     ]
    }
   ],
   "source": [
    "model6_history = model6.fit(train_sentences,train_labels,epochs=10,validation_data=(val_sentences,val_labels),\n",
    "                            callbacks=[create_tensorboard_callback(dir_name=SAVE_DIR, \n",
    "                                                                     experiment_name=\"tf_hub_sentence_encoder\")])"
   ]
  },
  {
   "cell_type": "code",
   "execution_count": 77,
   "metadata": {},
   "outputs": [
    {
     "name": "stdout",
     "output_type": "stream",
     "text": [
      "24/24 [==============================] - 0s 3ms/step\n"
     ]
    },
    {
     "data": {
      "text/plain": [
       "{'accuracy': 0.821522309711286,\n",
       " 'precision': 0.8260248375546463,\n",
       " 'recall': 0.821522309711286,\n",
       " 'f1': 0.8194798413883178,\n",
       " 'auc': 0.8139888389138764}"
      ]
     },
     "execution_count": 77,
     "metadata": {},
     "output_type": "execute_result"
    }
   ],
   "source": [
    "model6_pred_probs = model6.predict(val_sentences)\n",
    "model6_preds = tf.squeeze(tf.round(model6_pred_probs))\n",
    "model6_results = calculate_results(val_labels,\n",
    "                                model6_preds)\n",
    "model6_results"
   ]
  },
  {
   "cell_type": "code",
   "execution_count": 78,
   "metadata": {},
   "outputs": [
    {
     "name": "stdout",
     "output_type": "stream",
     "text": [
      "Baseline accuracy: 0.79, New accuracy: 0.82, Difference: 0.03\n",
      "Baseline precision: 0.81, New precision: 0.83, Difference: 0.01\n",
      "Baseline recall: 0.79, New recall: 0.82, Difference: 0.03\n",
      "Baseline f1: 0.79, New f1: 0.82, Difference: 0.03\n",
      "Baseline auc: 0.78, New auc: 0.81, Difference: 0.03\n"
     ]
    }
   ],
   "source": [
    "# tensorflow hub 中的encoder模型效果明显比较好\n",
    "compare_baseline_to_new_results(baseline_results,model6_results)"
   ]
  },
  {
   "cell_type": "markdown",
   "metadata": {},
   "source": [
    "### Model 7: TensorFlow Hub Pretrained Sentence Encoder 10% of the training data  10%的数据 encoder模型\n",
    "\n",
    "One of the benefits of using transfer learning methods, such as, the pretrained embeddings within the USE is the ability to get great results on a small amount of data (the USE paper even mentions this in the abstract).\n",
    "\n",
    "To put this to the test, we're going to make a small subset of the training data (10%), train a model and evaluate it."
   ]
  },
  {
   "cell_type": "code",
   "execution_count": 79,
   "metadata": {},
   "outputs": [],
   "source": [
    "### NOTE: Making splits like this will lead to data leakage ###\n",
    "### (some of the training examples in the validation set) ###\n",
    "\n",
    "# 因为train_df_shuffled 已经被切分了，所以 train_df_shuffled[[\"text\", \"target\"]].sample(frac=0.1, random_state=42)，可能和验证集有交集\n",
    "\n",
    "\n",
    "### WRONG WAY TO MAKE SPLITS (train_df_shuffled has already been split) ### \n",
    "\n",
    "# # Create subsets of 10% of the training data\n",
    "# train_10_percent = train_df_shuffled[[\"text\", \"target\"]].sample(frac=0.1, random_state=42)\n",
    "# train_sentences_10_percent = train_10_percent[\"text\"].to_list()\n",
    "# train_labels_10_percent = train_10_percent[\"target\"].to_list()\n",
    "# len(train_sentences_10_percent), len(train_labels_10_percent)"
   ]
  },
  {
   "cell_type": "code",
   "execution_count": 80,
   "metadata": {},
   "outputs": [],
   "source": [
    "import numpy as np\n",
    "# 正确的分割数据\n",
    "train_sentences_90_percent, train_sentences_10_percent, train_labels_90_percent, train_labels_10_percent = train_test_split(np.array(train_sentences),\n",
    "                                                                                                                            train_labels,\n",
    "                                                                                                                            test_size=0.1,\n",
    "                                                                                                                            random_state=42)"
   ]
  },
  {
   "cell_type": "code",
   "execution_count": 81,
   "metadata": {},
   "outputs": [
    {
     "name": "stdout",
     "output_type": "stream",
     "text": [
      "Total training examples: 6851\n",
      "Length of 10% training examples: 686\n"
     ]
    }
   ],
   "source": [
    "print(f\"Total training examples: {len(train_sentences)}\")\n",
    "print(f\"Length of 10% training examples: {len(train_sentences_10_percent)}\")"
   ]
  },
  {
   "cell_type": "code",
   "execution_count": 82,
   "metadata": {},
   "outputs": [],
   "source": [
    "# train_labels_10_percent.value_counts()"
   ]
  },
  {
   "cell_type": "code",
   "execution_count": 83,
   "metadata": {},
   "outputs": [
    {
     "data": {
      "text/plain": [
       "0    415\n",
       "1    271\n",
       "Name: count, dtype: int64"
      ]
     },
     "execution_count": 83,
     "metadata": {},
     "output_type": "execute_result"
    }
   ],
   "source": [
    "pd.Series(train_labels_10_percent).value_counts()"
   ]
  },
  {
   "cell_type": "code",
   "execution_count": 84,
   "metadata": {},
   "outputs": [
    {
     "name": "stdout",
     "output_type": "stream",
     "text": [
      "Model: \"model_6_USE\"\n",
      "_________________________________________________________________\n",
      " Layer (type)                Output Shape              Param #   \n",
      "=================================================================\n",
      " USE (KerasLayer)            (None, 512)               256797824 \n",
      "                                                                 \n",
      " dense_5 (Dense)             (None, 64)                32832     \n",
      "                                                                 \n",
      " dense_6 (Dense)             (None, 1)                 65        \n",
      "                                                                 \n",
      "=================================================================\n",
      "Total params: 256,830,721\n",
      "Trainable params: 32,897\n",
      "Non-trainable params: 256,797,824\n",
      "_________________________________________________________________\n"
     ]
    }
   ],
   "source": [
    "# 从model6中复制model7\n",
    "\n",
    "model7 = tf.keras.models.clone_model(model6)\n",
    "\n",
    "model7.compile(loss=\"binary_crossentropy\",\n",
    "                optimizer=tf.keras.optimizers.Adam(),\n",
    "                metrics=[\"accuracy\"]\n",
    ")\n",
    "\n",
    "model7.summary()"
   ]
  },
  {
   "cell_type": "code",
   "execution_count": 85,
   "metadata": {},
   "outputs": [
    {
     "name": "stdout",
     "output_type": "stream",
     "text": [
      "Saving TensorBoard log files to: model_log/10_percent_tf_hub_sentence_encoder/20250122-102928\n",
      "Epoch 1/5\n",
      "22/22 [==============================] - 2s 22ms/step - loss: 0.6751 - accuracy: 0.6531 - val_loss: 0.6549 - val_accuracy: 0.7073\n",
      "Epoch 2/5\n",
      "22/22 [==============================] - 0s 8ms/step - loss: 0.6024 - accuracy: 0.8309 - val_loss: 0.5951 - val_accuracy: 0.7598\n",
      "Epoch 3/5\n",
      "22/22 [==============================] - 0s 8ms/step - loss: 0.5222 - accuracy: 0.8382 - val_loss: 0.5384 - val_accuracy: 0.7651\n",
      "Epoch 4/5\n",
      "22/22 [==============================] - 0s 8ms/step - loss: 0.4544 - accuracy: 0.8382 - val_loss: 0.5049 - val_accuracy: 0.7717\n",
      "Epoch 5/5\n",
      "22/22 [==============================] - 0s 8ms/step - loss: 0.4096 - accuracy: 0.8440 - val_loss: 0.4877 - val_accuracy: 0.7808\n"
     ]
    }
   ],
   "source": [
    "model7_history = model7.fit(x=train_sentences_10_percent,\n",
    "                              y=train_labels_10_percent,\n",
    "                              epochs=5,\n",
    "                              validation_data=(val_sentences, val_labels),\n",
    "                              callbacks=[create_tensorboard_callback(SAVE_DIR, \"10_percent_tf_hub_sentence_encoder\")])"
   ]
  },
  {
   "cell_type": "code",
   "execution_count": 86,
   "metadata": {},
   "outputs": [
    {
     "name": "stdout",
     "output_type": "stream",
     "text": [
      "24/24 [==============================] - 0s 3ms/step\n"
     ]
    },
    {
     "data": {
      "text/plain": [
       "{'accuracy': 0.7808398950131233,\n",
       " 'precision': 0.7861251265484451,\n",
       " 'recall': 0.7808398950131233,\n",
       " 'f1': 0.7775280856169867,\n",
       " 'auc': 0.7717391304347825}"
      ]
     },
     "execution_count": 86,
     "metadata": {},
     "output_type": "execute_result"
    }
   ],
   "source": [
    "model7_pred_probs = model7.predict(val_sentences)\n",
    "model7_preds = tf.squeeze(tf.round(model7_pred_probs))\n",
    "model7_results = calculate_results(val_labels,\n",
    "                                model7_preds)\n",
    "model7_results"
   ]
  },
  {
   "cell_type": "code",
   "execution_count": 87,
   "metadata": {},
   "outputs": [
    {
     "name": "stdout",
     "output_type": "stream",
     "text": [
      "Baseline accuracy: 0.79, New accuracy: 0.78, Difference: -0.01\n",
      "Baseline precision: 0.81, New precision: 0.79, Difference: -0.03\n",
      "Baseline recall: 0.79, New recall: 0.78, Difference: -0.01\n",
      "Baseline f1: 0.79, New f1: 0.78, Difference: -0.01\n",
      "Baseline auc: 0.78, New auc: 0.77, Difference: -0.01\n"
     ]
    }
   ],
   "source": [
    "compare_baseline_to_new_results(baseline_results,model7_results)"
   ]
  },
  {
   "cell_type": "markdown",
   "metadata": {},
   "source": [
    "## Comparing the performance of each of our models 对比模型效果\n",
    "\n",
    "Woah. We've come a long way! From training a baseline to several deep models.\n",
    "\n",
    "Now it's time to compare our model's results.\n",
    "\n",
    "But just before we do, it's worthwhile mentioning, this type of practice is a standard deep learning workflow. Training various different models, then comparing them to see which one performed best and continuing to train it if necessary.\n",
    "\n",
    "The important thing to note is that for all of our modelling experiments we used the same training data (except for `model_7` where we used 10% of the training data).\n",
    "\n",
    "To visualize our model's performances, let's create a pandas DataFrame we our results dictionaries and then plot it."
   ]
  },
  {
   "cell_type": "code",
   "execution_count": 88,
   "metadata": {},
   "outputs": [
    {
     "data": {
      "text/html": [
       "<div>\n",
       "<style scoped>\n",
       "    .dataframe tbody tr th:only-of-type {\n",
       "        vertical-align: middle;\n",
       "    }\n",
       "\n",
       "    .dataframe tbody tr th {\n",
       "        vertical-align: top;\n",
       "    }\n",
       "\n",
       "    .dataframe thead th {\n",
       "        text-align: right;\n",
       "    }\n",
       "</style>\n",
       "<table border=\"1\" class=\"dataframe\">\n",
       "  <thead>\n",
       "    <tr style=\"text-align: right;\">\n",
       "      <th></th>\n",
       "      <th>accuracy</th>\n",
       "      <th>precision</th>\n",
       "      <th>recall</th>\n",
       "      <th>f1</th>\n",
       "      <th>auc</th>\n",
       "    </tr>\n",
       "  </thead>\n",
       "  <tbody>\n",
       "    <tr>\n",
       "      <th>baseline</th>\n",
       "      <td>0.792651</td>\n",
       "      <td>0.811139</td>\n",
       "      <td>0.792651</td>\n",
       "      <td>0.786219</td>\n",
       "      <td>0.779402</td>\n",
       "    </tr>\n",
       "    <tr>\n",
       "      <th>simple_dense</th>\n",
       "      <td>0.791339</td>\n",
       "      <td>0.797601</td>\n",
       "      <td>0.791339</td>\n",
       "      <td>0.788036</td>\n",
       "      <td>0.782088</td>\n",
       "    </tr>\n",
       "    <tr>\n",
       "      <th>lstm</th>\n",
       "      <td>0.543307</td>\n",
       "      <td>0.295183</td>\n",
       "      <td>0.543307</td>\n",
       "      <td>0.382533</td>\n",
       "      <td>0.500000</td>\n",
       "    </tr>\n",
       "    <tr>\n",
       "      <th>gru</th>\n",
       "      <td>0.543307</td>\n",
       "      <td>0.295183</td>\n",
       "      <td>0.543307</td>\n",
       "      <td>0.382533</td>\n",
       "      <td>0.500000</td>\n",
       "    </tr>\n",
       "    <tr>\n",
       "      <th>bidirectional</th>\n",
       "      <td>0.543307</td>\n",
       "      <td>0.295183</td>\n",
       "      <td>0.543307</td>\n",
       "      <td>0.382533</td>\n",
       "      <td>0.500000</td>\n",
       "    </tr>\n",
       "    <tr>\n",
       "      <th>conv1d</th>\n",
       "      <td>0.543307</td>\n",
       "      <td>0.295183</td>\n",
       "      <td>0.543307</td>\n",
       "      <td>0.382533</td>\n",
       "      <td>0.500000</td>\n",
       "    </tr>\n",
       "    <tr>\n",
       "      <th>tf_hub_sentence_encoder</th>\n",
       "      <td>0.821522</td>\n",
       "      <td>0.826025</td>\n",
       "      <td>0.821522</td>\n",
       "      <td>0.819480</td>\n",
       "      <td>0.813989</td>\n",
       "    </tr>\n",
       "    <tr>\n",
       "      <th>tf_hub_10_percent_data</th>\n",
       "      <td>0.780840</td>\n",
       "      <td>0.786125</td>\n",
       "      <td>0.780840</td>\n",
       "      <td>0.777528</td>\n",
       "      <td>0.771739</td>\n",
       "    </tr>\n",
       "  </tbody>\n",
       "</table>\n",
       "</div>"
      ],
      "text/plain": [
       "                         accuracy  precision    recall        f1       auc\n",
       "baseline                 0.792651   0.811139  0.792651  0.786219  0.779402\n",
       "simple_dense             0.791339   0.797601  0.791339  0.788036  0.782088\n",
       "lstm                     0.543307   0.295183  0.543307  0.382533  0.500000\n",
       "gru                      0.543307   0.295183  0.543307  0.382533  0.500000\n",
       "bidirectional            0.543307   0.295183  0.543307  0.382533  0.500000\n",
       "conv1d                   0.543307   0.295183  0.543307  0.382533  0.500000\n",
       "tf_hub_sentence_encoder  0.821522   0.826025  0.821522  0.819480  0.813989\n",
       "tf_hub_10_percent_data   0.780840   0.786125  0.780840  0.777528  0.771739"
      ]
     },
     "execution_count": 88,
     "metadata": {},
     "output_type": "execute_result"
    }
   ],
   "source": [
    "all_model_results = pd.DataFrame({\"baseline\": baseline_results,\n",
    "                                  \"simple_dense\": model1_results,\n",
    "                                  \"lstm\": model2_results,\n",
    "                                  \"gru\": model3_results,\n",
    "                                  \"bidirectional\": model4_results,\n",
    "                                  \"conv1d\": model5_results,\n",
    "                                  \"tf_hub_sentence_encoder\": model6_results,\n",
    "                                  \"tf_hub_10_percent_data\": model7_results})\n",
    "all_model_results = all_model_results.transpose()\n",
    "all_model_results"
   ]
  },
  {
   "cell_type": "code",
   "execution_count": 89,
   "metadata": {},
   "outputs": [
    {
     "data": {
      "text/plain": [
       "<Axes: >"
      ]
     },
     "execution_count": 89,
     "metadata": {},
     "output_type": "execute_result"
    },
    {
     "data": {
      "image/png": "[encoded data removed]",
      "text/plain": [
       "<Figure size 1200x800 with 1 Axes>"
      ]
     },
     "metadata": {},
     "output_type": "display_data"
    }
   ],
   "source": [
    "all_model_results.plot(kind='bar', figsize=(12,8))"
   ]
  },
  {
   "cell_type": "code",
   "execution_count": 90,
   "metadata": {},
   "outputs": [
    {
     "data": {
      "text/plain": [
       "<Axes: >"
      ]
     },
     "execution_count": 90,
     "metadata": {},
     "output_type": "execute_result"
    },
    {
     "data": {
      "image/png": "[encoded data removed]",
      "text/plain": [
       "<Figure size 640x480 with 1 Axes>"
      ]
     },
     "metadata": {},
     "output_type": "display_data"
    }
   ],
   "source": [
    "all_model_results.sort_values('f1', ascending=False)['f1'].plot(kind='bar')"
   ]
  },
  {
   "cell_type": "code",
   "execution_count": 91,
   "metadata": {},
   "outputs": [],
   "source": [
    "# 可以查看tensor board中的训练日志"
   ]
  },
  {
   "cell_type": "markdown",
   "metadata": {},
   "source": [
    "## Combining our models (model ensembling/stacking)  多模型联合，平均/堆叠\n",
    "\n",
    "Many production systems use an **ensemble** (multiple different models combined) of models to make a prediction.\n",
    "\n",
    "The idea behind model stacking is that if several uncorrelated models agree on a prediction, then the prediction must be more robust than a prediction made by a singular model.\n",
    "\n",
    "The keyword in the sentence above is **uncorrelated**, which is another way of saying, different types of models. For example, in our case, we might combine our baseline, our bidirectional model and our TensorFlow Hub USE model.\n",
    "\n",
    "Although these models are all trained on the same data, they all have a different way of finding patterns.\n",
    "\n",
    "If we were to use three similarly trained models, such as three LSTM models, the predictions they output will likely be very similar.\n",
    "\n",
    "Think of it as trying to decide where to eat with your friends. If you all have similar tastes, you'll probably all pick the same restaurant. But if you've all got different tastes and still end up picking the same restaurant, the restaurant must be good.\n",
    "\n",
    "选择不同的模型，联合方式：平均值，多数投票，堆叠\n",
    "\n",
    "Since we're working with a classification problem, there are a few of ways we can combine our models:\n",
    "1. **Averaging** - Take the output prediction probabilities of each model for each sample, combine them and then average them.\n",
    "2. **Majority vote (mode)** - Make class predictions with each of your models on all samples, the predicted class is the one in majority. For example, if three different models predict `[1, 0, 1]` respectively, the majority class is `1`, therefore, that would be the predicted label.\n",
    "3. **Model stacking** - Take the outputs of each of your chosen models and use them as inputs to another model.\n",
    "\n",
    "> 📖 **Resource:** The above methods for model stacking/ensembling were adapted from Chapter 6 of the [Machine Learning Engineering Book](http://www.mlebook.com/wiki/doku.php) by Andriy Burkov. If you're looking to enter the field of machine learning engineering, not only building models but production-scale machine learning systems, I'd highly recommend reading it in its entirety.\n",
    "\n",
    "Again, the concept of model stacking is best seen in action.\n",
    "\n",
    "We're going to combine our baseline model (`model_0`), LSTM model (`model_2`) and our USE model trained on the full training data (`model_6`) by averaging the combined prediction probabilities of each."
   ]
  },
  {
   "cell_type": "code",
   "execution_count": 93,
   "metadata": {},
   "outputs": [
    {
     "data": {
      "text/plain": [
       "<tf.Tensor: shape=(20,), dtype=float32, numpy=\n",
       "array([0., 0., 1., 0., 0., 1., 1., 1., 1., 0., 0., 0., 0., 0., 0., 0., 0.,\n",
       "       0., 0., 0.], dtype=float32)>"
      ]
     },
     "execution_count": 93,
     "metadata": {},
     "output_type": "execute_result"
    }
   ],
   "source": [
    "# 三个模型的均值\n",
    "baseline_pred_probs = np.max(model0.predict_proba(val_sentences), axis=1) # get the prediction probabilities from baseline model\n",
    "combined_pred_probs = baseline_pred_probs + tf.squeeze(model2_pred_probs, axis=1) + tf.squeeze(model6_pred_probs)\n",
    "combined_preds = tf.round(combined_pred_probs/3) # average and round the prediction probabilities to get prediction classes\n",
    "combined_preds[:20]"
   ]
  },
  {
   "cell_type": "code",
   "execution_count": 94,
   "metadata": {},
   "outputs": [
    {
     "data": {
      "text/plain": [
       "{'accuracy': 0.7611548556430446,\n",
       " 'precision': 0.8132090847515028,\n",
       " 'recall': 0.7611548556430446,\n",
       " 'f1': 0.7444674114407813,\n",
       " 'auc': 0.7407962685324004}"
      ]
     },
     "execution_count": 94,
     "metadata": {},
     "output_type": "execute_result"
    }
   ],
   "source": [
    "ensemble_results = calculate_results(val_labels,combined_preds)\n",
    "ensemble_results"
   ]
  },
  {
   "cell_type": "code",
   "execution_count": 95,
   "metadata": {},
   "outputs": [
    {
     "data": {
      "text/html": [
       "<div>\n",
       "<style scoped>\n",
       "    .dataframe tbody tr th:only-of-type {\n",
       "        vertical-align: middle;\n",
       "    }\n",
       "\n",
       "    .dataframe tbody tr th {\n",
       "        vertical-align: top;\n",
       "    }\n",
       "\n",
       "    .dataframe thead th {\n",
       "        text-align: right;\n",
       "    }\n",
       "</style>\n",
       "<table border=\"1\" class=\"dataframe\">\n",
       "  <thead>\n",
       "    <tr style=\"text-align: right;\">\n",
       "      <th></th>\n",
       "      <th>accuracy</th>\n",
       "      <th>precision</th>\n",
       "      <th>recall</th>\n",
       "      <th>f1</th>\n",
       "      <th>auc</th>\n",
       "    </tr>\n",
       "  </thead>\n",
       "  <tbody>\n",
       "    <tr>\n",
       "      <th>baseline</th>\n",
       "      <td>0.792651</td>\n",
       "      <td>0.811139</td>\n",
       "      <td>0.792651</td>\n",
       "      <td>0.786219</td>\n",
       "      <td>0.779402</td>\n",
       "    </tr>\n",
       "    <tr>\n",
       "      <th>simple_dense</th>\n",
       "      <td>0.791339</td>\n",
       "      <td>0.797601</td>\n",
       "      <td>0.791339</td>\n",
       "      <td>0.788036</td>\n",
       "      <td>0.782088</td>\n",
       "    </tr>\n",
       "    <tr>\n",
       "      <th>lstm</th>\n",
       "      <td>0.543307</td>\n",
       "      <td>0.295183</td>\n",
       "      <td>0.543307</td>\n",
       "      <td>0.382533</td>\n",
       "      <td>0.500000</td>\n",
       "    </tr>\n",
       "    <tr>\n",
       "      <th>gru</th>\n",
       "      <td>0.543307</td>\n",
       "      <td>0.295183</td>\n",
       "      <td>0.543307</td>\n",
       "      <td>0.382533</td>\n",
       "      <td>0.500000</td>\n",
       "    </tr>\n",
       "    <tr>\n",
       "      <th>bidirectional</th>\n",
       "      <td>0.543307</td>\n",
       "      <td>0.295183</td>\n",
       "      <td>0.543307</td>\n",
       "      <td>0.382533</td>\n",
       "      <td>0.500000</td>\n",
       "    </tr>\n",
       "    <tr>\n",
       "      <th>conv1d</th>\n",
       "      <td>0.543307</td>\n",
       "      <td>0.295183</td>\n",
       "      <td>0.543307</td>\n",
       "      <td>0.382533</td>\n",
       "      <td>0.500000</td>\n",
       "    </tr>\n",
       "    <tr>\n",
       "      <th>tf_hub_sentence_encoder</th>\n",
       "      <td>0.821522</td>\n",
       "      <td>0.826025</td>\n",
       "      <td>0.821522</td>\n",
       "      <td>0.819480</td>\n",
       "      <td>0.813989</td>\n",
       "    </tr>\n",
       "    <tr>\n",
       "      <th>tf_hub_10_percent_data</th>\n",
       "      <td>0.780840</td>\n",
       "      <td>0.786125</td>\n",
       "      <td>0.780840</td>\n",
       "      <td>0.777528</td>\n",
       "      <td>0.771739</td>\n",
       "    </tr>\n",
       "    <tr>\n",
       "      <th>ensemble_results</th>\n",
       "      <td>0.761155</td>\n",
       "      <td>0.813209</td>\n",
       "      <td>0.761155</td>\n",
       "      <td>0.744467</td>\n",
       "      <td>0.740796</td>\n",
       "    </tr>\n",
       "  </tbody>\n",
       "</table>\n",
       "</div>"
      ],
      "text/plain": [
       "                         accuracy  precision    recall        f1       auc\n",
       "baseline                 0.792651   0.811139  0.792651  0.786219  0.779402\n",
       "simple_dense             0.791339   0.797601  0.791339  0.788036  0.782088\n",
       "lstm                     0.543307   0.295183  0.543307  0.382533  0.500000\n",
       "gru                      0.543307   0.295183  0.543307  0.382533  0.500000\n",
       "bidirectional            0.543307   0.295183  0.543307  0.382533  0.500000\n",
       "conv1d                   0.543307   0.295183  0.543307  0.382533  0.500000\n",
       "tf_hub_sentence_encoder  0.821522   0.826025  0.821522  0.819480  0.813989\n",
       "tf_hub_10_percent_data   0.780840   0.786125  0.780840  0.777528  0.771739\n",
       "ensemble_results         0.761155   0.813209  0.761155  0.744467  0.740796"
      ]
     },
     "execution_count": 95,
     "metadata": {},
     "output_type": "execute_result"
    }
   ],
   "source": [
    "all_model_results.loc[\"ensemble_results\"] = ensemble_results\n",
    "all_model_results"
   ]
  },
  {
   "cell_type": "markdown",
   "metadata": {},
   "source": [
    "How did the stacked model go against the other models?\n",
    "\n",
    "> 🔑 **Note:** It seems many of our model's results are similar. This may mean there are some limitations to what can be learned from our data. When many of your modelling experiments return similar results, it's a good idea to revisit your data, we'll do this shortly."
   ]
  },
  {
   "cell_type": "markdown",
   "metadata": {},
   "source": [
    "## Saving and loading a trained model\n",
    "\n",
    "Although training time didn't take very long, it's good practice to save your trained models to avoid having to retrain them.\n",
    "\n",
    "Saving your models also enables you to export them for use elsewhere outside of your notebooks, such as in a web application.\n",
    "\n",
    "There are two main ways of [saving a model in TensorFlow](https://www.tensorflow.org/tutorials/keras/save_and_load#save_the_entire_model):\n",
    "1. The `HDF5` format. \n",
    "2. The `SavedModel` format (default).\n",
    "\n",
    "Let's take a look at both."
   ]
  },
  {
   "cell_type": "code",
   "execution_count": 96,
   "metadata": {},
   "outputs": [],
   "source": [
    "model6.save('model6.h5')"
   ]
  },
  {
   "cell_type": "markdown",
   "metadata": {},
   "source": [
    "If you save a model as a `HDF5`, when loading it back in, you need to let [TensorFlow know about any custom objects you've used](https://www.tensorflow.org/tutorials/keras/save_and_load#saving_custom_objects) (e.g. components which aren't built from pure TensorFlow, such as TensorFlow Hub components).\n",
    "\n",
    "h5的格式，加载的时候，需要让tensorflow知道，使用了哪些自定义对象（比如，不是纯tensorflow的组件，如tensorflow hub的组件）"
   ]
  },
  {
   "cell_type": "code",
   "execution_count": 98,
   "metadata": {},
   "outputs": [
    {
     "name": "stdout",
     "output_type": "stream",
     "text": [
      "Model: \"model_6_USE\"\n",
      "_________________________________________________________________\n",
      " Layer (type)                Output Shape              Param #   \n",
      "=================================================================\n",
      " USE (KerasLayer)            (None, 512)               256797824 \n",
      "                                                                 \n",
      " dense_5 (Dense)             (None, 64)                32832     \n",
      "                                                                 \n",
      " dense_6 (Dense)             (None, 1)                 65        \n",
      "                                                                 \n",
      "=================================================================\n",
      "Total params: 256,830,721\n",
      "Trainable params: 32,897\n",
      "Non-trainable params: 256,797,824\n",
      "_________________________________________________________________\n"
     ]
    }
   ],
   "source": [
    "load_model6 = tf.keras.models.load_model('model6.h5',custom_objects={'KerasLayer':hub.KerasLayer})\n",
    "load_model6.summary()"
   ]
  },
  {
   "cell_type": "code",
   "execution_count": 99,
   "metadata": {},
   "outputs": [
    {
     "name": "stdout",
     "output_type": "stream",
     "text": [
      "24/24 [==============================] - 0s 4ms/step - loss: 0.4289 - accuracy: 0.8215\n"
     ]
    },
    {
     "data": {
      "text/plain": [
       "[0.4289405941963196, 0.8215222954750061]"
      ]
     },
     "execution_count": 99,
     "metadata": {},
     "output_type": "execute_result"
    }
   ],
   "source": [
    "load_model6.evaluate(val_sentences,val_labels)"
   ]
  },
  {
   "cell_type": "code",
   "execution_count": 100,
   "metadata": {},
   "outputs": [
    {
     "name": "stderr",
     "output_type": "stream",
     "text": [
      "WARNING:absl:Function `_wrapped_model` contains input name(s) USE_input with unsupported characters which will be renamed to use_input in the SavedModel.\n"
     ]
    },
    {
     "name": "stdout",
     "output_type": "stream",
     "text": [
      "INFO:tensorflow:Assets written to: model6_SavedModel_format/assets\n"
     ]
    },
    {
     "name": "stderr",
     "output_type": "stream",
     "text": [
      "INFO:tensorflow:Assets written to: model6_SavedModel_format/assets\n"
     ]
    }
   ],
   "source": [
    "model6.save('model6_SavedModel_format')"
   ]
  },
  {
   "cell_type": "markdown",
   "metadata": {},
   "source": [
    "If you use SavedModel format (default), you can reload your model without specifying custom objects using the [`tensorflow.keras.models.load_model()`](https://www.tensorflow.org/tutorials/keras/save_and_load) function."
   ]
  },
  {
   "cell_type": "code",
   "execution_count": 101,
   "metadata": {},
   "outputs": [
    {
     "data": {
      "text/plain": [
       "<keras.engine.sequential.Sequential at 0x7fd771ee0640>"
      ]
     },
     "execution_count": 101,
     "metadata": {},
     "output_type": "execute_result"
    }
   ],
   "source": [
    "# savedmodel format 格式，可以直接加载使用\n",
    "load_model6_SavedModel = tf.keras.models.load_model(\"model6_SavedModel_format\")\n",
    "load_model6_SavedModel"
   ]
  },
  {
   "cell_type": "code",
   "execution_count": 102,
   "metadata": {},
   "outputs": [
    {
     "name": "stdout",
     "output_type": "stream",
     "text": [
      "24/24 [==============================] - 0s 4ms/step - loss: 0.4289 - accuracy: 0.8215\n"
     ]
    },
    {
     "data": {
      "text/plain": [
       "[0.4289405941963196, 0.8215222954750061]"
      ]
     },
     "execution_count": 102,
     "metadata": {},
     "output_type": "execute_result"
    }
   ],
   "source": [
    "load_model6_SavedModel.evaluate(val_sentences,val_labels)"
   ]
  },
  {
   "cell_type": "markdown",
   "metadata": {},
   "source": [
    "As you can see saving and loading our model with either format results in the same performance.\n",
    "\n",
    "> 🤔 **Question:** Should you used the `SavedModel` format or `HDF5` format?\n",
    "\n",
    "For most use cases, the `SavedModel` format will suffice. However, this is a TensorFlow specific standard. If you need a more general-purpose data standard, `HDF5` might be better. For more, check out the [TensorFlow documentation on saving and loading models](https://www.tensorflow.org/tutorials/keras/save_and_load)."
   ]
  },
  {
   "cell_type": "markdown",
   "metadata": {},
   "source": [
    "## Finding the most wrong examples  错的最离谱的样本\n",
    "\n",
    "We mentioned before that if many of our modelling experiments are returning similar results, despite using different kinds of models, it's a good idea to return to the data and inspect why this might be.\n",
    "\n",
    "One of the best ways to inspect your data is to sort your model's predictions and find the samples it got *most* wrong, meaning, what predictions had a high prediction probability but turned out to be wrong.\n",
    "\n",
    "Once again, visualization is your friend. Visualize, visualize, visualize.\n",
    "\n",
    "To make things visual, let's take our best performing model's prediction probabilities and classes along with the validation samples (text and ground truth labels) and combine them in a pandas DataFrame.\n",
    "\n",
    "* If our best model still isn't perfect, what examples is it getting wrong? \n",
    "* Which ones are the *most* wrong?\n",
    "* Are there some labels which are wrong? E.g. the model gets it right but the ground truth label doesn't reflect this"
   ]
  },
  {
   "cell_type": "code",
   "execution_count": 105,
   "metadata": {},
   "outputs": [
    {
     "data": {
      "text/html": [
       "<div>\n",
       "<style scoped>\n",
       "    .dataframe tbody tr th:only-of-type {\n",
       "        vertical-align: middle;\n",
       "    }\n",
       "\n",
       "    .dataframe tbody tr th {\n",
       "        vertical-align: top;\n",
       "    }\n",
       "\n",
       "    .dataframe thead th {\n",
       "        text-align: right;\n",
       "    }\n",
       "</style>\n",
       "<table border=\"1\" class=\"dataframe\">\n",
       "  <thead>\n",
       "    <tr style=\"text-align: right;\">\n",
       "      <th></th>\n",
       "      <th>text</th>\n",
       "      <th>target</th>\n",
       "      <th>pred</th>\n",
       "      <th>pred_prob</th>\n",
       "    </tr>\n",
       "  </thead>\n",
       "  <tbody>\n",
       "    <tr>\n",
       "      <th>0</th>\n",
       "      <td>DFR EP016 Monthly Meltdown - On Dnbheaven 2015...</td>\n",
       "      <td>0</td>\n",
       "      <td>0.0</td>\n",
       "      <td>0.132109</td>\n",
       "    </tr>\n",
       "    <tr>\n",
       "      <th>1</th>\n",
       "      <td>FedEx no longer to transport bioterror germs i...</td>\n",
       "      <td>0</td>\n",
       "      <td>1.0</td>\n",
       "      <td>0.749391</td>\n",
       "    </tr>\n",
       "    <tr>\n",
       "      <th>2</th>\n",
       "      <td>Gunmen kill four in El Salvador bus attack: Su...</td>\n",
       "      <td>1</td>\n",
       "      <td>1.0</td>\n",
       "      <td>0.995240</td>\n",
       "    </tr>\n",
       "    <tr>\n",
       "      <th>3</th>\n",
       "      <td>@camilacabello97 Internally and externally scr...</td>\n",
       "      <td>1</td>\n",
       "      <td>0.0</td>\n",
       "      <td>0.228840</td>\n",
       "    </tr>\n",
       "    <tr>\n",
       "      <th>4</th>\n",
       "      <td>Radiation emergency #preparedness starts with ...</td>\n",
       "      <td>1</td>\n",
       "      <td>1.0</td>\n",
       "      <td>0.654380</td>\n",
       "    </tr>\n",
       "  </tbody>\n",
       "</table>\n",
       "</div>"
      ],
      "text/plain": [
       "                                                text  target  pred  pred_prob\n",
       "0  DFR EP016 Monthly Meltdown - On Dnbheaven 2015...       0   0.0   0.132109\n",
       "1  FedEx no longer to transport bioterror germs i...       0   1.0   0.749391\n",
       "2  Gunmen kill four in El Salvador bus attack: Su...       1   1.0   0.995240\n",
       "3  @camilacabello97 Internally and externally scr...       1   0.0   0.228840\n",
       "4  Radiation emergency #preparedness starts with ...       1   1.0   0.654380"
      ]
     },
     "execution_count": 105,
     "metadata": {},
     "output_type": "execute_result"
    }
   ],
   "source": [
    "val_df = pd.DataFrame({\"text\":val_sentences,\n",
    "                       \"target\":val_labels,\n",
    "                       \"pred\":model6_preds,\n",
    "                       \"pred_prob\":tf.squeeze(model6_pred_probs)\n",
    "                       })\n",
    "val_df.head()"
   ]
  },
  {
   "cell_type": "code",
   "execution_count": 106,
   "metadata": {},
   "outputs": [
    {
     "data": {
      "text/html": [
       "<div>\n",
       "<style scoped>\n",
       "    .dataframe tbody tr th:only-of-type {\n",
       "        vertical-align: middle;\n",
       "    }\n",
       "\n",
       "    .dataframe tbody tr th {\n",
       "        vertical-align: top;\n",
       "    }\n",
       "\n",
       "    .dataframe thead th {\n",
       "        text-align: right;\n",
       "    }\n",
       "</style>\n",
       "<table border=\"1\" class=\"dataframe\">\n",
       "  <thead>\n",
       "    <tr style=\"text-align: right;\">\n",
       "      <th></th>\n",
       "      <th>text</th>\n",
       "      <th>target</th>\n",
       "      <th>pred</th>\n",
       "      <th>pred_prob</th>\n",
       "    </tr>\n",
       "  </thead>\n",
       "  <tbody>\n",
       "    <tr>\n",
       "      <th>31</th>\n",
       "      <td>? High Skies - Burning Buildings ? http://t.co...</td>\n",
       "      <td>0</td>\n",
       "      <td>1.0</td>\n",
       "      <td>0.904628</td>\n",
       "    </tr>\n",
       "    <tr>\n",
       "      <th>628</th>\n",
       "      <td>@noah_anyname That's where the concentration c...</td>\n",
       "      <td>0</td>\n",
       "      <td>1.0</td>\n",
       "      <td>0.896122</td>\n",
       "    </tr>\n",
       "    <tr>\n",
       "      <th>381</th>\n",
       "      <td>Deaths 3 http://t.co/nApviyGKYK</td>\n",
       "      <td>0</td>\n",
       "      <td>1.0</td>\n",
       "      <td>0.873395</td>\n",
       "    </tr>\n",
       "    <tr>\n",
       "      <th>759</th>\n",
       "      <td>FedEx will no longer transport bioterror patho...</td>\n",
       "      <td>0</td>\n",
       "      <td>1.0</td>\n",
       "      <td>0.867095</td>\n",
       "    </tr>\n",
       "    <tr>\n",
       "      <th>109</th>\n",
       "      <td>[55436] 1950 LIONEL TRAINS SMOKE LOCOMOTIVES W...</td>\n",
       "      <td>0</td>\n",
       "      <td>1.0</td>\n",
       "      <td>0.865158</td>\n",
       "    </tr>\n",
       "    <tr>\n",
       "      <th>251</th>\n",
       "      <td>@AshGhebranious civil rights continued in the ...</td>\n",
       "      <td>0</td>\n",
       "      <td>1.0</td>\n",
       "      <td>0.842524</td>\n",
       "    </tr>\n",
       "    <tr>\n",
       "      <th>49</th>\n",
       "      <td>@madonnamking RSPCA site multiple 7 story high...</td>\n",
       "      <td>0</td>\n",
       "      <td>1.0</td>\n",
       "      <td>0.832282</td>\n",
       "    </tr>\n",
       "    <tr>\n",
       "      <th>474</th>\n",
       "      <td>My phone looks like it was in a car ship airpl...</td>\n",
       "      <td>0</td>\n",
       "      <td>1.0</td>\n",
       "      <td>0.814265</td>\n",
       "    </tr>\n",
       "    <tr>\n",
       "      <th>209</th>\n",
       "      <td>Ashes 2015: AustraliaÛªs collapse at Trent Br...</td>\n",
       "      <td>0</td>\n",
       "      <td>1.0</td>\n",
       "      <td>0.809073</td>\n",
       "    </tr>\n",
       "    <tr>\n",
       "      <th>698</th>\n",
       "      <td>åÈMGN-AFRICAå¨ pin:263789F4 åÈ Correction: Ten...</td>\n",
       "      <td>0</td>\n",
       "      <td>1.0</td>\n",
       "      <td>0.768614</td>\n",
       "    </tr>\n",
       "  </tbody>\n",
       "</table>\n",
       "</div>"
      ],
      "text/plain": [
       "                                                  text  target  pred  \\\n",
       "31   ? High Skies - Burning Buildings ? http://t.co...       0   1.0   \n",
       "628  @noah_anyname That's where the concentration c...       0   1.0   \n",
       "381                    Deaths 3 http://t.co/nApviyGKYK       0   1.0   \n",
       "759  FedEx will no longer transport bioterror patho...       0   1.0   \n",
       "109  [55436] 1950 LIONEL TRAINS SMOKE LOCOMOTIVES W...       0   1.0   \n",
       "251  @AshGhebranious civil rights continued in the ...       0   1.0   \n",
       "49   @madonnamking RSPCA site multiple 7 story high...       0   1.0   \n",
       "474  My phone looks like it was in a car ship airpl...       0   1.0   \n",
       "209  Ashes 2015: AustraliaÛªs collapse at Trent Br...       0   1.0   \n",
       "698  åÈMGN-AFRICAå¨ pin:263789F4 åÈ Correction: Ten...       0   1.0   \n",
       "\n",
       "     pred_prob  \n",
       "31    0.904628  \n",
       "628   0.896122  \n",
       "381   0.873395  \n",
       "759   0.867095  \n",
       "109   0.865158  \n",
       "251   0.842524  \n",
       "49    0.832282  \n",
       "474   0.814265  \n",
       "209   0.809073  \n",
       "698   0.768614  "
      ]
     },
     "execution_count": 106,
     "metadata": {},
     "output_type": "execute_result"
    }
   ],
   "source": [
    "most_wrong = val_df[val_df[\"target\"] != val_df[\"pred\"]].sort_values(\"pred_prob\", ascending=False)\n",
    "most_wrong[:10]"
   ]
  },
  {
   "cell_type": "code",
   "execution_count": 107,
   "metadata": {},
   "outputs": [
    {
     "name": "stdout",
     "output_type": "stream",
     "text": [
      "Target: 0, Pred: 1, Prob: 0.9046280384063721\n",
      "Text:\n",
      "? High Skies - Burning Buildings ? http://t.co/uVq41i3Kx2 #nowplaying\n",
      "\n",
      "----\n",
      "\n",
      "Target: 0, Pred: 1, Prob: 0.8961215019226074\n",
      "Text:\n",
      "@noah_anyname That's where the concentration camps and mass murder come in. \n",
      " \n",
      "EVERY. FUCKING. TIME.\n",
      "\n",
      "----\n",
      "\n",
      "Target: 0, Pred: 1, Prob: 0.8733946681022644\n",
      "Text:\n",
      "Deaths 3 http://t.co/nApviyGKYK\n",
      "\n",
      "----\n",
      "\n",
      "Target: 0, Pred: 1, Prob: 0.867094874382019\n",
      "Text:\n",
      "FedEx will no longer transport bioterror pathogens in wake of anthrax lab mishaps http://t.co/lHpgxc4b8J\n",
      "\n",
      "----\n",
      "\n",
      "Target: 0, Pred: 1, Prob: 0.8651583194732666\n",
      "Text:\n",
      "[55436] 1950 LIONEL TRAINS SMOKE LOCOMOTIVES WITH MAGNE-TRACTION INSTRUCTIONS http://t.co/xEZBs3sq0y http://t.co/C2x0QoKGlY\n",
      "\n",
      "----\n",
      "\n",
      "Target: 0, Pred: 1, Prob: 0.8425237536430359\n",
      "Text:\n",
      "@AshGhebranious civil rights continued in the 60s. And what about trans-generational trauma? if anything we should listen to the Americans.\n",
      "\n",
      "----\n",
      "\n",
      "Target: 0, Pred: 1, Prob: 0.8322820067405701\n",
      "Text:\n",
      "@madonnamking RSPCA site multiple 7 story high rise buildings next to low density character residential in an area that floods\n",
      "\n",
      "----\n",
      "\n",
      "Target: 0, Pred: 1, Prob: 0.8142651319503784\n",
      "Text:\n",
      "My phone looks like it was in a car ship airplane accident. Terrible\n",
      "\n",
      "----\n",
      "\n",
      "Target: 0, Pred: 1, Prob: 0.8090731501579285\n",
      "Text:\n",
      "Ashes 2015: AustraliaÛªs collapse at Trent Bridge among worst in history: England bundled out Australia for 60 ... http://t.co/t5TrhjUAU0\n",
      "\n",
      "----\n",
      "\n",
      "Target: 0, Pred: 1, Prob: 0.7686136364936829\n",
      "Text:\n",
      "åÈMGN-AFRICAå¨ pin:263789F4 åÈ Correction: Tent Collapse Story: Correction: Tent Collapse story åÈ http://t.co/fDJUYvZMrv @wizkidayo\n",
      "\n",
      "----\n",
      "\n"
     ]
    }
   ],
   "source": [
    "for row in most_wrong[:10].itertuples(): # loop through the top 10 rows (change the index to view different rows)\n",
    "  _, text, target, pred, prob = row\n",
    "  print(f\"Target: {target}, Pred: {int(pred)}, Prob: {prob}\")\n",
    "  print(f\"Text:\\n{text}\\n\")\n",
    "  print(\"----\\n\")"
   ]
  },
  {
   "cell_type": "code",
   "execution_count": 108,
   "metadata": {},
   "outputs": [
    {
     "name": "stdout",
     "output_type": "stream",
     "text": [
      "Target: 1, Pred: 0, Prob: 0.05307368189096451\n",
      "Text:\n",
      "VICTORINOX SWISS ARMY DATE WOMEN'S RUBBER MOP WATCH 241487 http://t.co/yFy3nkkcoH http://t.co/KNEhVvOHVK\n",
      "\n",
      "----\n",
      "\n",
      "Target: 1, Pred: 0, Prob: 0.04697379842400551\n",
      "Text:\n",
      "Reddit Will Now QuarantineÛ_ http://t.co/pkUAMXw6pm #onlinecommunities #reddit #amageddon #freespeech #Business http://t.co/PAWvNJ4sAP\n",
      "\n",
      "----\n",
      "\n",
      "Target: 1, Pred: 0, Prob: 0.04614143446087837\n",
      "Text:\n",
      "@SoonerMagic_ I mean I'm a fan but I don't need a girl sounding off like a damn siren\n",
      "\n",
      "----\n",
      "\n",
      "Target: 1, Pred: 0, Prob: 0.04559875652194023\n",
      "Text:\n",
      "New post from @darkreading http://t.co/8eIJDXApnp New SMB Relay Attack Steals User Credentials Over Internet\n",
      "\n",
      "----\n",
      "\n",
      "Target: 1, Pred: 0, Prob: 0.04295254126191139\n",
      "Text:\n",
      "@DavidVonderhaar At least you were sincere ??\n",
      "\n",
      "----\n",
      "\n",
      "Target: 1, Pred: 0, Prob: 0.0395207479596138\n",
      "Text:\n",
      "You can never escape me. Bullets don't harm me. Nothing harms me. But I know pain. I know pain. Sometimes I share it. With someone like you.\n",
      "\n",
      "----\n",
      "\n",
      "Target: 1, Pred: 0, Prob: 0.03900395706295967\n",
      "Text:\n",
      "going to redo my nails and watch behind the scenes of desolation of smaug ayyy\n",
      "\n",
      "----\n",
      "\n",
      "Target: 1, Pred: 0, Prob: 0.03155232593417168\n",
      "Text:\n",
      "I get to smoke my shit in peace\n",
      "\n",
      "----\n",
      "\n",
      "Target: 1, Pred: 0, Prob: 0.028146617114543915\n",
      "Text:\n",
      "Ron &amp; Fez - Dave's High School Crush https://t.co/aN3W16c8F6 via @YouTube\n",
      "\n",
      "----\n",
      "\n",
      "Target: 1, Pred: 0, Prob: 0.020339958369731903\n",
      "Text:\n",
      "Why are you deluged with low self-image? Take the quiz: http://t.co/XsPqdOrIqj http://t.co/CQYvFR4UCy\n",
      "\n",
      "----\n",
      "\n"
     ]
    }
   ],
   "source": [
    "# Check the most wrong false negatives (model predicted 0 when should've predict 1)\n",
    "# 预测为0的，但实际为1，错的最离谱的样本\n",
    "for row in most_wrong[-10:].itertuples():\n",
    "  _, text, target, pred, prob = row\n",
    "  print(f\"Target: {target}, Pred: {int(pred)}, Prob: {prob}\")\n",
    "  print(f\"Text:\\n{text}\\n\")\n",
    "  print(\"----\\n\")"
   ]
  },
  {
   "cell_type": "markdown",
   "metadata": {},
   "source": [
    "## Making predictions on the test dataset  测试集预测效果\n",
    "\n",
    "Alright we've seen how our model's perform on the validation set.\n",
    "\n",
    "But how about the test dataset?\n",
    "\n",
    "We don't have labels for the test dataset so we're going to have to make some predictions and inspect them for ourselves.\n",
    "\n",
    "Let's write some code to make predictions on random samples from the test dataset and visualize them."
   ]
  },
  {
   "cell_type": "code",
   "execution_count": 110,
   "metadata": {},
   "outputs": [
    {
     "name": "stdout",
     "output_type": "stream",
     "text": [
      "1/1 [==============================] - 0s 33ms/step\n",
      "Pred: 0, Prob: 0.32714521884918213\n",
      "Text:\n",
      "@lordjewcup @helloimivan wounded warrior\n",
      "\n",
      "----\n",
      "\n",
      "1/1 [==============================] - 0s 31ms/step\n",
      "Pred: 1, Prob: 0.9390918016433716\n",
      "Text:\n",
      "Striking views of Super Typhoon Soudelor as it tracks toward Taiwan China http://t.co/hsjp6Hoffe\n",
      "\n",
      "----\n",
      "\n",
      "1/1 [==============================] - 0s 30ms/step\n",
      "Pred: 1, Prob: 0.9940610527992249\n",
      "Text:\n",
      "BBC News - MH370: Reunion debris is from missing Malaysia flight http://t.co/bze47fzKUd\n",
      "\n",
      "----\n",
      "\n",
      "1/1 [==============================] - 0s 29ms/step\n",
      "Pred: 0, Prob: 0.08041217923164368\n",
      "Text:\n",
      "@FollowerOfDole 'Give me your lunch money ner-' *flattened by falling quarter*\n",
      "\n",
      "----\n",
      "\n",
      "1/1 [==============================] - 0s 29ms/step\n",
      "Pred: 0, Prob: 0.02462243102490902\n",
      "Text:\n",
      "Body bagging that I think it's time to bring bags out\n",
      "\n",
      "----\n",
      "\n",
      "1/1 [==============================] - 0s 29ms/step\n",
      "Pred: 1, Prob: 0.7288753986358643\n",
      "Text:\n",
      "@MalikChaimaa I hope Zayn gets blown up in a drone attack whilst visiting family in Pakistan ??\n",
      "\n",
      "----\n",
      "\n",
      "1/1 [==============================] - 0s 31ms/step\n",
      "Pred: 0, Prob: 0.10979513078927994\n",
      "Text:\n",
      "Too bloody hot in my room\n",
      "\n",
      "----\n",
      "\n",
      "1/1 [==============================] - 0s 31ms/step\n",
      "Pred: 0, Prob: 0.10128657519817352\n",
      "Text:\n",
      "I liked a @YouTube video from @prosyndicate http://t.co/mLvBg6sEka Minecraft: Hunting OpTic - Emergency Exit Plan! (Episode 13)\n",
      "\n",
      "----\n",
      "\n",
      "1/1 [==============================] - 0s 32ms/step\n",
      "Pred: 0, Prob: 0.08577031642198563\n",
      "Text:\n",
      "@Chelsea_Rosette ah bless ya. Not too bad. My life's been a bit of a whirlwind the last two weeks! Got a cold too that won't shift ?? #sexy\n",
      "\n",
      "----\n",
      "\n",
      "1/1 [==============================] - 0s 33ms/step\n",
      "Pred: 0, Prob: 0.4130004644393921\n",
      "Text:\n",
      "Society will collapse by 2040 due to catastrophic food shortages says study http://t.co/2wWZBW5lId\n",
      "\n",
      "----\n",
      "\n"
     ]
    }
   ],
   "source": [
    "test_sentences = test_df[\"text\"].tolist()\n",
    "test_random = random.sample(test_sentences, 10)\n",
    "for sentence in test_random:\n",
    "    pred_prob = tf.squeeze(model6.predict([sentence]))\n",
    "    pred = tf.round(pred_prob)\n",
    "    print(f\"Pred: {int(pred)}, Prob: {pred_prob}\")\n",
    "    print(f\"Text:\\n{sentence}\\n\")\n",
    "    print(\"----\\n\")\n"
   ]
  },
  {
   "cell_type": "markdown",
   "metadata": {},
   "source": [
    "## Predicting on Tweets from the wild 预测原生的tweet\n",
    "\n",
    "How about we find some Tweets and use our model to predict whether or not they're about a diaster or not?\n",
    "\n",
    "To start, let's take one of my own [Tweets on living life like an ensemble model](https://twitter.com/mrdbourke/status/1313649328351662082). "
   ]
  },
  {
   "cell_type": "code",
   "execution_count": 111,
   "metadata": {},
   "outputs": [],
   "source": [
    "daniels_tweet = \"Life like an ensemble: take the best choices from others and make your own\""
   ]
  },
  {
   "cell_type": "code",
   "execution_count": 112,
   "metadata": {},
   "outputs": [],
   "source": [
    "def predict_on_sentence(model, sentence):\n",
    "  \"\"\"\n",
    "  Uses model to make a prediction on sentence.\n",
    "\n",
    "  Returns the sentence, the predicted label and the prediction probability.\n",
    "  \"\"\"\n",
    "  pred_prob = model.predict([sentence])\n",
    "  pred_label = tf.squeeze(tf.round(pred_prob)).numpy()\n",
    "  print(f\"Pred: {pred_label}\", \"(real disaster)\" if pred_label > 0 else \"(not real disaster)\", f\"Prob: {pred_prob[0][0]}\")\n",
    "  print(f\"Text:\\n{sentence}\")"
   ]
  },
  {
   "cell_type": "code",
   "execution_count": 113,
   "metadata": {},
   "outputs": [
    {
     "name": "stdout",
     "output_type": "stream",
     "text": [
      "1/1 [==============================] - 0s 33ms/step\n",
      "Pred: 0.0 (not real disaster) Prob: 0.055655840784311295\n",
      "Text:\n",
      "Life like an ensemble: take the best choices from others and make your own\n"
     ]
    }
   ],
   "source": [
    "predict_on_sentence(model=model6, sentence=daniels_tweet)"
   ]
  },
  {
   "cell_type": "code",
   "execution_count": 114,
   "metadata": {},
   "outputs": [],
   "source": [
    "# Source - https://twitter.com/BeirutCityGuide/status/1290696551376007168\n",
    "beirut_tweet_1 = \"Reports that the smoke in Beirut sky contains nitric acid, which is toxic. Please share and refrain from stepping outside unless urgent. #Lebanon\"\n",
    "\n",
    "# Source - https://twitter.com/BeirutCityGuide/status/1290773498743476224\n",
    "beirut_tweet_2 = \"#Beirut declared a “devastated city”, two-week state of emergency officially declared. #Lebanon\""
   ]
  },
  {
   "cell_type": "code",
   "execution_count": 115,
   "metadata": {},
   "outputs": [
    {
     "name": "stdout",
     "output_type": "stream",
     "text": [
      "1/1 [==============================] - 0s 31ms/step\n",
      "Pred: 1.0 (real disaster) Prob: 0.9816731214523315\n",
      "Text:\n",
      "Reports that the smoke in Beirut sky contains nitric acid, which is toxic. Please share and refrain from stepping outside unless urgent. #Lebanon\n",
      "1/1 [==============================] - 0s 29ms/step\n",
      "Pred: 1.0 (real disaster) Prob: 0.9849336743354797\n",
      "Text:\n",
      "#Beirut declared a “devastated city”, two-week state of emergency officially declared. #Lebanon\n"
     ]
    }
   ],
   "source": [
    "predict_on_sentence(model=model6, sentence=beirut_tweet_1)\n",
    "predict_on_sentence(model=model6, sentence=beirut_tweet_2)"
   ]
  },
  {
   "cell_type": "markdown",
   "metadata": {},
   "source": [
    "## The speed/score tradeoff  速度和分数的权衡\n",
    "\n",
    "One of the final tests we're going to do is to find the speed/score tradeoffs between our best model and baseline model.\n",
    "\n",
    "Why is this important?\n",
    "\n",
    "Although it can be tempting to just choose the best performing model you find through experimentation, this model might not actually work in a production setting.\n",
    "\n",
    "Put it this way, imagine you're Twitter and receive 1 million Tweets per hour (this is a made up number, the actual number is much higher). And you're trying to build a diaster detection system to read Tweets and alert authorities with details about a diaster in close to real-time.\n",
    "\n",
    "Compute power isn't free so you're limited to a single compute machine for the project. On that machine, one of your models makes 10,000 predictions per second at 80% accuracy where as another one of your models (a larger model) makes 100 predictions per second at 85% accuracy.\n",
    "\n",
    "Which model do you choose?\n",
    "\n",
    "Is the second model's performance boost worth missing out on the extra capacity?\n",
    "\n",
    "Of course, there are many options you could try here, such as sending as many Tweets as possible to the first model and then sending the ones which the model is least certain of to the second model. \n",
    "\n",
    "The point here is to illustrate the best model you find through experimentation, might not be the model you end up using in production.\n",
    "\n",
    "To make this more concrete, let's write a function to take a model and a number of samples and time how long the given model takes to make predictions on those samples."
   ]
  },
  {
   "cell_type": "code",
   "execution_count": 116,
   "metadata": {},
   "outputs": [],
   "source": [
    "import time\n",
    "def pred_timer(model, samples):\n",
    "  \"\"\"\n",
    "  Times how long a model takes to make predictions on samples.\n",
    "  \n",
    "  Args:\n",
    "  ----\n",
    "  model = a trained model\n",
    "  sample = a list of samples\n",
    "\n",
    "  Returns:\n",
    "  ----\n",
    "  total_time = total elapsed time for model to make predictions on samples\n",
    "  time_per_pred = time in seconds per single sample\n",
    "  \"\"\"\n",
    "  start_time = time.perf_counter() # get start time\n",
    "  model.predict(samples) # make predictions\n",
    "  end_time = time.perf_counter() # get finish time\n",
    "  total_time = end_time-start_time # calculate how long predictions took to make\n",
    "  time_per_pred = total_time/len(val_sentences) # find prediction time per sample\n",
    "  return total_time, time_per_pred"
   ]
  },
  {
   "cell_type": "code",
   "execution_count": 117,
   "metadata": {},
   "outputs": [
    {
     "name": "stdout",
     "output_type": "stream",
     "text": [
      "24/24 [==============================] - 0s 3ms/step\n"
     ]
    },
    {
     "data": {
      "text/plain": [
       "(0.12266498431563377, 0.00016097766970555612)"
      ]
     },
     "execution_count": 117,
     "metadata": {},
     "output_type": "execute_result"
    }
   ],
   "source": [
    "model6_total_pred_time, model6_time_per_pred = pred_timer(model6, val_sentences)\n",
    "model6_total_pred_time, model6_time_per_pred"
   ]
  },
  {
   "cell_type": "code",
   "execution_count": 118,
   "metadata": {},
   "outputs": [
    {
     "data": {
      "text/plain": [
       "(0.010715180076658726, 1.406191611110069e-05)"
      ]
     },
     "execution_count": 118,
     "metadata": {},
     "output_type": "execute_result"
    }
   ],
   "source": [
    "model0_total_pred_time, model0_time_per_pred = pred_timer(model0, val_sentences)\n",
    "model0_total_pred_time, model0_time_per_pred"
   ]
  },
  {
   "cell_type": "code",
   "execution_count": 119,
   "metadata": {},
   "outputs": [
    {
     "data": {
      "image/png": "[encoded data removed]",
      "text/plain": [
       "<Figure size 1000x700 with 1 Axes>"
      ]
     },
     "metadata": {},
     "output_type": "display_data"
    }
   ],
   "source": [
    "import matplotlib.pyplot as plt\n",
    "\n",
    "plt.figure(figsize=(10, 7))\n",
    "plt.scatter(model0_time_per_pred, baseline_results[\"f1\"], label=\"baseline\")\n",
    "plt.scatter(model6_time_per_pred, model6_results[\"f1\"], label=\"tf_hub_sentence_encoder\")\n",
    "plt.legend()\n",
    "plt.title(\"F1-score versus time per prediction\")\n",
    "plt.xlabel(\"Time per prediction\")\n",
    "plt.ylabel(\"F1-Score\");"
   ]
  },
  {
   "cell_type": "markdown",
   "metadata": {},
   "source": [
    "![](https://raw.githubusercontent.com/mrdbourke/tensorflow-deep-learning/main/images/08-ideal-performance-speed-of-pred-tradeoff-highlighted.png)\n",
    "*Ideal position for speed and performance tradeoff model (fast predictions with great results).*\n",
    "\n",
    "Of course, the ideal position for each of these dots is to be in the top left of the plot (low time per prediction, high F1-score). \n",
    "\n",
    "In our case, there's a clear tradeoff for time per prediction and performance. Our best performing model takes an order of magnitude longer per prediction but only results in a few F1-score point increase.\n",
    "\n",
    "This kind of tradeoff is something you'll need to keep in mind when incorporating machine learning models into your own applications."
   ]
  },
  {
   "cell_type": "markdown",
   "metadata": {},
   "source": [
    "## 🛠 Exercises\n",
    "\n",
    "1. Rebuild, compile and train `model_1`, `model_2` and `model_5` using the [Keras Sequential API](https://www.tensorflow.org/api_docs/python/tf/keras/Sequential) instead of the Functional API.\n",
    "2. Retrain the baseline model with 10% of the training data. How does perform compared to the Universal Sentence Encoder model with 10% of the training data?\n",
    "3. Try fine-tuning the TF Hub Universal Sentence Encoder model by setting `training=True` when instantiating it as a Keras layer.\n",
    "\n",
    "```\n",
    "We can use this encoding layer in place of our text_vectorizer and embedding layer\n",
    "\n",
    "sentence_encoder_layer = hub.KerasLayer(\"https://tfhub.dev/google/universal-sentence-encoder/4\",\n",
    "                                        input_shape=[],\n",
    "                                        dtype=tf.string,\n",
    "                                        trainable=True) # turn training on to fine-tune the TensorFlow Hub model\n",
    "```\n",
    "4. Retrain the best model you've got so far on the whole training set (no validation split). Then use this trained model to make predictions on the test dataset and format the predictions into the same format as the `sample_submission.csv` file from Kaggle (see the Files tab in Colab for what the `sample_submission.csv` file looks like). Once you've done this, [make a submission to the Kaggle competition](https://www.kaggle.com/c/nlp-getting-started/data), how did your model perform?\n",
    "5. Combine the ensemble predictions using the majority vote (mode), how does this perform compare to averaging the prediction probabilities of each model?\n",
    "6. Make a confusion matrix with the best performing model's predictions on the validation set and the validation ground truth labels."
   ]
  },
  {
   "cell_type": "markdown",
   "metadata": {},
   "source": [
    "## 📖 Extra-curriculum \n",
    "\n",
    "To practice what you've learned, a good idea would be to spend an hour on 3 of the following (3-hours total, you could through them all if you want) and then write a blog post about what you've learned.\n",
    "\n",
    "* For an overview of the different problems within NLP and how to solve them read through: \n",
    " * [A Simple Introduction to Natural Language Processing](https://becominghuman.ai/a-simple-introduction-to-natural-language-processing-ea66a1747b32)\n",
    " * [How to solve 90% of NLP problems: a step-by-step guide](https://blog.insightdatascience.com/how-to-solve-90-of-nlp-problems-a-step-by-step-guide-fda605278e4e)\n",
    "* Go through [MIT's Recurrent Neural Networks lecture](https://youtu.be/SEnXr6v2ifU). This will be one of the greatest additions to what's happening behind the RNN model's you've been building.\n",
    "* Read through the [word embeddings page on the TensorFlow website](https://www.tensorflow.org/tutorials/text/word_embeddings). Embeddings are such a large part of NLP. We've covered them throughout this notebook but extra practice would be well worth it. A good exercise would be to write out all the code in the guide in a new notebook. \n",
    "* For more on RNN's in TensorFlow, read and reproduce [the TensorFlow RNN guide](https://www.tensorflow.org/guide/keras/rnn). We've covered many of the concepts in this guide, but it's worth writing the code again for yourself.\n",
    "* Text data doesn't always come in a nice package like the data we've downloaded. So if you're after more on preparing different text sources for being with your TensorFlow deep learning models, it's worth checking out the following:\n",
    " * [TensorFlow text loading tutorial](https://www.tensorflow.org/tutorials/load_data/text).\n",
    "  * [Reading text files with Python](https://realpython.com/read-write-files-python/) by Real Python.\n",
    "* This notebook has focused on writing NLP code. For a mathematically rich overview of how NLP with Deep Learning happens, read [Standford's Natural Language Processing with Deep Learning lecture notes Part 1](https://web.stanford.edu/class/cs224n/readings/cs224n-2019-notes01-wordvecs1.pdf).  \n",
    "  * For an even deeper dive, you could even do the whole [CS224n](http://web.stanford.edu/class/cs224n/) (Natural Language Processing with Deep Learning) course. \n",
    "* Great blog posts to read:\n",
    "  * Andrei Karpathy's [The Unreasonable Effectiveness of RNNs](https://karpathy.github.io/2015/05/21/rnn-effectiveness/) dives into generating Shakespeare text with RNNs.\n",
    "  * [Text Classification with NLP: Tf-Idf vs Word2Vec vs BERT](https://towardsdatascience.com/text-classification-with-nlp-tf-idf-vs-word2vec-vs-bert-41ff868d1794) by Mauro Di Pietro. An overview of different techniques for turning text into numbers and then classifying it.\n",
    "  * [What are word embeddings?](https://machinelearningmastery.com/what-are-word-embeddings/) by Machine Learning Mastery.\n",
    "* Other topics worth looking into:\n",
    "  * [Attention mechanisms](https://jalammar.github.io/visualizing-neural-machine-translation-mechanics-of-seq2seq-models-with-attention/). These are a foundational component of the transformer architecture and also often add improvments to deep NLP models.\n",
    "  * [Transformer architectures](http://jalammar.github.io/illustrated-transformer/). This model architecture has recently taken the NLP world by storm, achieving state of the art on many benchmarks. However, it does take a little more processing to get off the ground, the [HuggingFace Models (formerly HuggingFace Transformers) library](https://huggingface.co/models/) is probably your best quick start.\n",
    "    * And now [HuggingFace even have their own course](https://huggingface.co/course/chapter1) on how their library works! I haven't done it but anything HuggingFace makes is world-class.\n",
    "\n"
   ]
  },
  {
   "cell_type": "code",
   "execution_count": null,
   "metadata": {},
   "outputs": [],
   "source": []
  }
 ],
 "metadata": {
  "kernelspec": {
   "display_name": "torchai",
   "language": "python",
   "name": "python3"
  },
  "language_info": {
   "codemirror_mode": {
    "name": "ipython",
    "version": 3
   },
   "file_extension": ".py",
   "mimetype": "text/x-python",
   "name": "python",
   "nbconvert_exporter": "python",
   "pygments_lexer": "ipython3",
   "version": "3.9.20"
  }
 },
 "nbformat": 4,
 "nbformat_minor": 2
}
